{
 "cells": [
  {
   "cell_type": "markdown",
   "metadata": {},
   "source": [
    "# Задание 2.1 - Нейронные сети\n",
    "\n",
    "В этом задании вы реализуете и натренируете настоящую нейроную сеть своими руками!\n",
    "\n",
    "В некотором смысле это будет расширением прошлого задания - нам нужно просто составить несколько линейных классификаторов вместе!\n",
    "\n",
    "<img src=\"https://i.redd.it/n9fgba8b0qr01.png\" alt=\"Stack_more_layers\" width=\"400px\"/>"
   ]
  },
  {
   "cell_type": "code",
   "execution_count": 2,
   "metadata": {},
   "outputs": [],
   "source": [
    "import numpy as np\n",
    "import matplotlib.pyplot as plt\n",
    "\n",
    "%matplotlib inline\n",
    "\n",
    "%load_ext autoreload\n",
    "%autoreload 2"
   ]
  },
  {
   "cell_type": "code",
   "execution_count": 3,
   "metadata": {},
   "outputs": [],
   "source": [
    "from dataset import load_svhn, random_split_train_val\n",
    "from gradient_check import check_layer_gradient, check_layer_param_gradient, check_model_gradient\n",
    "from layers import FullyConnectedLayer, ReLULayer\n",
    "from model import TwoLayerNet\n",
    "from trainer import Trainer, Dataset\n",
    "from optim import SGD, MomentumSGD\n",
    "from metrics import multiclass_accuracy"
   ]
  },
  {
   "cell_type": "markdown",
   "metadata": {},
   "source": [
    "# Загружаем данные\n",
    "\n",
    "И разделяем их на training и validation."
   ]
  },
  {
   "cell_type": "code",
   "execution_count": 4,
   "metadata": {},
   "outputs": [],
   "source": [
    "def prepare_for_neural_network(train_X, test_X):\n",
    "    train_flat = train_X.reshape(train_X.shape[0], -1).astype(np.float) / 255.0\n",
    "    test_flat = test_X.reshape(test_X.shape[0], -1).astype(np.float) / 255.0\n",
    "    \n",
    "    # Subtract mean\n",
    "    mean_image = np.mean(train_flat, axis = 0)\n",
    "    train_flat -= mean_image\n",
    "    test_flat -= mean_image\n",
    "    \n",
    "    return train_flat, test_flat\n",
    "    \n",
    "train_X, train_y, test_X, test_y = load_svhn(\"data\", max_train=10000, max_test=1000)    \n",
    "train_X, test_X = prepare_for_neural_network(train_X, test_X)\n",
    "# Split train into train and val\n",
    "train_X, train_y, val_X, val_y = random_split_train_val(train_X, train_y, num_val = 1000)"
   ]
  },
  {
   "cell_type": "markdown",
   "metadata": {},
   "source": [
    "# Как всегда, начинаем с кирпичиков\n",
    "\n",
    "Мы будем реализовывать необходимые нам слои по очереди. Каждый слой должен реализовать:\n",
    "- прямой проход (forward pass), который генерирует выход слоя по входу и запоминает необходимые данные\n",
    "- обратный проход (backward pass), который получает градиент по выходу слоя и вычисляет градиент по входу и по параметрам\n",
    "\n",
    "Начнем с ReLU, у которого параметров нет."
   ]
  },
  {
   "cell_type": "code",
   "execution_count": 5,
   "metadata": {
    "scrolled": false
   },
   "outputs": [
    {
     "name": "stdout",
     "output_type": "stream",
     "text": [
      "Gradient check passed!\n"
     ]
    }
   ],
   "source": [
    "# TODO: Implement ReLULayer layer in layers.py\n",
    "# Note: you'll need to copy implementation of the gradient_check function from the previous assignment\n",
    "\n",
    "X = np.array([[1,-2,3],\n",
    "              [-1, 2, 0.1]\n",
    "              ])\n",
    "\n",
    "assert check_layer_gradient(ReLULayer(), X)"
   ]
  },
  {
   "cell_type": "markdown",
   "metadata": {},
   "source": [
    "А теперь реализуем полносвязный слой (fully connected layer), у которого будет два массива параметров: W (weights) и B (bias).\n",
    "\n",
    "Все параметры наши слои будут использовать для параметров специальный класс `Param`, в котором будут храниться значения параметров и градиенты этих параметров, вычисляемые во время обратного прохода.\n",
    "\n",
    "Это даст возможность аккумулировать (суммировать) градиенты из разных частей функции потерь, например, из cross-entropy loss и regularization loss."
   ]
  },
  {
   "cell_type": "code",
   "execution_count": 6,
   "metadata": {},
   "outputs": [
    {
     "name": "stdout",
     "output_type": "stream",
     "text": [
      "Gradient check passed!\n",
      "Gradient check passed!\n",
      "Gradient check passed!\n"
     ]
    }
   ],
   "source": [
    "# TODO: Implement FullyConnected layer forward and backward methods\n",
    "assert check_layer_gradient(FullyConnectedLayer(3, 4), X)\n",
    "# TODO: Implement storing gradients for W and B\n",
    "assert check_layer_param_gradient(FullyConnectedLayer(3, 4), X, 'W')\n",
    "assert check_layer_param_gradient(FullyConnectedLayer(3, 4), X, 'B')"
   ]
  },
  {
   "cell_type": "markdown",
   "metadata": {},
   "source": [
    "## Создаем нейронную сеть\n",
    "\n",
    "Теперь мы реализуем простейшую нейронную сеть с двумя полносвязным слоями и нелинейностью ReLU. Реализуйте функцию `compute_loss_and_gradients`, она должна запустить прямой и обратный проход через оба слоя для вычисления градиентов.\n",
    "\n",
    "Не забудьте реализовать очистку градиентов в начале функции."
   ]
  },
  {
   "cell_type": "code",
   "execution_count": 7,
   "metadata": {},
   "outputs": [
    {
     "name": "stdout",
     "output_type": "stream",
     "text": [
      "Checking gradient for W1\n",
      "Gradient check passed!\n",
      "Checking gradient for B1\n",
      "Gradient check passed!\n",
      "Checking gradient for W2\n",
      "Gradient check passed!\n",
      "Checking gradient for B2\n",
      "Gradient check passed!\n"
     ]
    },
    {
     "data": {
      "text/plain": [
       "True"
      ]
     },
     "execution_count": 7,
     "metadata": {},
     "output_type": "execute_result"
    }
   ],
   "source": [
    "# TODO: In model.py, implement compute_loss_and_gradients function\n",
    "model = TwoLayerNet(n_input = train_X.shape[1], n_output = 10, hidden_layer_size = 3, reg = 0)\n",
    "loss = model.compute_loss_and_gradients(train_X[:2], train_y[:2])\n",
    "\n",
    "# TODO Now implement backward pass and aggregate all of the params\n",
    "check_model_gradient(model, train_X[:2], train_y[:2])"
   ]
  },
  {
   "cell_type": "markdown",
   "metadata": {},
   "source": [
    "Теперь добавьте к модели регуляризацию - она должна прибавляться к loss и делать свой вклад в градиенты."
   ]
  },
  {
   "cell_type": "code",
   "execution_count": 8,
   "metadata": {},
   "outputs": [
    {
     "name": "stdout",
     "output_type": "stream",
     "text": [
      "Checking gradient for W1\n",
      "Gradient check passed!\n",
      "Checking gradient for B1\n",
      "Gradient check passed!\n",
      "Checking gradient for W2\n",
      "Gradient check passed!\n",
      "Checking gradient for B2\n",
      "Gradient check passed!\n"
     ]
    },
    {
     "data": {
      "text/plain": [
       "True"
      ]
     },
     "execution_count": 8,
     "metadata": {},
     "output_type": "execute_result"
    }
   ],
   "source": [
    "# TODO Now implement l2 regularization in the forward and backward pass\n",
    "model_with_reg = TwoLayerNet(n_input = train_X.shape[1], n_output = 10, hidden_layer_size = 3, reg = 1e1)\n",
    "loss_with_reg = model_with_reg.compute_loss_and_gradients(train_X[:2], train_y[:2])\n",
    "assert loss_with_reg > loss and not np.isclose(loss_with_reg, loss), \\\n",
    "    \"Loss with regularization (%2.4f) should be higher than without it (%2.4f)!\" % (loss, loss_with_reg)\n",
    "\n",
    "check_model_gradient(model_with_reg, train_X[:2], train_y[:2])"
   ]
  },
  {
   "cell_type": "markdown",
   "metadata": {},
   "source": [
    "Также реализуем функцию предсказания (вычисления значения) модели на новых данных.\n",
    "\n",
    "Какое значение точности мы ожидаем увидеть до начала тренировки?"
   ]
  },
  {
   "cell_type": "code",
   "execution_count": 10,
   "metadata": {},
   "outputs": [
    {
     "data": {
      "text/plain": [
       "0.1"
      ]
     },
     "execution_count": 10,
     "metadata": {},
     "output_type": "execute_result"
    }
   ],
   "source": [
    "# Finally, implement predict function!\n",
    "\n",
    "# TODO: Implement predict function\n",
    "# What would be the value we expect?\n",
    "multiclass_accuracy(model_with_reg.predict(train_X[:30]), train_y[:30]) "
   ]
  },
  {
   "cell_type": "markdown",
   "metadata": {},
   "source": [
    "# Допишем код для процесса тренировки"
   ]
  },
  {
   "cell_type": "code",
   "execution_count": 31,
   "metadata": {},
   "outputs": [
    {
     "name": "stdout",
     "output_type": "stream",
     "text": [
      "Loss: 2.057760, Train accuracy: 0.294444, val accuracy: 0.305000\n",
      "Loss: 1.719343, Train accuracy: 0.439889, val accuracy: 0.473000\n",
      "Loss: 1.991950, Train accuracy: 0.469556, val accuracy: 0.443000\n",
      "Loss: 1.644600, Train accuracy: 0.596556, val accuracy: 0.600000\n",
      "Loss: 1.604584, Train accuracy: 0.650667, val accuracy: 0.630000\n",
      "Loss: 1.226683, Train accuracy: 0.682444, val accuracy: 0.663000\n",
      "Loss: 1.366220, Train accuracy: 0.666444, val accuracy: 0.638000\n",
      "Loss: 1.416624, Train accuracy: 0.670222, val accuracy: 0.634000\n",
      "Loss: 1.186511, Train accuracy: 0.692667, val accuracy: 0.668000\n",
      "Loss: 1.162692, Train accuracy: 0.646556, val accuracy: 0.628000\n",
      "Loss: 1.279210, Train accuracy: 0.717444, val accuracy: 0.687000\n",
      "Loss: 1.391227, Train accuracy: 0.747000, val accuracy: 0.711000\n",
      "Loss: 1.244005, Train accuracy: 0.755333, val accuracy: 0.712000\n",
      "Loss: 1.657514, Train accuracy: 0.668444, val accuracy: 0.656000\n",
      "Loss: 0.940288, Train accuracy: 0.772889, val accuracy: 0.738000\n",
      "Loss: 1.259768, Train accuracy: 0.760000, val accuracy: 0.714000\n",
      "Loss: 1.190087, Train accuracy: 0.765889, val accuracy: 0.727000\n",
      "Loss: 1.229948, Train accuracy: 0.773333, val accuracy: 0.727000\n",
      "Loss: 1.060366, Train accuracy: 0.763111, val accuracy: 0.722000\n",
      "Loss: 1.033964, Train accuracy: 0.803111, val accuracy: 0.752000\n",
      "Loss: 1.128697, Train accuracy: 0.793333, val accuracy: 0.733000\n",
      "Loss: 1.298550, Train accuracy: 0.770444, val accuracy: 0.725000\n",
      "Loss: 0.951812, Train accuracy: 0.797333, val accuracy: 0.745000\n",
      "Loss: 1.181184, Train accuracy: 0.791222, val accuracy: 0.739000\n",
      "Loss: 1.101036, Train accuracy: 0.813222, val accuracy: 0.762000\n",
      "Loss: 1.167422, Train accuracy: 0.830111, val accuracy: 0.765000\n",
      "Loss: 1.134875, Train accuracy: 0.802667, val accuracy: 0.745000\n",
      "Loss: 1.089486, Train accuracy: 0.827444, val accuracy: 0.764000\n",
      "Loss: 1.093590, Train accuracy: 0.823444, val accuracy: 0.752000\n",
      "Loss: 1.096978, Train accuracy: 0.825222, val accuracy: 0.771000\n",
      "Loss: 1.128563, Train accuracy: 0.832667, val accuracy: 0.760000\n",
      "Loss: 0.977432, Train accuracy: 0.823889, val accuracy: 0.755000\n",
      "Loss: 0.949909, Train accuracy: 0.836111, val accuracy: 0.774000\n",
      "Loss: 1.161520, Train accuracy: 0.836222, val accuracy: 0.763000\n",
      "Loss: 0.971681, Train accuracy: 0.828667, val accuracy: 0.760000\n",
      "Loss: 1.082617, Train accuracy: 0.841333, val accuracy: 0.761000\n",
      "Loss: 0.964552, Train accuracy: 0.833556, val accuracy: 0.763000\n",
      "Loss: 1.044889, Train accuracy: 0.839111, val accuracy: 0.762000\n",
      "Loss: 0.990786, Train accuracy: 0.845222, val accuracy: 0.773000\n",
      "Loss: 1.023046, Train accuracy: 0.840778, val accuracy: 0.767000\n",
      "Loss: 1.028572, Train accuracy: 0.849889, val accuracy: 0.774000\n",
      "Loss: 1.030232, Train accuracy: 0.851000, val accuracy: 0.776000\n",
      "Loss: 1.058268, Train accuracy: 0.852778, val accuracy: 0.767000\n",
      "Loss: 0.862025, Train accuracy: 0.853778, val accuracy: 0.766000\n",
      "Loss: 1.149796, Train accuracy: 0.848778, val accuracy: 0.773000\n",
      "Loss: 0.805140, Train accuracy: 0.855111, val accuracy: 0.769000\n",
      "Loss: 0.925925, Train accuracy: 0.853667, val accuracy: 0.775000\n",
      "Loss: 0.916124, Train accuracy: 0.855667, val accuracy: 0.768000\n",
      "Loss: 1.056986, Train accuracy: 0.859444, val accuracy: 0.769000\n",
      "Loss: 1.079134, Train accuracy: 0.855778, val accuracy: 0.780000\n",
      "Loss: 1.047524, Train accuracy: 0.855444, val accuracy: 0.767000\n",
      "Loss: 1.027197, Train accuracy: 0.858000, val accuracy: 0.771000\n",
      "Loss: 1.011628, Train accuracy: 0.858222, val accuracy: 0.776000\n",
      "Loss: 0.993568, Train accuracy: 0.860333, val accuracy: 0.774000\n",
      "Loss: 0.948556, Train accuracy: 0.862667, val accuracy: 0.774000\n",
      "Loss: 1.013963, Train accuracy: 0.862667, val accuracy: 0.771000\n",
      "Loss: 1.055716, Train accuracy: 0.861222, val accuracy: 0.780000\n",
      "Loss: 0.942298, Train accuracy: 0.859444, val accuracy: 0.775000\n",
      "Loss: 1.007253, Train accuracy: 0.858111, val accuracy: 0.769000\n",
      "Loss: 0.960938, Train accuracy: 0.862111, val accuracy: 0.771000\n",
      "Loss: 1.006923, Train accuracy: 0.859444, val accuracy: 0.776000\n",
      "Loss: 0.922071, Train accuracy: 0.862333, val accuracy: 0.775000\n",
      "Loss: 0.975018, Train accuracy: 0.862222, val accuracy: 0.773000\n",
      "Loss: 0.881515, Train accuracy: 0.863667, val accuracy: 0.775000\n",
      "Loss: 0.954346, Train accuracy: 0.864111, val accuracy: 0.773000\n",
      "Loss: 0.963030, Train accuracy: 0.863000, val accuracy: 0.767000\n",
      "Loss: 0.971395, Train accuracy: 0.866111, val accuracy: 0.777000\n",
      "Loss: 0.967604, Train accuracy: 0.864000, val accuracy: 0.778000\n",
      "Loss: 0.970403, Train accuracy: 0.866444, val accuracy: 0.777000\n",
      "Loss: 0.972550, Train accuracy: 0.864667, val accuracy: 0.777000\n",
      "Loss: 0.943565, Train accuracy: 0.864333, val accuracy: 0.776000\n",
      "Loss: 1.039262, Train accuracy: 0.865889, val accuracy: 0.775000\n",
      "Loss: 0.883383, Train accuracy: 0.865000, val accuracy: 0.774000\n",
      "Loss: 0.886400, Train accuracy: 0.866111, val accuracy: 0.779000\n",
      "Loss: 0.961355, Train accuracy: 0.868556, val accuracy: 0.770000\n",
      "Loss: 0.927675, Train accuracy: 0.866667, val accuracy: 0.773000\n",
      "Loss: 0.861297, Train accuracy: 0.866333, val accuracy: 0.777000\n",
      "Loss: 0.918022, Train accuracy: 0.866111, val accuracy: 0.778000\n",
      "Loss: 0.991923, Train accuracy: 0.867111, val accuracy: 0.772000\n",
      "Loss: 0.926146, Train accuracy: 0.866889, val accuracy: 0.780000\n",
      "Loss: 0.964977, Train accuracy: 0.866667, val accuracy: 0.774000\n",
      "Loss: 0.930693, Train accuracy: 0.867444, val accuracy: 0.776000\n",
      "Loss: 1.037888, Train accuracy: 0.867889, val accuracy: 0.777000\n",
      "Loss: 0.953677, Train accuracy: 0.867444, val accuracy: 0.770000\n",
      "Loss: 0.883129, Train accuracy: 0.868111, val accuracy: 0.775000\n",
      "Loss: 0.898530, Train accuracy: 0.867889, val accuracy: 0.779000\n",
      "Loss: 0.876747, Train accuracy: 0.868222, val accuracy: 0.778000\n",
      "Loss: 0.962279, Train accuracy: 0.868333, val accuracy: 0.779000\n",
      "Loss: 1.098237, Train accuracy: 0.867667, val accuracy: 0.779000\n",
      "Loss: 0.919174, Train accuracy: 0.868667, val accuracy: 0.777000\n",
      "Loss: 0.787728, Train accuracy: 0.867333, val accuracy: 0.777000\n",
      "Loss: 0.913122, Train accuracy: 0.868000, val accuracy: 0.776000\n",
      "Loss: 0.957498, Train accuracy: 0.869000, val accuracy: 0.773000\n",
      "Loss: 0.911084, Train accuracy: 0.868778, val accuracy: 0.778000\n",
      "Loss: 0.937171, Train accuracy: 0.868667, val accuracy: 0.778000\n",
      "Loss: 1.007211, Train accuracy: 0.869111, val accuracy: 0.777000\n",
      "Loss: 1.041831, Train accuracy: 0.868778, val accuracy: 0.776000\n",
      "Loss: 1.007212, Train accuracy: 0.868778, val accuracy: 0.778000\n",
      "Loss: 0.971168, Train accuracy: 0.867889, val accuracy: 0.778000\n",
      "Loss: 0.957733, Train accuracy: 0.869222, val accuracy: 0.776000\n"
     ]
    }
   ],
   "source": [
    "model = TwoLayerNet(n_input = train_X.shape[1], n_output = 10, hidden_layer_size = 100, reg = 2e-3);\n",
    "dataset = Dataset(train_X, train_y, val_X, val_y);\n",
    "trainer = Trainer(model, dataset, SGD(),  num_epochs=100, batch_size=100,\n",
    "                  learning_rate=5e-1, learning_rate_decay= 0.95);\n",
    "\n",
    "# TODO Implement missing pieces in Trainer.fit function\n",
    "# You should expect loss to go down and train and val accuracy go up for every epoch\n",
    "loss_history, train_history, val_history = trainer.fit()"
   ]
  },
  {
   "cell_type": "code",
   "execution_count": 137,
   "metadata": {},
   "outputs": [
    {
     "data": {
      "text/plain": [
       "array([], shape=(0, 3072), dtype=float64)"
      ]
     },
     "execution_count": 137,
     "metadata": {},
     "output_type": "execute_result"
    }
   ],
   "source": [
    "train_X[model.predict(train_X) != 1]"
   ]
  },
  {
   "cell_type": "code",
   "execution_count": 138,
   "metadata": {},
   "outputs": [
    {
     "data": {
      "text/plain": [
       "array([9, 9, 2, ..., 4, 2, 7], dtype=uint8)"
      ]
     },
     "execution_count": 138,
     "metadata": {},
     "output_type": "execute_result"
    }
   ],
   "source": [
    "train_y"
   ]
  },
  {
   "cell_type": "code",
   "execution_count": 87,
   "metadata": {},
   "outputs": [
    {
     "data": {
      "text/plain": [
       "array([], dtype=float64)"
      ]
     },
     "execution_count": 87,
     "metadata": {},
     "output_type": "execute_result"
    }
   ],
   "source": [
    "def ReLU(x):\n",
    "    if x <= 0:\n",
    "        return 0;\n",
    "    else:\n",
    "        return x;\n",
    "ReLU_vec = np.vectorize(ReLU);\n",
    "train_X[ReLU_vec(train_X) != 0]"
   ]
  },
  {
   "cell_type": "code",
   "execution_count": 125,
   "metadata": {},
   "outputs": [
    {
     "data": {
      "text/plain": [
       "array([[-0.00556424, -0.09435869,  0.03639462, ..., -0.04261243,\n",
       "        -0.0142407 ,  0.00747237],\n",
       "       [ 0.05163572, -0.03210228, -0.12341721, ..., -0.07673125,\n",
       "        -0.04427367,  0.03418579],\n",
       "       [ 0.0291382 , -0.13347813,  0.10673527, ..., -0.12533339,\n",
       "        -0.17111128,  0.17753805],\n",
       "       ...,\n",
       "       [-0.04698936,  0.06786603,  0.14767927, ...,  0.18108778,\n",
       "        -0.19593707,  0.1683284 ],\n",
       "       [ 0.05709941, -0.07118075,  0.03228007, ..., -0.05660634,\n",
       "        -0.08559159,  0.01294359],\n",
       "       [-0.09822198,  0.02603044, -0.08626622, ..., -0.02377788,\n",
       "         0.19828588, -0.10664486]])"
      ]
     },
     "execution_count": 125,
     "metadata": {},
     "output_type": "execute_result"
    }
   ],
   "source": [
    "val_X_W = model.first.forward(val_X)\n",
    "val_X_W"
   ]
  },
  {
   "cell_type": "code",
   "execution_count": 129,
   "metadata": {},
   "outputs": [
    {
     "data": {
      "text/plain": [
       "array([[-0.01989247,  0.04440292,  0.02263099, ..., -0.01170753,\n",
       "        -0.01648181, -0.02279673],\n",
       "       [-0.03063926,  0.04926423,  0.01826205, ..., -0.00879785,\n",
       "        -0.02016882, -0.0206548 ],\n",
       "       [-0.03525055,  0.05568415,  0.01902814, ..., -0.01872941,\n",
       "        -0.02461335, -0.02979322],\n",
       "       ...,\n",
       "       [-0.02202615,  0.05900462,  0.03046579, ..., -0.0147141 ,\n",
       "        -0.02523863, -0.03419507],\n",
       "       [-0.0255983 ,  0.05173633,  0.02635005, ..., -0.01342511,\n",
       "        -0.02148434, -0.01652237],\n",
       "       [-0.02120345,  0.04254539,  0.01435306, ..., -0.00136476,\n",
       "        -0.0077448 , -0.02214069]])"
      ]
     },
     "execution_count": 129,
     "metadata": {},
     "output_type": "execute_result"
    }
   ],
   "source": [
    "model.second.forward(model.ReLU.forward(val_X_W))"
   ]
  },
  {
   "cell_type": "code",
   "execution_count": 32,
   "metadata": {},
   "outputs": [
    {
     "data": {
      "text/plain": [
       "[<matplotlib.lines.Line2D at 0x7faab46dceb8>]"
      ]
     },
     "execution_count": 32,
     "metadata": {},
     "output_type": "execute_result"
    },
    {
     "data": {
      "image/png": "[encoded data removed]",
      "text/plain": [
       "<Figure size 432x288 with 1 Axes>"
      ]
     },
     "metadata": {
      "needs_background": "light"
     },
     "output_type": "display_data"
    }
   ],
   "source": [
    "plt.plot(train_history)\n",
    "plt.plot(val_history)"
   ]
  },
  {
   "cell_type": "code",
   "execution_count": 33,
   "metadata": {},
   "outputs": [
    {
     "data": {
      "text/plain": [
       "[<matplotlib.lines.Line2D at 0x7faab4661cc0>]"
      ]
     },
     "execution_count": 33,
     "metadata": {},
     "output_type": "execute_result"
    },
    {
     "data": {
      "image/png": "[encoded data removed]",
      "text/plain": [
       "<Figure size 432x288 with 1 Axes>"
      ]
     },
     "metadata": {
      "needs_background": "light"
     },
     "output_type": "display_data"
    }
   ],
   "source": [
    "plt.plot(loss_history)"
   ]
  },
  {
   "cell_type": "markdown",
   "metadata": {},
   "source": [
    "# Улучшаем процесс тренировки\n",
    "\n",
    "Мы реализуем несколько ключевых оптимизаций, необходимых для тренировки современных нейросетей."
   ]
  },
  {
   "cell_type": "markdown",
   "metadata": {},
   "source": [
    "## Уменьшение скорости обучения (learning rate decay)\n",
    "\n",
    "Одна из необходимых оптимизаций во время тренировки нейронных сетей - постепенное уменьшение скорости обучения по мере тренировки.\n",
    "\n",
    "Один из стандартных методов - уменьшение скорости обучения (learning rate) каждые N эпох на коэффициент d (часто называемый decay). Значения N и d, как всегда, являются гиперпараметрами и должны подбираться на основе эффективности на проверочных данных (validation data). \n",
    "\n",
    "В нашем случае N будет равным 1."
   ]
  },
  {
   "cell_type": "code",
   "execution_count": 37,
   "metadata": {},
   "outputs": [
    {
     "name": "stdout",
     "output_type": "stream",
     "text": [
      "Loss: 2.023491, Train accuracy: 0.289778, val accuracy: 0.295000\n",
      "Loss: 1.598660, Train accuracy: 0.494333, val accuracy: 0.498000\n",
      "Loss: 1.480496, Train accuracy: 0.570556, val accuracy: 0.566000\n",
      "Loss: 1.411475, Train accuracy: 0.536444, val accuracy: 0.542000\n",
      "Loss: 1.341957, Train accuracy: 0.614778, val accuracy: 0.607000\n",
      "Loss: 1.621627, Train accuracy: 0.519889, val accuracy: 0.501000\n",
      "Loss: 1.347271, Train accuracy: 0.666444, val accuracy: 0.628000\n",
      "Loss: 1.264947, Train accuracy: 0.701778, val accuracy: 0.666000\n",
      "Loss: 1.380224, Train accuracy: 0.651778, val accuracy: 0.621000\n",
      "Loss: 1.116376, Train accuracy: 0.713000, val accuracy: 0.685000\n"
     ]
    }
   ],
   "source": [
    "# TODO Implement learning rate decay inside Trainer.fit method\n",
    "# Decay should happen once per epoch\n",
    "\n",
    "model = TwoLayerNet(n_input = train_X.shape[1], n_output = 10, hidden_layer_size = 100, reg = 1e-3)\n",
    "dataset = Dataset(train_X, train_y, val_X, val_y)\n",
    "trainer = Trainer(model, dataset, SGD(),  num_epochs=10, batch_size=100,\n",
    "                  learning_rate=5e-1, learning_rate_decay=0.99)\n",
    "\n",
    "initial_learning_rate = trainer.learning_rate\n",
    "loss_history, train_history, val_history = trainer.fit()\n",
    "\n",
    "assert trainer.learning_rate < initial_learning_rate, \"Learning rate should've been reduced\"\n",
    "assert trainer.learning_rate > 0.5*initial_learning_rate, \"Learning rate shouldn'tve been reduced that much!\""
   ]
  },
  {
   "cell_type": "markdown",
   "metadata": {},
   "source": [
    "# Накопление импульса (Momentum SGD)\n",
    "\n",
    "Другой большой класс оптимизаций - использование более эффективных методов градиентного спуска. Мы реализуем один из них - накопление импульса (Momentum SGD).\n",
    "\n",
    "Этот метод хранит скорость движения, использует градиент для ее изменения на каждом шаге, и изменяет веса пропорционально значению скорости.\n",
    "(Физическая аналогия: Вместо скорости градиенты теперь будут задавать ускорение, но будет присутствовать сила трения.)\n",
    "\n",
    "```\n",
    "velocity = momentum * velocity - learning_rate * gradient \n",
    "w = w + velocity\n",
    "```\n",
    "\n",
    "`momentum` здесь коэффициент затухания, который тоже является гиперпараметром (к счастью, для него часто есть хорошее значение по умолчанию, типичный диапазон -- 0.8-0.99).\n",
    "\n",
    "Несколько полезных ссылок, где метод разбирается более подробно:  \n",
    "http://cs231n.github.io/neural-networks-3/#sgd  \n",
    "https://distill.pub/2017/momentum/"
   ]
  },
  {
   "cell_type": "code",
   "execution_count": 58,
   "metadata": {},
   "outputs": [
    {
     "name": "stdout",
     "output_type": "stream",
     "text": [
      "Loss: 1.577062, Train accuracy: 0.474111, val accuracy: 0.432000\n",
      "Loss: 1.921048, Train accuracy: 0.600444, val accuracy: 0.584000\n",
      "Loss: 1.278775, Train accuracy: 0.552778, val accuracy: 0.542000\n",
      "Loss: 1.560019, Train accuracy: 0.621778, val accuracy: 0.589000\n",
      "Loss: 1.317357, Train accuracy: 0.647000, val accuracy: 0.617000\n",
      "Loss: 1.640894, Train accuracy: 0.627444, val accuracy: 0.595000\n",
      "Loss: 1.192661, Train accuracy: 0.673333, val accuracy: 0.653000\n",
      "Loss: 1.173557, Train accuracy: 0.669444, val accuracy: 0.649000\n",
      "Loss: 1.703374, Train accuracy: 0.607556, val accuracy: 0.567000\n",
      "Loss: 1.195787, Train accuracy: 0.701778, val accuracy: 0.638000\n"
     ]
    }
   ],
   "source": [
    "# TODO: Implement MomentumSGD.update function in optim.py\n",
    "\n",
    "model = TwoLayerNet(n_input = train_X.shape[1], n_output = 10, hidden_layer_size = 100, reg = 1e-3)\n",
    "dataset = Dataset(train_X, train_y, val_X, val_y)\n",
    "trainer = Trainer(model, dataset, MomentumSGD(), num_epochs=10, batch_size=30,\n",
    "                  learning_rate=5e-2, learning_rate_decay=0.99)\n",
    "\n",
    "# You should see even better results than before!\n",
    "loss_history, train_history, val_history = trainer.fit()"
   ]
  },
  {
   "cell_type": "markdown",
   "metadata": {},
   "source": [
    "# Ну что, давайте уже тренировать сеть!"
   ]
  },
  {
   "cell_type": "markdown",
   "metadata": {},
   "source": [
    "## Последний тест - переобучимся (overfit) на маленьком наборе данных\n",
    "\n",
    "Хороший способ проверить, все ли реализовано корректно - переобучить сеть на маленьком наборе данных.  \n",
    "Наша модель обладает достаточной мощностью, чтобы приблизить маленький набор данных идеально, поэтому мы ожидаем, что на нем мы быстро дойдем до 100% точности на тренировочном наборе. \n",
    "\n",
    "Если этого не происходит, то где-то была допущена ошибка!"
   ]
  },
  {
   "cell_type": "code",
   "execution_count": 45,
   "metadata": {},
   "outputs": [
    {
     "name": "stdout",
     "output_type": "stream",
     "text": [
      "Loss: 5.159348, Train accuracy: 0.400000, val accuracy: 0.066667\n",
      "Loss: 4.833924, Train accuracy: 0.400000, val accuracy: 0.066667\n",
      "Loss: 4.471562, Train accuracy: 0.333333, val accuracy: 0.066667\n",
      "Loss: 4.171224, Train accuracy: 0.400000, val accuracy: 0.066667\n",
      "Loss: 3.780857, Train accuracy: 0.400000, val accuracy: 0.000000\n",
      "Loss: 3.386390, Train accuracy: 0.333333, val accuracy: 0.000000\n",
      "Loss: 3.043319, Train accuracy: 0.333333, val accuracy: 0.000000\n",
      "Loss: 2.915739, Train accuracy: 0.400000, val accuracy: 0.000000\n",
      "Loss: 3.152023, Train accuracy: 0.400000, val accuracy: 0.000000\n",
      "Loss: 2.747371, Train accuracy: 0.400000, val accuracy: 0.000000\n",
      "Loss: 2.351243, Train accuracy: 0.400000, val accuracy: 0.000000\n",
      "Loss: 2.829886, Train accuracy: 0.466667, val accuracy: 0.000000\n",
      "Loss: 2.646840, Train accuracy: 0.466667, val accuracy: 0.000000\n",
      "Loss: 2.369119, Train accuracy: 0.466667, val accuracy: 0.000000\n",
      "Loss: 2.203926, Train accuracy: 0.600000, val accuracy: 0.000000\n",
      "Loss: 1.852941, Train accuracy: 0.533333, val accuracy: 0.000000\n",
      "Loss: 2.300644, Train accuracy: 0.666667, val accuracy: 0.000000\n",
      "Loss: 1.940125, Train accuracy: 0.533333, val accuracy: 0.000000\n",
      "Loss: 2.320395, Train accuracy: 0.666667, val accuracy: 0.000000\n",
      "Loss: 1.971270, Train accuracy: 0.733333, val accuracy: 0.066667\n",
      "Loss: 2.011852, Train accuracy: 0.800000, val accuracy: 0.066667\n",
      "Loss: 2.052266, Train accuracy: 0.733333, val accuracy: 0.133333\n",
      "Loss: 2.263934, Train accuracy: 0.800000, val accuracy: 0.133333\n",
      "Loss: 2.084981, Train accuracy: 0.800000, val accuracy: 0.066667\n",
      "Loss: 1.673593, Train accuracy: 0.800000, val accuracy: 0.066667\n",
      "Loss: 1.436405, Train accuracy: 0.733333, val accuracy: 0.066667\n",
      "Loss: 1.401208, Train accuracy: 0.733333, val accuracy: 0.000000\n",
      "Loss: 1.200151, Train accuracy: 0.800000, val accuracy: 0.066667\n",
      "Loss: 1.280173, Train accuracy: 0.800000, val accuracy: 0.066667\n",
      "Loss: 1.434800, Train accuracy: 0.800000, val accuracy: 0.133333\n",
      "Loss: 1.497077, Train accuracy: 0.800000, val accuracy: 0.066667\n",
      "Loss: 1.300072, Train accuracy: 0.800000, val accuracy: 0.133333\n",
      "Loss: 1.985589, Train accuracy: 0.800000, val accuracy: 0.066667\n",
      "Loss: 1.027857, Train accuracy: 0.800000, val accuracy: 0.066667\n",
      "Loss: 1.225706, Train accuracy: 0.800000, val accuracy: 0.000000\n",
      "Loss: 1.279258, Train accuracy: 0.800000, val accuracy: 0.066667\n",
      "Loss: 1.772020, Train accuracy: 0.800000, val accuracy: 0.000000\n",
      "Loss: 0.992930, Train accuracy: 0.800000, val accuracy: 0.000000\n",
      "Loss: 1.452200, Train accuracy: 0.800000, val accuracy: 0.066667\n",
      "Loss: 1.516582, Train accuracy: 0.933333, val accuracy: 0.000000\n",
      "Loss: 1.208096, Train accuracy: 0.933333, val accuracy: 0.000000\n",
      "Loss: 0.844603, Train accuracy: 0.933333, val accuracy: 0.000000\n",
      "Loss: 1.197143, Train accuracy: 0.933333, val accuracy: 0.000000\n",
      "Loss: 1.526560, Train accuracy: 0.933333, val accuracy: 0.000000\n",
      "Loss: 0.969449, Train accuracy: 0.933333, val accuracy: 0.000000\n",
      "Loss: 1.227740, Train accuracy: 0.933333, val accuracy: 0.000000\n",
      "Loss: 1.236175, Train accuracy: 0.933333, val accuracy: 0.000000\n",
      "Loss: 1.219683, Train accuracy: 0.933333, val accuracy: 0.000000\n",
      "Loss: 1.209267, Train accuracy: 0.933333, val accuracy: 0.000000\n",
      "Loss: 1.458500, Train accuracy: 0.933333, val accuracy: 0.000000\n",
      "Loss: 1.107501, Train accuracy: 0.933333, val accuracy: 0.000000\n",
      "Loss: 1.508022, Train accuracy: 0.933333, val accuracy: 0.000000\n",
      "Loss: 1.194399, Train accuracy: 1.000000, val accuracy: 0.066667\n",
      "Loss: 1.216503, Train accuracy: 1.000000, val accuracy: 0.000000\n",
      "Loss: 1.152592, Train accuracy: 1.000000, val accuracy: 0.000000\n",
      "Loss: 1.325043, Train accuracy: 1.000000, val accuracy: 0.000000\n",
      "Loss: 1.217868, Train accuracy: 1.000000, val accuracy: 0.000000\n",
      "Loss: 1.387153, Train accuracy: 1.000000, val accuracy: 0.000000\n",
      "Loss: 1.221969, Train accuracy: 1.000000, val accuracy: 0.000000\n",
      "Loss: 1.219313, Train accuracy: 1.000000, val accuracy: 0.000000\n",
      "Loss: 1.144614, Train accuracy: 0.933333, val accuracy: 0.000000\n",
      "Loss: 1.433915, Train accuracy: 1.000000, val accuracy: 0.000000\n",
      "Loss: 1.072342, Train accuracy: 1.000000, val accuracy: 0.000000\n",
      "Loss: 1.109718, Train accuracy: 1.000000, val accuracy: 0.000000\n",
      "Loss: 1.501091, Train accuracy: 1.000000, val accuracy: 0.000000\n",
      "Loss: 1.354585, Train accuracy: 1.000000, val accuracy: 0.000000\n",
      "Loss: 1.316890, Train accuracy: 1.000000, val accuracy: 0.000000\n",
      "Loss: 1.085719, Train accuracy: 1.000000, val accuracy: 0.000000\n",
      "Loss: 1.228837, Train accuracy: 1.000000, val accuracy: 0.000000\n",
      "Loss: 1.099689, Train accuracy: 1.000000, val accuracy: 0.000000\n",
      "Loss: 1.181471, Train accuracy: 1.000000, val accuracy: 0.000000\n",
      "Loss: 1.310800, Train accuracy: 1.000000, val accuracy: 0.000000\n",
      "Loss: 1.267077, Train accuracy: 1.000000, val accuracy: 0.000000\n",
      "Loss: 1.246269, Train accuracy: 1.000000, val accuracy: 0.000000\n",
      "Loss: 1.183298, Train accuracy: 1.000000, val accuracy: 0.000000\n",
      "Loss: 1.394218, Train accuracy: 1.000000, val accuracy: 0.000000\n",
      "Loss: 1.305020, Train accuracy: 1.000000, val accuracy: 0.066667\n",
      "Loss: 1.184897, Train accuracy: 1.000000, val accuracy: 0.000000\n",
      "Loss: 1.072109, Train accuracy: 1.000000, val accuracy: 0.000000\n",
      "Loss: 1.151937, Train accuracy: 1.000000, val accuracy: 0.000000\n"
     ]
    }
   ],
   "source": [
    "data_size = 15\n",
    "model = TwoLayerNet(n_input = train_X.shape[1], n_output = 10, hidden_layer_size = 100, reg = 1e-1)\n",
    "dataset = Dataset(train_X[:data_size], train_y[:data_size], val_X[:data_size], val_y[:data_size])\n",
    "trainer = Trainer(model, dataset, SGD(), learning_rate=1e-1, num_epochs=80, batch_size=5)\n",
    "\n",
    "# You should expect this to reach 1.0 training accuracy \n",
    "loss_history, train_history, val_history = trainer.fit()"
   ]
  },
  {
   "cell_type": "markdown",
   "metadata": {},
   "source": [
    "Теперь найдем гипепараметры, для которых этот процесс сходится быстрее.\n",
    "Если все реализовано корректно, то существуют параметры, при которых процесс сходится в **20** эпох или еще быстрее.\n",
    "Найдите их!"
   ]
  },
  {
   "cell_type": "code",
   "execution_count": 53,
   "metadata": {},
   "outputs": [
    {
     "name": "stdout",
     "output_type": "stream",
     "text": [
      "Loss: 2.291590, Train accuracy: 0.333333, val accuracy: 0.066667\n",
      "Loss: 2.239213, Train accuracy: 0.333333, val accuracy: 0.066667\n",
      "Loss: 2.380944, Train accuracy: 0.333333, val accuracy: 0.000000\n",
      "Loss: 2.440659, Train accuracy: 0.466667, val accuracy: 0.000000\n",
      "Loss: 2.070347, Train accuracy: 0.533333, val accuracy: 0.066667\n",
      "Loss: 1.450373, Train accuracy: 0.533333, val accuracy: 0.066667\n",
      "Loss: 1.413522, Train accuracy: 0.600000, val accuracy: 0.000000\n",
      "Loss: 2.065331, Train accuracy: 0.666667, val accuracy: 0.133333\n",
      "Loss: 1.050814, Train accuracy: 0.666667, val accuracy: 0.133333\n",
      "Loss: 1.151135, Train accuracy: 0.733333, val accuracy: 0.066667\n",
      "Loss: 1.062394, Train accuracy: 0.866667, val accuracy: 0.000000\n",
      "Loss: 0.504070, Train accuracy: 0.933333, val accuracy: 0.133333\n",
      "Loss: 0.473419, Train accuracy: 0.933333, val accuracy: 0.066667\n",
      "Loss: 0.611069, Train accuracy: 0.933333, val accuracy: 0.000000\n",
      "Loss: 0.639213, Train accuracy: 1.000000, val accuracy: 0.066667\n",
      "Loss: 0.410893, Train accuracy: 1.000000, val accuracy: 0.000000\n",
      "Loss: 0.219203, Train accuracy: 1.000000, val accuracy: 0.000000\n",
      "Loss: 0.066726, Train accuracy: 1.000000, val accuracy: 0.000000\n",
      "Loss: 0.162286, Train accuracy: 1.000000, val accuracy: 0.000000\n",
      "Loss: 0.045190, Train accuracy: 1.000000, val accuracy: 0.000000\n"
     ]
    }
   ],
   "source": [
    "# Now, tweak some hyper parameters and make it train to 1.0 accuracy in 20 epochs or less\n",
    "\n",
    "model = TwoLayerNet(n_input = train_X.shape[1], n_output = 10, hidden_layer_size = 100, reg = 0)\n",
    "dataset = Dataset(train_X[:data_size], train_y[:data_size], val_X[:data_size], val_y[:data_size])\n",
    "# TODO: Change any hyperparamers or optimizators to reach training accuracy in 20 epochs\n",
    "trainer = Trainer(model, dataset, SGD(), learning_rate=1e-1, num_epochs=20, batch_size=3)\n",
    "\n",
    "loss_history, train_history, val_history = trainer.fit()"
   ]
  },
  {
   "cell_type": "markdown",
   "metadata": {},
   "source": [
    "# Итак, основное мероприятие!\n",
    "\n",
    "Натренируйте лучшую нейросеть! Можно добавлять и изменять параметры, менять количество нейронов в слоях сети и как угодно экспериментировать. \n",
    "\n",
    "Добейтесь точности лучше **40%** на validation set."
   ]
  },
  {
   "cell_type": "code",
   "execution_count": 67,
   "metadata": {
    "scrolled": true
   },
   "outputs": [
    {
     "name": "stdout",
     "output_type": "stream",
     "text": [
      "Loss: 1.743276, Train accuracy: 0.373667, val accuracy: 0.392000\n",
      "Loss: 1.610870, Train accuracy: 0.542000, val accuracy: 0.530000\n",
      "Loss: 1.667678, Train accuracy: 0.621222, val accuracy: 0.614000\n",
      "Loss: 1.273217, Train accuracy: 0.669333, val accuracy: 0.633000\n",
      "Loss: 1.688855, Train accuracy: 0.656778, val accuracy: 0.622000\n",
      "Loss: 1.079257, Train accuracy: 0.705667, val accuracy: 0.673000\n",
      "Loss: 1.227188, Train accuracy: 0.720222, val accuracy: 0.686000\n",
      "Loss: 1.165690, Train accuracy: 0.724333, val accuracy: 0.681000\n",
      "Loss: 0.960097, Train accuracy: 0.741444, val accuracy: 0.687000\n",
      "Loss: 1.189171, Train accuracy: 0.737000, val accuracy: 0.693000\n",
      "Loss: 1.218992, Train accuracy: 0.760556, val accuracy: 0.713000\n",
      "Loss: 1.304661, Train accuracy: 0.736889, val accuracy: 0.688000\n",
      "Loss: 1.421084, Train accuracy: 0.746333, val accuracy: 0.676000\n",
      "Loss: 1.397406, Train accuracy: 0.757000, val accuracy: 0.698000\n",
      "Loss: 1.115847, Train accuracy: 0.740556, val accuracy: 0.678000\n",
      "Loss: 1.150359, Train accuracy: 0.755889, val accuracy: 0.675000\n",
      "Loss: 1.238597, Train accuracy: 0.782667, val accuracy: 0.704000\n",
      "Loss: 1.445391, Train accuracy: 0.756111, val accuracy: 0.697000\n",
      "Loss: 1.221729, Train accuracy: 0.777667, val accuracy: 0.708000\n",
      "Loss: 1.227693, Train accuracy: 0.742444, val accuracy: 0.673000\n",
      "Loss: 1.215597, Train accuracy: 0.782889, val accuracy: 0.707000\n",
      "Loss: 1.039257, Train accuracy: 0.785000, val accuracy: 0.694000\n",
      "Loss: 1.162473, Train accuracy: 0.757222, val accuracy: 0.684000\n",
      "Loss: 1.156418, Train accuracy: 0.759778, val accuracy: 0.684000\n",
      "Loss: 1.151415, Train accuracy: 0.813000, val accuracy: 0.729000\n",
      "Loss: 1.236868, Train accuracy: 0.793667, val accuracy: 0.724000\n",
      "Loss: 1.268407, Train accuracy: 0.788778, val accuracy: 0.698000\n",
      "Loss: 1.278146, Train accuracy: 0.798111, val accuracy: 0.722000\n",
      "Loss: 0.994011, Train accuracy: 0.783889, val accuracy: 0.699000\n",
      "Loss: 1.234244, Train accuracy: 0.807111, val accuracy: 0.716000\n",
      "Loss: 1.243254, Train accuracy: 0.798556, val accuracy: 0.720000\n",
      "Loss: 1.074333, Train accuracy: 0.796667, val accuracy: 0.717000\n",
      "Loss: 1.145668, Train accuracy: 0.793444, val accuracy: 0.709000\n",
      "Loss: 1.030971, Train accuracy: 0.795778, val accuracy: 0.712000\n",
      "Loss: 0.995358, Train accuracy: 0.811667, val accuracy: 0.735000\n",
      "Loss: 1.129479, Train accuracy: 0.814222, val accuracy: 0.726000\n",
      "Loss: 1.400140, Train accuracy: 0.782222, val accuracy: 0.680000\n",
      "Loss: 1.035359, Train accuracy: 0.821111, val accuracy: 0.717000\n",
      "Loss: 1.218216, Train accuracy: 0.812444, val accuracy: 0.722000\n",
      "Loss: 1.168491, Train accuracy: 0.834333, val accuracy: 0.740000\n",
      "Loss: 0.989449, Train accuracy: 0.796000, val accuracy: 0.705000\n",
      "Loss: 0.928764, Train accuracy: 0.818222, val accuracy: 0.717000\n",
      "Loss: 1.106439, Train accuracy: 0.786111, val accuracy: 0.680000\n",
      "Loss: 0.949846, Train accuracy: 0.825333, val accuracy: 0.741000\n",
      "Loss: 1.114411, Train accuracy: 0.832556, val accuracy: 0.725000\n",
      "Loss: 1.038213, Train accuracy: 0.804444, val accuracy: 0.710000\n",
      "Loss: 1.079139, Train accuracy: 0.818778, val accuracy: 0.727000\n",
      "Loss: 1.034110, Train accuracy: 0.822444, val accuracy: 0.728000\n",
      "Loss: 0.858759, Train accuracy: 0.834778, val accuracy: 0.722000\n",
      "Loss: 0.963532, Train accuracy: 0.823000, val accuracy: 0.724000\n",
      "Loss: 0.989006, Train accuracy: 0.840667, val accuracy: 0.731000\n",
      "Loss: 0.894170, Train accuracy: 0.836667, val accuracy: 0.740000\n",
      "Loss: 1.048599, Train accuracy: 0.825111, val accuracy: 0.718000\n",
      "Loss: 1.215989, Train accuracy: 0.818000, val accuracy: 0.713000\n",
      "Loss: 0.982781, Train accuracy: 0.825222, val accuracy: 0.718000\n",
      "Loss: 1.037981, Train accuracy: 0.838556, val accuracy: 0.731000\n",
      "Loss: 0.953691, Train accuracy: 0.832889, val accuracy: 0.724000\n",
      "Loss: 1.075208, Train accuracy: 0.849111, val accuracy: 0.736000\n",
      "Loss: 0.913716, Train accuracy: 0.852222, val accuracy: 0.730000\n",
      "Loss: 0.979647, Train accuracy: 0.865222, val accuracy: 0.763000\n",
      "Loss: 1.044378, Train accuracy: 0.825889, val accuracy: 0.718000\n",
      "Loss: 0.912837, Train accuracy: 0.809000, val accuracy: 0.720000\n",
      "Loss: 1.007592, Train accuracy: 0.848667, val accuracy: 0.742000\n",
      "Loss: 0.828044, Train accuracy: 0.837333, val accuracy: 0.736000\n",
      "Loss: 0.895170, Train accuracy: 0.868444, val accuracy: 0.746000\n",
      "Loss: 0.928527, Train accuracy: 0.846000, val accuracy: 0.748000\n",
      "Loss: 0.904274, Train accuracy: 0.857333, val accuracy: 0.744000\n",
      "Loss: 0.871565, Train accuracy: 0.873444, val accuracy: 0.746000\n",
      "Loss: 0.918455, Train accuracy: 0.857333, val accuracy: 0.741000\n",
      "Loss: 1.145318, Train accuracy: 0.811556, val accuracy: 0.716000\n",
      "Loss: 1.021040, Train accuracy: 0.852889, val accuracy: 0.744000\n",
      "Loss: 1.028453, Train accuracy: 0.859667, val accuracy: 0.760000\n",
      "Loss: 0.930704, Train accuracy: 0.871111, val accuracy: 0.745000\n",
      "Loss: 0.881517, Train accuracy: 0.866556, val accuracy: 0.754000\n",
      "Loss: 0.880905, Train accuracy: 0.886778, val accuracy: 0.763000\n",
      "Loss: 0.942066, Train accuracy: 0.847667, val accuracy: 0.738000\n",
      "Loss: 0.861154, Train accuracy: 0.877444, val accuracy: 0.750000\n",
      "Loss: 0.996219, Train accuracy: 0.869778, val accuracy: 0.746000\n",
      "Loss: 0.944638, Train accuracy: 0.860667, val accuracy: 0.742000\n",
      "Loss: 0.956469, Train accuracy: 0.872778, val accuracy: 0.750000\n",
      "Loss: 0.894449, Train accuracy: 0.877444, val accuracy: 0.755000\n",
      "Loss: 0.838482, Train accuracy: 0.872556, val accuracy: 0.747000\n",
      "Loss: 0.807193, Train accuracy: 0.875889, val accuracy: 0.749000\n",
      "Loss: 0.936702, Train accuracy: 0.878778, val accuracy: 0.761000\n",
      "Loss: 0.797635, Train accuracy: 0.876889, val accuracy: 0.758000\n",
      "Loss: 0.896070, Train accuracy: 0.884000, val accuracy: 0.747000\n",
      "Loss: 0.962982, Train accuracy: 0.856222, val accuracy: 0.743000\n",
      "Loss: 0.902790, Train accuracy: 0.871000, val accuracy: 0.738000\n",
      "Loss: 0.911869, Train accuracy: 0.889111, val accuracy: 0.759000\n",
      "Loss: 0.922656, Train accuracy: 0.878667, val accuracy: 0.764000\n",
      "Loss: 0.734755, Train accuracy: 0.869778, val accuracy: 0.744000\n",
      "Loss: 0.868990, Train accuracy: 0.878556, val accuracy: 0.743000\n",
      "Loss: 1.045162, Train accuracy: 0.855667, val accuracy: 0.724000\n",
      "Loss: 1.021613, Train accuracy: 0.875444, val accuracy: 0.742000\n",
      "Loss: 0.894410, Train accuracy: 0.889444, val accuracy: 0.760000\n",
      "Loss: 0.863364, Train accuracy: 0.879889, val accuracy: 0.747000\n",
      "Loss: 0.880927, Train accuracy: 0.895889, val accuracy: 0.771000\n",
      "Loss: 0.855832, Train accuracy: 0.892333, val accuracy: 0.777000\n",
      "Loss: 0.803813, Train accuracy: 0.887778, val accuracy: 0.753000\n",
      "Loss: 0.818788, Train accuracy: 0.887778, val accuracy: 0.758000\n",
      "best validation accuracy achieved: 0.758000\n"
     ]
    }
   ],
   "source": [
    "# Let's train the best one-hidden-layer network we can\n",
    "\n",
    "learning_rates = 1e-4\n",
    "reg_strength = 1e-3\n",
    "learning_rate_decay = 0.999\n",
    "hidden_layer_size = 128\n",
    "num_epochs = 200\n",
    "batch_size = 64\n",
    "\n",
    "best_classifier = TwoLayerNet(n_input = train_X.shape[1], n_output = 10, hidden_layer_size = 100, reg = 1e-3);\n",
    "dataset = Dataset(train_X, train_y, val_X, val_y);\n",
    "trainer = Trainer(best_classifier, dataset, MomentumSGD(),  num_epochs=100, batch_size=100,\n",
    "                  learning_rate=1e-1, learning_rate_decay= 0.99);\n",
    "\n",
    "# TODO Implement missing pieces in Trainer.fit function\n",
    "# You should expect loss to go down and train and val accuracy go up for every epoch\n",
    "loss_history, train_history, val_history = trainer.fit();\n",
    "best_val_accuracy = val_history[-1];\n",
    "# TODO find the best hyperparameters to train the network\n",
    "# Don't hesitate to add new values to the arrays above, perform experiments, use any tricks you want\n",
    "# You should expect to get to at least 40% of valudation accuracy\n",
    "# Save loss/train/history of the best classifier to the variables above\n",
    "\n",
    "print('best validation accuracy achieved: %f' % best_val_accuracy)"
   ]
  },
  {
   "cell_type": "code",
   "execution_count": 68,
   "metadata": {},
   "outputs": [
    {
     "data": {
      "text/plain": [
       "[<matplotlib.lines.Line2D at 0x7faab42390f0>]"
      ]
     },
     "execution_count": 68,
     "metadata": {},
     "output_type": "execute_result"
    },
    {
     "data": {
      "image/png": "[encoded data removed]",
      "text/plain": [
       "<Figure size 1080x504 with 2 Axes>"
      ]
     },
     "metadata": {
      "needs_background": "light"
     },
     "output_type": "display_data"
    }
   ],
   "source": [
    "plt.figure(figsize=(15, 7))\n",
    "plt.subplot(211)\n",
    "plt.title(\"Loss\")\n",
    "plt.plot(loss_history)\n",
    "plt.subplot(212)\n",
    "plt.title(\"Train/validation accuracy\")\n",
    "plt.plot(train_history)\n",
    "plt.plot(val_history)"
   ]
  },
  {
   "cell_type": "markdown",
   "metadata": {},
   "source": [
    "# Как обычно, посмотрим, как наша лучшая модель работает на тестовых данных"
   ]
  },
  {
   "cell_type": "code",
   "execution_count": 69,
   "metadata": {},
   "outputs": [
    {
     "name": "stdout",
     "output_type": "stream",
     "text": [
      "Neural net test set accuracy: 0.715000\n"
     ]
    }
   ],
   "source": [
    "test_pred = best_classifier.predict(test_X)\n",
    "test_accuracy = multiclass_accuracy(test_pred, test_y)\n",
    "print('Neural net test set accuracy: %f' % (test_accuracy, ))"
   ]
  },
  {
   "cell_type": "code",
   "execution_count": null,
   "metadata": {},
   "outputs": [],
   "source": []
  }
 ],
 "metadata": {
  "kernelspec": {
   "display_name": "Python 3",
   "language": "python",
   "name": "python3"
  },
  "language_info": {
   "codemirror_mode": {
    "name": "ipython",
    "version": 3
   },
   "file_extension": ".py",
   "mimetype": "text/x-python",
   "name": "python",
   "nbconvert_exporter": "python",
   "pygments_lexer": "ipython3",
   "version": "3.7.1"
  }
 },
 "nbformat": 4,
 "nbformat_minor": 2
}

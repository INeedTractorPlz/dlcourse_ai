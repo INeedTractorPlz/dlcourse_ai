{
  "nbformat": 4,
  "nbformat_minor": 0,
  "metadata": {
    "accelerator": "GPU",
    "colab": {
      "name": "RNNs.ipynb",
      "version": "0.3.2",
      "provenance": [],
      "collapsed_sections": [],
      "toc_visible": true,
      "machine_shape": "hm"
    },
    "kernelspec": {
      "display_name": "Python 3",
      "language": "python",
      "name": "python3"
    },
    "language_info": {
      "codemirror_mode": {
        "name": "ipython",
        "version": 3
      },
      "file_extension": ".py",
      "mimetype": "text/x-python",
      "name": "python",
      "nbconvert_exporter": "python",
      "pygments_lexer": "ipython3",
      "version": "3.6.8"
    }
  },
  "cells": [
    {
      "cell_type": "markdown",
      "metadata": {
        "id": "V85H6Z78e4hK",
        "colab_type": "text"
      },
      "source": [
        "# Задание 6: Рекуррентные нейронные сети (RNNs)\n",
        "\n",
        "Это задание адаптиповано из Deep NLP Course at ABBYY (https://github.com/DanAnastasyev/DeepNLP-Course) с разрешения автора - Даниила Анастасьева. Спасибо ему огромное!"
      ]
    },
    {
      "cell_type": "code",
      "metadata": {
        "colab_type": "code",
        "id": "P59NYU98GCb9",
        "outputId": "76aa078a-62b4-44b7-e46c-3d32b98951df",
        "colab": {
          "base_uri": "https://localhost:8080/",
          "height": 181
        }
      },
      "source": [
        "!pip3 -qq install --user torch==0.4.1\n",
        "!pip3 -qq install --user bokeh==0.13.0\n",
        "!pip3 -qq install --user gensim==3.6.0\n",
        "!pip3 -qq install --user nltk\n",
        "!pip3 -qq install --user scikit-learn==0.20.2"
      ],
      "execution_count": 0,
      "outputs": [
        {
          "output_type": "stream",
          "text": [
            "\u001b[K     |████████████████████████████████| 519.5MB 47kB/s \n",
            "\u001b[31mERROR: torchvision 0.3.0 has requirement torch>=1.1.0, but you'll have torch 0.4.1 which is incompatible.\u001b[0m\n",
            "\u001b[31mERROR: fastai 1.0.55 has requirement torch>=1.0.0, but you'll have torch 0.4.1 which is incompatible.\u001b[0m\n",
            "\u001b[K     |████████████████████████████████| 16.0MB 1.3MB/s \n",
            "\u001b[?25h  Building wheel for bokeh (setup.py) ... \u001b[?25l\u001b[?25hdone\n",
            "\u001b[33m  WARNING: The script bokeh is installed in '/root/.local/bin' which is not on PATH.\n",
            "  Consider adding this directory to PATH or, if you prefer to suppress this warning, use --no-warn-script-location.\u001b[0m\n",
            "\u001b[K     |████████████████████████████████| 5.4MB 1.3MB/s \n",
            "\u001b[?25h"
          ],
          "name": "stdout"
        }
      ]
    },
    {
      "cell_type": "code",
      "metadata": {
        "colab_type": "code",
        "id": "8sVtGHmA9aBM",
        "colab": {}
      },
      "source": [
        "import numpy as np\n",
        "\n",
        "import torch\n",
        "import torch.nn as nn\n",
        "import torch.nn.functional as F\n",
        "import torch.optim as optim\n",
        "\n",
        "\n",
        "if torch.cuda.is_available():\n",
        "    from torch.cuda import FloatTensor, LongTensor\n",
        "    device = torch.device(\"cuda\")\n",
        "else:\n",
        "    from torch import FloatTensor, LongTensor\n",
        "    device = torch.device(\"cpu\")\n",
        "np.random.seed(42)"
      ],
      "execution_count": 0,
      "outputs": []
    },
    {
      "cell_type": "markdown",
      "metadata": {
        "colab_type": "text",
        "id": "-6CNKM3b4hT1"
      },
      "source": [
        "# Рекуррентные нейронные сети (RNNs)"
      ]
    },
    {
      "cell_type": "markdown",
      "metadata": {
        "colab_type": "text",
        "id": "O_XkoGNQUeGm"
      },
      "source": [
        "## POS Tagging"
      ]
    },
    {
      "cell_type": "markdown",
      "metadata": {
        "colab_type": "text",
        "id": "QFEtWrS_4rUs"
      },
      "source": [
        "Мы рассмотрим применение рекуррентных сетей к задаче sequence labeling (последняя картинка).\n",
        "\n",
        "![RNN types](http://karpathy.github.io/assets/rnn/diags.jpeg)\n",
        "\n",
        "*From [The Unreasonable Effectiveness of Recurrent Neural Networks](http://karpathy.github.io/2015/05/21/rnn-effectiveness/)*\n",
        "\n",
        "Самые популярные примеры для такой постановки задачи - Part-of-Speech Tagging и Named Entity Recognition.\n",
        "\n",
        "Мы порешаем сейчас POS Tagging для английского.\n",
        "\n",
        "Будем работать с таким набором тегов:\n",
        "- ADJ - adjective (new, good, high, ...)\n",
        "- ADP - adposition (on, of, at, ...)\n",
        "- ADV - adverb (really, already, still, ...)\n",
        "- CONJ - conjunction (and, or, but, ...)\n",
        "- DET - determiner, article (the, a, some, ...)\n",
        "- NOUN - noun (year, home, costs, ...)\n",
        "- NUM - numeral (twenty-four, fourth, 1991, ...)\n",
        "- PRT - particle (at, on, out, ...)\n",
        "- PRON - pronoun (he, their, her, ...)\n",
        "- VERB - verb (is, say, told, ...)\n",
        "- . - punctuation marks (. , ;)\n",
        "- X - other (ersatz, esprit, dunno, ...)"
      ]
    },
    {
      "cell_type": "markdown",
      "metadata": {
        "colab_type": "text",
        "id": "EPIkKdFlHB-X"
      },
      "source": [
        "Скачаем данные:"
      ]
    },
    {
      "cell_type": "code",
      "metadata": {
        "colab_type": "code",
        "id": "TiA2dGmgF1rW",
        "outputId": "c81c80b9-2f74-4e40-b4cb-36cb171186a4",
        "colab": {
          "base_uri": "https://localhost:8080/",
          "height": 89
        }
      },
      "source": [
        "import nltk\n",
        "from sklearn.model_selection import train_test_split\n",
        "\n",
        "nltk.download('brown')\n",
        "nltk.download('universal_tagset')\n",
        "\n",
        "data = nltk.corpus.brown.tagged_sents(tagset='universal')"
      ],
      "execution_count": 2,
      "outputs": [
        {
          "output_type": "stream",
          "text": [
            "[nltk_data] Downloading package brown to /root/nltk_data...\n",
            "[nltk_data]   Package brown is already up-to-date!\n",
            "[nltk_data] Downloading package universal_tagset to /root/nltk_data...\n",
            "[nltk_data]   Package universal_tagset is already up-to-date!\n"
          ],
          "name": "stdout"
        }
      ]
    },
    {
      "cell_type": "code",
      "metadata": {
        "id": "OPshvuJnZYGW",
        "colab_type": "code",
        "outputId": "ef550390-cb17-4622-e987-73f08fdcfeb9",
        "colab": {
          "base_uri": "https://localhost:8080/",
          "height": 35
        }
      },
      "source": [
        "print(type(data[0]))"
      ],
      "execution_count": 3,
      "outputs": [
        {
          "output_type": "stream",
          "text": [
            "<class 'list'>\n"
          ],
          "name": "stdout"
        }
      ]
    },
    {
      "cell_type": "code",
      "metadata": {
        "id": "PNCZJoAhgAI8",
        "colab_type": "code",
        "outputId": "8e529cbf-be63-4e05-d40f-cd30b0158220",
        "colab": {
          "base_uri": "https://localhost:8080/",
          "height": 73
        }
      },
      "source": [
        "print([x for x,y in data[0]])\n",
        "print(data[0])"
      ],
      "execution_count": 4,
      "outputs": [
        {
          "output_type": "stream",
          "text": [
            "['The', 'Fulton', 'County', 'Grand', 'Jury', 'said', 'Friday', 'an', 'investigation', 'of', \"Atlanta's\", 'recent', 'primary', 'election', 'produced', '``', 'no', 'evidence', \"''\", 'that', 'any', 'irregularities', 'took', 'place', '.']\n",
            "[('The', 'DET'), ('Fulton', 'NOUN'), ('County', 'NOUN'), ('Grand', 'ADJ'), ('Jury', 'NOUN'), ('said', 'VERB'), ('Friday', 'NOUN'), ('an', 'DET'), ('investigation', 'NOUN'), ('of', 'ADP'), (\"Atlanta's\", 'NOUN'), ('recent', 'ADJ'), ('primary', 'NOUN'), ('election', 'NOUN'), ('produced', 'VERB'), ('``', '.'), ('no', 'DET'), ('evidence', 'NOUN'), (\"''\", '.'), ('that', 'ADP'), ('any', 'DET'), ('irregularities', 'NOUN'), ('took', 'VERB'), ('place', 'NOUN'), ('.', '.')]\n"
          ],
          "name": "stdout"
        }
      ]
    },
    {
      "cell_type": "code",
      "metadata": {
        "id": "5uC9YWkYhEHo",
        "colab_type": "code",
        "outputId": "eb0ba015-d34c-41ce-c0e8-7f9dfe4bece1",
        "colab": {
          "base_uri": "https://localhost:8080/",
          "height": 55
        }
      },
      "source": [
        "only_sents = nltk.corpus.brown.sents()\n",
        "print(only_sents[0])"
      ],
      "execution_count": 5,
      "outputs": [
        {
          "output_type": "stream",
          "text": [
            "['The', 'Fulton', 'County', 'Grand', 'Jury', 'said', 'Friday', 'an', 'investigation', 'of', \"Atlanta's\", 'recent', 'primary', 'election', 'produced', '``', 'no', 'evidence', \"''\", 'that', 'any', 'irregularities', 'took', 'place', '.']\n"
          ],
          "name": "stdout"
        }
      ]
    },
    {
      "cell_type": "code",
      "metadata": {
        "id": "9Jlr-a9uf3Gw",
        "colab_type": "code",
        "outputId": "4bc7d1ec-a71b-43b5-bccc-6e98c63f12a4",
        "colab": {
          "base_uri": "https://localhost:8080/",
          "height": 233
        }
      },
      "source": [
        "import os\n",
        "import numpy as np\n",
        "import random\n",
        "def get_OneHot_by_index(index, num_tokens):\n",
        "    vector = [0]*num_tokens\n",
        "    vector[index] = 1\n",
        "    return torch.tensor(vector)\n",
        "\n",
        "class StanfordTreeBank:\n",
        "    '''\n",
        "    Wrapper for accessing Stanford Tree Bank Dataset\n",
        "    https://nlp.stanford.edu/sentiment/treebank.html\n",
        "    \n",
        "    Parses dataset, gives each token and index and provides lookups\n",
        "    from string token to index and back\n",
        "    \n",
        "    Allows to generate random context with sampling strategy described in\n",
        "    word2vec paper:\n",
        "    https://papers.nips.cc/paper/5021-distributed-representations-of-words-and-phrases-and-their-compositionality.pdf\n",
        "    '''\n",
        "    def __init__(self):\n",
        "        self.index_by_token = {} # map of string -> token index\n",
        "        self.token_by_index = []\n",
        "\n",
        "        self.sentences_by_token = {}\n",
        "        self.sentences = []\n",
        "\n",
        "        self.token_freq = {}\n",
        "        \n",
        "        self.token_reject_by_index = None\n",
        "\n",
        "    def load_dataset(self, folder):\n",
        "        filename = os.path.join(folder, \"datasetSentences.txt\")\n",
        "\n",
        "        with open(filename, \"r\", encoding=\"latin1\") as f:\n",
        "            l = f.readline() # skip the first line\n",
        "            \n",
        "            for l in f:\n",
        "                splitted_line = l.strip().split()\n",
        "                words = [w.lower() for w in splitted_line[1:]] # First one is a number\n",
        "                    \n",
        "                self.sentences.append(words)\n",
        "                for i, word in enumerate(words):\n",
        "                    if word in self.token_freq:\n",
        "                        self.token_freq[word] +=1\n",
        "                        self.sentences_by_token[word].append((len(self.sentences) - 1, i))\n",
        "                    else:\n",
        "                        index = len(self.token_by_index)\n",
        "                        self.token_freq[word] = 1\n",
        "                        self.index_by_token[word] = index\n",
        "                        self.token_by_index.append(word)\n",
        "                        self.sentences_by_token[word] = [(len(self.sentences) - 1, i)] \n",
        "        self.compute_token_prob()\n",
        "    \n",
        "    def init_dataset(self, data):    \n",
        "       \n",
        "        for words in data:\n",
        "              words = [w.lower() for w in words] # First one is a number\n",
        "\n",
        "              self.sentences.append(words)\n",
        "              for i, word in enumerate(words):\n",
        "                  if word in self.token_freq:\n",
        "                      self.token_freq[word] +=1\n",
        "                      self.sentences_by_token[word].append((len(self.sentences) - 1, i))\n",
        "                  else:\n",
        "                      index = len(self.token_by_index)\n",
        "                      self.token_freq[word] = 1\n",
        "                      self.index_by_token[word] = index\n",
        "                      self.token_by_index.append(word)\n",
        "                      self.sentences_by_token[word] = [(len(self.sentences) - 1, i)] \n",
        "        self.compute_token_prob()\n",
        "\n",
        "    def compute_token_prob(self):\n",
        "        words_count = np.array([self.token_freq[token] for token in self.token_by_index])\n",
        "        words_freq = words_count / np.sum(words_count)\n",
        "        \n",
        "        # Following sampling strategy from word2vec paper\n",
        "        self.token_reject_by_index = 1- np.sqrt(1e-5/words_freq)\n",
        "    \n",
        "    def check_reject(self, word):\n",
        "        return np.random.rand() > self.token_reject_by_index[self.index_by_token[word]]\n",
        "        \n",
        "    def get_random_context(self, context_length=5):\n",
        "        \"\"\"\n",
        "        Returns tuple of center word and list of context words\n",
        "        \"\"\"\n",
        "        sentence_sampled = []\n",
        "        while len(sentence_sampled) <= 2:\n",
        "            sentence_index = np.random.randint(len(self.sentences)) \n",
        "            sentence = self.sentences[sentence_index]\n",
        "            sentence_sampled = [word for word in sentence if self.check_reject(word)]\n",
        "    \n",
        "        center_word_index = np.random.randint(len(sentence_sampled))\n",
        "        \n",
        "        words_before = sentence_sampled[max(center_word_index - context_length//2,0):center_word_index]\n",
        "        words_after = sentence_sampled[center_word_index+1: center_word_index+1+context_length//2]\n",
        "        \n",
        "        return sentence_sampled[center_word_index], words_before+words_after\n",
        "    \n",
        "    def num_tokens(self):\n",
        "        return len(self.token_by_index)\n",
        "     \n",
        "    def get_OneHot_by_token(self, token):\n",
        "        return get_OneHot_by_index(self.index_by_token[token], self.num_tokens())\n",
        "    \n",
        "    def find_sentence_with_token(self, token, sentence_index, context_length = 5):\n",
        "        for i, x in enumerate(self.sentences_by_token[token]):\n",
        "            if sentence_index == x[0]:\n",
        "                sentence = [word for word in self.sentences[sentence_index] \\\n",
        "                                if self.check_reject(word)]\n",
        "                begin = max(x[1] - context_length//2, 0)\n",
        "                end = min(x[1] + context_length//2, len(sentence))\n",
        "                sequence = sentence[:begin] + sentence[end+1:]\n",
        "                if sequence != []:\n",
        "                    return random.choice(sequence)\n",
        "                break\n",
        "        return None\n",
        "\n",
        "    def get_random_out_context(self, token, num_negatives_samples, context_length = 5):\n",
        "        result = []\n",
        "        while len(result) < num_negatives_samples:\n",
        "            sentence_index = np.random.randint(len(self.sentences))\n",
        "            if token in self.sentences[sentence_index]:\n",
        "              chosen_token = self.find_sentence_with_token(token, sentence_index, context_length)\n",
        "            else:\n",
        "              chosen_token = None\n",
        "            if chosen_token != None:\n",
        "                result.append(chosen_token)\n",
        "            else:\n",
        "                while True:\n",
        "                    chosen_token = random.choice(self.sentences[sentence_index])\n",
        "                    if self.check_reject(chosen_token):\n",
        "                        result.append(chosen_token)\n",
        "                        break\n",
        "        return result\n",
        "    \n",
        "StandfordData = StanfordTreeBank()\n",
        "StandfordData.init_dataset(only_sents)\n",
        "\n",
        "print(\"Num tokens:\", StandfordData.num_tokens())\n",
        "print(\"Num sentences:\", len(StandfordData.sentences))\n",
        "for i in range(5):\n",
        "    center_word, other_words = StandfordData.get_random_context(5)\n",
        "    print(center_word, other_words)\n",
        "    out_context = StandfordData.get_random_out_context(center_word, 5, 5)\n",
        "    print(out_context)"
      ],
      "execution_count": 6,
      "outputs": [
        {
          "output_type": "stream",
          "text": [
            "Num tokens: 49815\n",
            "Num sentences: 57340\n",
            "village ['plumber', 'catatonia']\n",
            "['arizona', 'its', 'mama', 'skies', 'horse']\n",
            "shirt ['jackboots', 'peasant']\n",
            "['leg', 'murray', '1298', 'legendary', '30-30']\n",
            "coastal ['marine', 'life']\n",
            "['sewage', 'outcome', 'immortal', 'franks', 'twenty-five']\n",
            "dissatisfied ['totally', 'upper']\n",
            "['thus', 'coltsman', 'theirs', 'infant', '168']\n",
            "undressing ['painter', 'nude']\n",
            "['affirmed', 'less', 'moral', 'reliable', 'you']\n"
          ],
          "name": "stdout"
        }
      ]
    },
    {
      "cell_type": "code",
      "metadata": {
        "id": "u2K8WW9Olp9-",
        "colab_type": "code",
        "outputId": "a45de8e0-14d3-4809-d08f-d3d98879c182",
        "colab": {
          "base_uri": "https://localhost:8080/",
          "height": 73
        }
      },
      "source": [
        "from torch.utils.data import Dataset\n",
        "\n",
        "num_negative_samples = 10\n",
        "\n",
        "class Word2VecNegativeSampling(Dataset):\n",
        "    '''\n",
        "    PyTorch Dataset for Word2Vec with Negative Sampling.\n",
        "    Accepts StanfordTreebank as data and is able to generate dataset based on\n",
        "    a number of random contexts\n",
        "    '''\n",
        "    def __init__(self, data, num_negative_samples, num_contexts=30000):\n",
        "        '''\n",
        "        Initializes Word2VecNegativeSampling, but doesn't generate the samples yet\n",
        "        (for that, use generate_dataset)\n",
        "        Arguments:\n",
        "        data - StanfordTreebank instace\n",
        "        num_negative_samples - number of negative samples to generate in addition to a positive one\n",
        "        num_contexts - number of random contexts to use when generating a dataset\n",
        "        '''\n",
        "        \n",
        "        # TODO: Implement what you need for other methods!\n",
        "        self.num_contexts = num_contexts\n",
        "        self.data = data\n",
        "        self.num_negative_samples = num_negative_samples\n",
        "        self.dataset = []\n",
        "        \n",
        "    def generate_dataset(self):\n",
        "        '''\n",
        "        Generates dataset samples from random contexts\n",
        "        Note: there will be more samples than contexts because every context\n",
        "        can generate more than one sample\n",
        "        '''\n",
        "        # TODO: Implement generating the dataset\n",
        "        # You should sample num_contexts contexts from the data and turn them into samples\n",
        "        # Note you will have several samples from one context\n",
        "        del self.dataset\n",
        "        self.dataset = []\n",
        "        center, contexts = 0, 0\n",
        "        for i in range(self.num_contexts):\n",
        "            del center, contexts\n",
        "            center, contexts = self.data.get_random_context()\n",
        "            #print(center, contexts)\n",
        "            for context in contexts:\n",
        "                self.dataset.append((center, [context]+self.data.get_random_out_context(center, \\\n",
        "                                    self.num_negative_samples)))\n",
        "    def __len__(self):\n",
        "        '''\n",
        "        Returns total number of samples\n",
        "        '''\n",
        "        # TODO: Return the number of samples\n",
        "        return len(self.dataset)\n",
        "    \n",
        "    def __getitem__(self, index):\n",
        "        '''\n",
        "        Returns i-th sample\n",
        "        \n",
        "        Return values:\n",
        "        input_vector - index of the input word (not torch.Tensor!)\n",
        "        output_indices - torch.Tensor of indices of the target words. Should be 1+num_negative_samples.\n",
        "        output_target - torch.Tensor with float targets for the training. Should be the same size as output_indices\n",
        "                        and have 1 for the context word and 0 everywhere else\n",
        "        '''\n",
        "        # TODO: Generate tuple of 3 return arguments for i-th sample\n",
        "        center, words = self.dataset[index]\n",
        "        return self.data.index_by_token[center], torch.tensor([self.data.index_by_token[x]\\\n",
        "                for x in words]), torch.tensor([1.]+[0.]*self.num_negative_samples)\n",
        "    \n",
        "dataset = Word2VecNegativeSampling(StandfordData, num_negative_samples, 10)\n",
        "dataset.generate_dataset()\n",
        "input_vector, output_indices, output_target = dataset[0]\n",
        "\n",
        "print(\"Sample - input: %s, output indices: %s, output target: %s\" % (int(input_vector), output_indices, output_target)) # target should be able to convert to int\n",
        "assert isinstance(output_indices, torch.Tensor)\n",
        "assert output_indices.shape[0] == num_negative_samples+1\n",
        "\n",
        "assert isinstance(output_target, torch.Tensor)\n",
        "assert output_target.shape[0] == num_negative_samples+1\n",
        "assert torch.sum(output_target) == 1.0"
      ],
      "execution_count": 7,
      "outputs": [
        {
          "output_type": "stream",
          "text": [
            "Sample - input: 880, output indices: tensor([ 1391,  4938,  9997, 32069,   406,  2661,  6710,   191,  5337, 45329,\n",
            "          471]), output target: tensor([1., 0., 0., 0., 0., 0., 0., 0., 0., 0., 0.])\n"
          ],
          "name": "stdout"
        }
      ]
    },
    {
      "cell_type": "code",
      "metadata": {
        "id": "b1Zabo-DACer",
        "colab_type": "code",
        "outputId": "c676d71d-c38d-4984-bac9-198031ac06d1",
        "colab": {
          "base_uri": "https://localhost:8080/",
          "height": 89
        }
      },
      "source": [
        "# Create the usual PyTorch structures\n",
        "dataset = Word2VecNegativeSampling(StandfordData, num_negative_samples, 30000)\n",
        "dataset.generate_dataset()\n",
        "\n",
        "# As before, we'll be training very small word vectors!\n",
        "wordvec_dim = 100\n",
        "\n",
        "class Word2VecNegativeSamples(nn.Module):\n",
        "    def __init__(self, num_tokens, wordvec_dim):\n",
        "        super(Word2VecNegativeSamples, self).__init__()\n",
        "        self.input = nn.Linear(num_tokens, wordvec_dim, bias=False)\n",
        "        self.output = nn.Linear(wordvec_dim, num_tokens, bias=False)\n",
        "        self.wordvec_dim = wordvec_dim\n",
        "        \n",
        "    def forward(self, input_index_batch, output_indices_batch):\n",
        "        '''\n",
        "        Implements forward pass with negative sampling\n",
        "        \n",
        "        Arguments:\n",
        "        input_index_batch - Tensor of ints, shape: (batch_size, ), indices of input words in the batch\n",
        "        output_indices_batch - Tensor if ints, shape: (batch_size, num_negative_samples+1),\n",
        "                                indices of the target words for every sample\n",
        "                                \n",
        "        Returns:\n",
        "        predictions - Tensor of floats, shape: (batch_size, num_negative_samples+1)\n",
        "        '''\n",
        "        # TODO Implement forward pass\n",
        "        # Hint: You can use for loop to go over all samples on the batch,\n",
        "        # run every sample indivisually and then use\n",
        "        # torch.stack or torch.cat to produce the final result\n",
        "        result = torch.cat(tuple(torch.mm(self.output.weight[output_indices_batch[i], :], \\\n",
        "                                self.input.weight[:, input_index_batch[i]]).view(1, -1) \\\n",
        "                                 for i in range(input_index_batch.shape[0])), dim = 0)\n",
        "        return result\n",
        "    \n",
        "nn_model = Word2VecNegativeSamples(StandfordData.num_tokens(), wordvec_dim).to(device)\n",
        "nn_model.type(FloatTensor)"
      ],
      "execution_count": 8,
      "outputs": [
        {
          "output_type": "execute_result",
          "data": {
            "text/plain": [
              "Word2VecNegativeSamples(\n",
              "  (input): Linear(in_features=49815, out_features=100, bias=False)\n",
              "  (output): Linear(in_features=100, out_features=49815, bias=False)\n",
              ")"
            ]
          },
          "metadata": {
            "tags": []
          },
          "execution_count": 8
        }
      ]
    },
    {
      "cell_type": "code",
      "metadata": {
        "id": "0Vjlu0NXDljX",
        "colab_type": "code",
        "outputId": "8ed39d78-18f8-4c89-c0ac-96a787ddd56e",
        "colab": {
          "base_uri": "https://localhost:8080/",
          "height": 35
        }
      },
      "source": [
        "def extract_word_vectors(nn_model):\n",
        "    '''\n",
        "    Extracts word vectors from the model\n",
        "    \n",
        "    Returns:\n",
        "    input_vectors: torch.Tensor with dimensions (num_tokens, num_dimensions)\n",
        "    output_vectors: torch.Tensor with dimensions (num_tokens, num_dimensions)\n",
        "    '''\n",
        "    # TODO: Implement extracting word vectors from param weights\n",
        "    # return tuple of input vectors and output vectos \n",
        "    x1, x2 = nn_model.parameters()\n",
        "    x1, x2 = x1.detach(), x2.detach()\n",
        "    num_tokens = x1.shape[1]\n",
        "    num_dimensions = x1.shape[0]\n",
        "    input_vectors = torch.cat(tuple(x1[:, i].expand(1, -1) for i in range(num_tokens)), dim = 0)\n",
        "    output_vectors = torch.cat(tuple(x2[i, :].expand(1, -1) for i in range(num_tokens)), dim = 0)\n",
        "    return input_vectors, output_vectors\n",
        "\n",
        "untrained_input_vectors, untrained_output_vectors = extract_word_vectors(nn_model)\n",
        "print(untrained_input_vectors.shape, untrained_output_vectors.shape)\n",
        "assert untrained_input_vectors.shape == (StandfordData.num_tokens(), wordvec_dim)\n",
        "assert untrained_output_vectors.shape == (StandfordData.num_tokens(), wordvec_dim)"
      ],
      "execution_count": 9,
      "outputs": [
        {
          "output_type": "stream",
          "text": [
            "torch.Size([49815, 100]) torch.Size([49815, 100])\n"
          ],
          "name": "stdout"
        }
      ]
    },
    {
      "cell_type": "code",
      "metadata": {
        "id": "5lQpxZ7RDwsG",
        "colab_type": "code",
        "colab": {}
      },
      "source": [
        "def train_neg_sample(model, dataset, train_loader, optimizer, scheduler, num_epochs, save = None):    \n",
        "    '''\n",
        "    Trains word2vec with negative samples on and regenerating dataset every epoch\n",
        "    \n",
        "    Returns:\n",
        "    loss_history, train_history\n",
        "    '''\n",
        "    loss = nn.BCEWithLogitsLoss().type(FloatTensor).to(device)\n",
        "    loss_history = []\n",
        "    train_history = []\n",
        "    for epoch in range(num_epochs):\n",
        "        if save != None:\n",
        "            torch.save(model.state_dict(), save)\n",
        "        model.train() # Enter train mode\n",
        "        \n",
        "        dataset.generate_dataset()\n",
        "        num_tokens = model.input.weight.shape[0]\n",
        "\n",
        "        # TODO: Implement training using negative samples\n",
        "        # You can estimate accuracy by comparing prediction values with 0\n",
        "        # And don't forget to step the scheduler!\n",
        "        loss_accum = 0\n",
        "        correct_samples = 0\n",
        "        total_samples = 0\n",
        "        for i_step, (input_indices, output_indices, targets) in enumerate(train_loader):\n",
        "            input_indices, output_indices, targets = \\\n",
        "            input_indices.to(device), output_indices.to(device), targets.to(device)\n",
        "            predictions = model(input_indices.view(-1,1), output_indices)\n",
        "            loss_value = loss(predictions, targets)\n",
        "            optimizer.zero_grad()\n",
        "            loss_value.backward()\n",
        "            optimizer.step()\n",
        "            loss_accum += loss_value.detach()\n",
        "            indices = torch.argmax(predictions.detach(), 1)\n",
        "            correct_samples += torch.sum(indices == output_indices[:, 0].detach())\n",
        "            total_samples += targets.shape[0]\n",
        "        train_accuracy = float(correct_samples)/ total_samples\n",
        "        ave_loss = loss_accum/(i_step + 1)\n",
        "        print(\"Epoch %i, Average loss: %f, Train accuracy: %f\" % (epoch, ave_loss, train_accuracy))\n",
        "        loss_history.append(ave_loss)\n",
        "        train_history.append(train_accuracy)\n",
        "        scheduler.step()\n",
        "        \n",
        "    return loss_history, train_history"
      ],
      "execution_count": 0,
      "outputs": []
    },
    {
      "cell_type": "code",
      "metadata": {
        "id": "2_fPCMI_KYEC",
        "colab_type": "code",
        "colab": {}
      },
      "source": [
        "def test_neg_sample(model, dataset, train_loader):    \n",
        "    '''\n",
        "    Trains word2vec with negative samples on and regenerating dataset every epoch\n",
        "    \n",
        "    Returns:\n",
        "    loss_history, train_history\n",
        "    '''\n",
        "    loss = nn.BCEWithLogitsLoss().type(FloatTensor).to(device)\n",
        "    dataset.generate_dataset()\n",
        "    num_tokens = model.input.weight.shape[0]\n",
        "\n",
        "    # TODO: Implement training using negative samples\n",
        "    # You can estimate accuracy by comparing prediction values with 0\n",
        "    # And don't forget to step the scheduler!\n",
        "    loss_accum = 0\n",
        "    correct_samples = 0\n",
        "    total_samples = 0\n",
        "    with torch.no_grad():\n",
        "      for i_step, (input_indices, output_indices, targets) in enumerate(train_loader):\n",
        "          input_indices, output_indices, targets = \\\n",
        "          input_indices.to(device), output_indices.to(device), targets.to(device)\n",
        "          predictions = model(input_indices.view(-1,1), output_indices).detach()\n",
        "          loss_value = loss(predictions, targets)\n",
        "          loss_accum += loss_value\n",
        "          indices = torch.argmax(predictions, 1)\n",
        "          correct_samples += torch.sum(indices == output_indices[:, 0])\n",
        "          total_samples += targets.shape[0]\n",
        "      test_accuracy = float(correct_samples)/ total_samples\n",
        "      ave_loss = loss_accum/(i_step + 1)\n",
        "      print(\"Tests result, Average loss: %f, Test accuracy: %f\" % (ave_loss, test_accuracy))\n",
        "    \n",
        "    return ave_loss, test_accuracy"
      ],
      "execution_count": 0,
      "outputs": []
    },
    {
      "cell_type": "code",
      "metadata": {
        "id": "PyItIpc_OCxY",
        "colab_type": "code",
        "outputId": "120dec87-7813-4da2-d17f-be9c8c4ebc7d",
        "colab": {
          "base_uri": "https://localhost:8080/",
          "height": 55
        }
      },
      "source": [
        "from google.colab import drive\n",
        "drive.mount('/content/drive')"
      ],
      "execution_count": 12,
      "outputs": [
        {
          "output_type": "stream",
          "text": [
            "Drive already mounted at /content/drive; to attempt to forcibly remount, call drive.mount(\"/content/drive\", force_remount=True).\n"
          ],
          "name": "stdout"
        }
      ]
    },
    {
      "cell_type": "code",
      "metadata": {
        "id": "h8ZVlaqlRC5p",
        "colab_type": "code",
        "outputId": "9bcd7750-7661-41d3-853b-1d15499a58f3",
        "colab": {
          "base_uri": "https://localhost:8080/",
          "height": 35
        }
      },
      "source": [
        "nn_model = Word2VecNegativeSamples(StandfordData.num_tokens(), wordvec_dim).to(device)\n",
        "nn_model.type(FloatTensor)\n",
        "nn_model.load_state_dict(torch.load(\"drive/My Drive/Colab Notebooks/word2vecNS_brown.pth\"))\n",
        "train_loader = torch.utils.data.DataLoader(dataset, batch_size=20)\n",
        "loss, accuracy = test_neg_sample(nn_model, dataset, train_loader)"
      ],
      "execution_count": 13,
      "outputs": [
        {
          "output_type": "stream",
          "text": [
            "Tests result, Average loss: 0.150861, Test accuracy: 0.001032\n"
          ],
          "name": "stdout"
        }
      ]
    },
    {
      "cell_type": "code",
      "metadata": {
        "id": "shDa3Nz1irxS",
        "colab_type": "code",
        "colab": {
          "base_uri": "https://localhost:8080/",
          "height": 107
        },
        "outputId": "e2600fa6-fb4c-48a7-b350-c9b634256c9e"
      },
      "source": [
        "optimizer = optim.SGD(nn_model.parameters(), lr=5., weight_decay=0)\n",
        "scheduler = optim.lr_scheduler.StepLR(optimizer, step_size=10, gamma=1.0)\n",
        "train_loader = torch.utils.data.DataLoader(dataset, batch_size=20)\n",
        "\n",
        "loss_history4, train_history4 = train_neg_sample(nn_model, dataset, train_loader, optimizer, \\\n",
        "                                                 scheduler, 5)"
      ],
      "execution_count": 14,
      "outputs": [
        {
          "output_type": "stream",
          "text": [
            "Epoch 0, Average loss: 0.175858, Train accuracy: 0.000928\n",
            "Epoch 1, Average loss: 0.175578, Train accuracy: 0.001209\n",
            "Epoch 2, Average loss: 0.174623, Train accuracy: 0.001111\n",
            "Epoch 3, Average loss: 0.174279, Train accuracy: 0.001303\n",
            "Epoch 4, Average loss: 0.173571, Train accuracy: 0.000958\n"
          ],
          "name": "stdout"
        }
      ]
    },
    {
      "cell_type": "code",
      "metadata": {
        "id": "00s50Ob_D1Jd",
        "colab_type": "code",
        "outputId": "ca86ce64-a0e8-452e-8b24-1fee03429ab3",
        "colab": {
          "base_uri": "https://localhost:8080/",
          "height": 827
        }
      },
      "source": [
        "# Finally, let's train the model!\n",
        "# TODO: We use placeholder values for hyperparameters - you will need to find better values!\n",
        "optimizer = optim.SGD(nn_model.parameters(), lr=25., weight_decay=0)\n",
        "scheduler = optim.lr_scheduler.StepLR(optimizer, step_size=10, gamma=1.0)\n",
        "\n",
        "loss_history, train_history = train_neg_sample(nn_model, dataset, train_loader, optimizer, \\\n",
        "                                               scheduler, 60, save = \"drive/My Drive/Colab Notebooks/word2vecNS_brown.pth\")"
      ],
      "execution_count": 0,
      "outputs": [
        {
          "output_type": "stream",
          "text": [
            "Epoch 0, Average loss: 0.219757, Train accuracy: 0.000755\n",
            "Epoch 1, Average loss: 0.218357, Train accuracy: 0.000940\n",
            "Epoch 2, Average loss: 0.218848, Train accuracy: 0.000767\n",
            "Epoch 3, Average loss: 0.219023, Train accuracy: 0.000801\n",
            "Epoch 4, Average loss: 0.219406, Train accuracy: 0.000872\n",
            "Epoch 5, Average loss: 0.219698, Train accuracy: 0.001009\n",
            "Epoch 6, Average loss: 0.219096, Train accuracy: 0.000603\n",
            "Epoch 7, Average loss: 0.216879, Train accuracy: 0.000880\n",
            "Epoch 8, Average loss: 0.219098, Train accuracy: 0.001020\n",
            "Epoch 9, Average loss: 0.218793, Train accuracy: 0.001068\n",
            "Epoch 10, Average loss: 0.217645, Train accuracy: 0.000789\n",
            "Epoch 11, Average loss: 0.218883, Train accuracy: 0.000894\n",
            "Epoch 12, Average loss: 0.218936, Train accuracy: 0.000813\n",
            "Epoch 13, Average loss: 0.218566, Train accuracy: 0.000938\n",
            "Epoch 14, Average loss: 0.216143, Train accuracy: 0.000799\n",
            "Epoch 15, Average loss: 0.217901, Train accuracy: 0.001080\n",
            "Epoch 16, Average loss: 0.217283, Train accuracy: 0.000730\n",
            "Epoch 17, Average loss: 0.219327, Train accuracy: 0.001149\n",
            "Epoch 18, Average loss: 0.217886, Train accuracy: 0.000974\n",
            "Epoch 19, Average loss: 0.216460, Train accuracy: 0.000836\n",
            "Epoch 20, Average loss: 0.218133, Train accuracy: 0.000812\n",
            "Epoch 21, Average loss: 0.218910, Train accuracy: 0.001021\n",
            "Epoch 22, Average loss: 0.217313, Train accuracy: 0.000777\n",
            "Epoch 23, Average loss: 0.216092, Train accuracy: 0.001080\n",
            "Epoch 24, Average loss: 0.216894, Train accuracy: 0.000785\n",
            "Epoch 25, Average loss: 0.217401, Train accuracy: 0.000986\n",
            "Epoch 26, Average loss: 0.218200, Train accuracy: 0.001169\n",
            "Epoch 27, Average loss: 0.218448, Train accuracy: 0.001043\n",
            "Epoch 28, Average loss: 0.217486, Train accuracy: 0.000836\n",
            "Epoch 29, Average loss: 0.217283, Train accuracy: 0.000938\n",
            "Epoch 30, Average loss: 0.217284, Train accuracy: 0.000698\n",
            "Epoch 31, Average loss: 0.216209, Train accuracy: 0.000790\n",
            "Epoch 32, Average loss: 0.215836, Train accuracy: 0.001151\n",
            "Epoch 33, Average loss: 0.218136, Train accuracy: 0.000834\n",
            "Epoch 34, Average loss: 0.218391, Train accuracy: 0.000892\n",
            "Epoch 35, Average loss: 0.217701, Train accuracy: 0.000848\n",
            "Epoch 36, Average loss: 0.217233, Train accuracy: 0.001033\n",
            "Epoch 37, Average loss: 0.218442, Train accuracy: 0.001079\n",
            "Epoch 38, Average loss: 0.217168, Train accuracy: 0.000999\n",
            "Epoch 39, Average loss: 0.216005, Train accuracy: 0.001009\n",
            "Epoch 40, Average loss: 0.216510, Train accuracy: 0.000998\n",
            "Epoch 41, Average loss: 0.218166, Train accuracy: 0.000778\n",
            "Epoch 42, Average loss: 0.217105, Train accuracy: 0.001010\n",
            "Epoch 43, Average loss: 0.216075, Train accuracy: 0.000987\n",
            "Epoch 44, Average loss: 0.216624, Train accuracy: 0.000858\n"
          ],
          "name": "stdout"
        }
      ]
    },
    {
      "cell_type": "code",
      "metadata": {
        "id": "iYxSv9tSeicE",
        "colab_type": "code",
        "colab": {
          "base_uri": "https://localhost:8080/",
          "height": 1000
        },
        "outputId": "28b7a9f5-7b88-4716-820e-facdd12c04eb"
      },
      "source": [
        "optimizer = optim.SGD(nn_model.parameters(), lr=5., weight_decay=0)\n",
        "scheduler = optim.lr_scheduler.StepLR(optimizer, step_size=10, gamma=1.0)\n",
        "train_loader = torch.utils.data.DataLoader(dataset, batch_size=20)\n",
        "\n",
        "loss_history4, train_history4 = train_neg_sample(nn_model, dataset, train_loader, optimizer, \\\n",
        "                                                 scheduler, 100, save = \"drive/My Drive/Colab Notebooks/word2vecNS_brown.pth\")"
      ],
      "execution_count": 15,
      "outputs": [
        {
          "output_type": "stream",
          "text": [
            "Epoch 0, Average loss: 0.171184, Train accuracy: 0.001221\n",
            "Epoch 1, Average loss: 0.172459, Train accuracy: 0.001044\n",
            "Epoch 2, Average loss: 0.170316, Train accuracy: 0.000998\n",
            "Epoch 3, Average loss: 0.169594, Train accuracy: 0.001130\n",
            "Epoch 4, Average loss: 0.169588, Train accuracy: 0.001056\n",
            "Epoch 5, Average loss: 0.169992, Train accuracy: 0.001124\n",
            "Epoch 6, Average loss: 0.169321, Train accuracy: 0.001088\n",
            "Epoch 7, Average loss: 0.169544, Train accuracy: 0.001138\n",
            "Epoch 8, Average loss: 0.169107, Train accuracy: 0.001042\n",
            "Epoch 9, Average loss: 0.168780, Train accuracy: 0.000893\n",
            "Epoch 10, Average loss: 0.166887, Train accuracy: 0.001087\n",
            "Epoch 11, Average loss: 0.167128, Train accuracy: 0.000824\n",
            "Epoch 12, Average loss: 0.166096, Train accuracy: 0.001304\n",
            "Epoch 13, Average loss: 0.167159, Train accuracy: 0.000929\n",
            "Epoch 14, Average loss: 0.164870, Train accuracy: 0.001208\n",
            "Epoch 15, Average loss: 0.165969, Train accuracy: 0.001196\n",
            "Epoch 16, Average loss: 0.164783, Train accuracy: 0.000661\n",
            "Epoch 17, Average loss: 0.164477, Train accuracy: 0.000869\n",
            "Epoch 18, Average loss: 0.164953, Train accuracy: 0.000963\n",
            "Epoch 19, Average loss: 0.164713, Train accuracy: 0.000916\n",
            "Epoch 20, Average loss: 0.164730, Train accuracy: 0.001000\n",
            "Epoch 21, Average loss: 0.164785, Train accuracy: 0.001090\n",
            "Epoch 22, Average loss: 0.163791, Train accuracy: 0.001031\n",
            "Epoch 23, Average loss: 0.161726, Train accuracy: 0.000963\n",
            "Epoch 24, Average loss: 0.163445, Train accuracy: 0.001145\n",
            "Epoch 25, Average loss: 0.162737, Train accuracy: 0.001158\n",
            "Epoch 26, Average loss: 0.161998, Train accuracy: 0.001220\n",
            "Epoch 27, Average loss: 0.161693, Train accuracy: 0.000940\n",
            "Epoch 28, Average loss: 0.163825, Train accuracy: 0.001227\n",
            "Epoch 29, Average loss: 0.162614, Train accuracy: 0.001076\n",
            "Epoch 30, Average loss: 0.161722, Train accuracy: 0.000869\n",
            "Epoch 31, Average loss: 0.162209, Train accuracy: 0.001401\n",
            "Epoch 32, Average loss: 0.161231, Train accuracy: 0.000904\n",
            "Epoch 33, Average loss: 0.162403, Train accuracy: 0.000756\n",
            "Epoch 34, Average loss: 0.161268, Train accuracy: 0.000780\n",
            "Epoch 35, Average loss: 0.160015, Train accuracy: 0.001147\n",
            "Epoch 36, Average loss: 0.160231, Train accuracy: 0.000800\n",
            "Epoch 37, Average loss: 0.159787, Train accuracy: 0.001148\n",
            "Epoch 38, Average loss: 0.161264, Train accuracy: 0.000939\n",
            "Epoch 39, Average loss: 0.159492, Train accuracy: 0.001402\n",
            "Epoch 40, Average loss: 0.159706, Train accuracy: 0.001346\n",
            "Epoch 41, Average loss: 0.159913, Train accuracy: 0.001077\n",
            "Epoch 42, Average loss: 0.160375, Train accuracy: 0.000880\n",
            "Epoch 43, Average loss: 0.160122, Train accuracy: 0.000999\n",
            "Epoch 44, Average loss: 0.159134, Train accuracy: 0.001067\n",
            "Epoch 45, Average loss: 0.159105, Train accuracy: 0.001232\n",
            "Epoch 46, Average loss: 0.159934, Train accuracy: 0.000929\n",
            "Epoch 47, Average loss: 0.159143, Train accuracy: 0.001021\n",
            "Epoch 48, Average loss: 0.158540, Train accuracy: 0.001149\n",
            "Epoch 49, Average loss: 0.159069, Train accuracy: 0.000996\n",
            "Epoch 50, Average loss: 0.159227, Train accuracy: 0.001010\n",
            "Epoch 51, Average loss: 0.158094, Train accuracy: 0.001195\n",
            "Epoch 52, Average loss: 0.158147, Train accuracy: 0.000929\n",
            "Epoch 53, Average loss: 0.156633, Train accuracy: 0.001102\n",
            "Epoch 54, Average loss: 0.158434, Train accuracy: 0.001564\n",
            "Epoch 55, Average loss: 0.158412, Train accuracy: 0.001020\n",
            "Epoch 56, Average loss: 0.156547, Train accuracy: 0.001031\n",
            "Epoch 57, Average loss: 0.157518, Train accuracy: 0.000940\n",
            "Epoch 58, Average loss: 0.157734, Train accuracy: 0.000893\n",
            "Epoch 59, Average loss: 0.157735, Train accuracy: 0.001390\n",
            "Epoch 60, Average loss: 0.156860, Train accuracy: 0.000998\n",
            "Epoch 61, Average loss: 0.157816, Train accuracy: 0.000894\n",
            "Epoch 62, Average loss: 0.157220, Train accuracy: 0.001159\n",
            "Epoch 63, Average loss: 0.157392, Train accuracy: 0.001100\n",
            "Epoch 64, Average loss: 0.157823, Train accuracy: 0.001140\n",
            "Epoch 65, Average loss: 0.156677, Train accuracy: 0.001101\n",
            "Epoch 66, Average loss: 0.156494, Train accuracy: 0.001030\n",
            "Epoch 67, Average loss: 0.157741, Train accuracy: 0.001193\n",
            "Epoch 68, Average loss: 0.156915, Train accuracy: 0.001250\n",
            "Epoch 69, Average loss: 0.157693, Train accuracy: 0.000870\n",
            "Epoch 70, Average loss: 0.156744, Train accuracy: 0.001197\n",
            "Epoch 71, Average loss: 0.156563, Train accuracy: 0.000987\n",
            "Epoch 72, Average loss: 0.156584, Train accuracy: 0.001113\n",
            "Epoch 73, Average loss: 0.156642, Train accuracy: 0.000939\n",
            "Epoch 74, Average loss: 0.156932, Train accuracy: 0.001253\n",
            "Epoch 75, Average loss: 0.157126, Train accuracy: 0.001287\n",
            "Epoch 76, Average loss: 0.155463, Train accuracy: 0.000857\n",
            "Epoch 77, Average loss: 0.154562, Train accuracy: 0.000996\n",
            "Epoch 78, Average loss: 0.155553, Train accuracy: 0.001033\n",
            "Epoch 79, Average loss: 0.155695, Train accuracy: 0.000766\n",
            "Epoch 80, Average loss: 0.155907, Train accuracy: 0.001090\n",
            "Epoch 81, Average loss: 0.156070, Train accuracy: 0.001185\n",
            "Epoch 82, Average loss: 0.156847, Train accuracy: 0.000906\n",
            "Epoch 83, Average loss: 0.155906, Train accuracy: 0.001032\n",
            "Epoch 84, Average loss: 0.155397, Train accuracy: 0.001211\n",
            "Epoch 85, Average loss: 0.155005, Train accuracy: 0.001237\n",
            "Epoch 86, Average loss: 0.155888, Train accuracy: 0.001384\n",
            "Epoch 87, Average loss: 0.154984, Train accuracy: 0.000977\n",
            "Epoch 88, Average loss: 0.154536, Train accuracy: 0.001137\n",
            "Epoch 89, Average loss: 0.155414, Train accuracy: 0.001242\n",
            "Epoch 90, Average loss: 0.154746, Train accuracy: 0.000901\n",
            "Epoch 91, Average loss: 0.154999, Train accuracy: 0.001065\n",
            "Epoch 92, Average loss: 0.154892, Train accuracy: 0.001276\n",
            "Epoch 93, Average loss: 0.153739, Train accuracy: 0.001134\n",
            "Epoch 94, Average loss: 0.153472, Train accuracy: 0.001009\n",
            "Epoch 95, Average loss: 0.154451, Train accuracy: 0.001007\n",
            "Epoch 96, Average loss: 0.153325, Train accuracy: 0.001091\n",
            "Epoch 97, Average loss: 0.152994, Train accuracy: 0.001349\n",
            "Epoch 98, Average loss: 0.154050, Train accuracy: 0.001205\n",
            "Epoch 99, Average loss: 0.153714, Train accuracy: 0.001252\n"
          ],
          "name": "stdout"
        }
      ]
    },
    {
      "cell_type": "code",
      "metadata": {
        "id": "ypAG3_ASufaa",
        "colab_type": "code",
        "colab": {
          "base_uri": "https://localhost:8080/",
          "height": 395
        },
        "outputId": "539b82c8-2a50-4004-e861-ce210259ece3"
      },
      "source": [
        "optimizer = optim.SGD(nn_model.parameters(), lr=0.5, weight_decay=0)\n",
        "scheduler = optim.lr_scheduler.StepLR(optimizer, step_size=10, gamma=1.0)\n",
        "train_loader = torch.utils.data.DataLoader(dataset, batch_size=20)\n",
        "\n",
        "loss_history5, train_history5 = train_neg_sample(nn_model, dataset, train_loader, optimizer, \\\n",
        "                                                 scheduler, 100, save = \"drive/My Drive/Colab Notebooks/word2vecNS_brown.pth\")"
      ],
      "execution_count": 0,
      "outputs": [
        {
          "output_type": "stream",
          "text": [
            "Epoch 0, Average loss: 0.154394, Train accuracy: 0.000882\n",
            "Epoch 1, Average loss: 0.154269, Train accuracy: 0.001103\n",
            "Epoch 2, Average loss: 0.154926, Train accuracy: 0.001065\n",
            "Epoch 3, Average loss: 0.152971, Train accuracy: 0.001031\n",
            "Epoch 4, Average loss: 0.153413, Train accuracy: 0.001022\n",
            "Epoch 5, Average loss: 0.153359, Train accuracy: 0.001000\n",
            "Epoch 6, Average loss: 0.153423, Train accuracy: 0.001125\n",
            "Epoch 7, Average loss: 0.153425, Train accuracy: 0.001033\n",
            "Epoch 8, Average loss: 0.151458, Train accuracy: 0.000809\n",
            "Epoch 9, Average loss: 0.151967, Train accuracy: 0.001358\n",
            "Epoch 10, Average loss: 0.151801, Train accuracy: 0.001290\n",
            "Epoch 11, Average loss: 0.151921, Train accuracy: 0.001101\n",
            "Epoch 12, Average loss: 0.153254, Train accuracy: 0.001207\n",
            "Epoch 13, Average loss: 0.153335, Train accuracy: 0.001077\n",
            "Epoch 14, Average loss: 0.152562, Train accuracy: 0.001046\n",
            "Epoch 15, Average loss: 0.151354, Train accuracy: 0.001124\n",
            "Epoch 16, Average loss: 0.151488, Train accuracy: 0.001127\n",
            "Epoch 17, Average loss: 0.151973, Train accuracy: 0.001561\n",
            "Epoch 18, Average loss: 0.151479, Train accuracy: 0.001090\n",
            "Epoch 19, Average loss: 0.151019, Train accuracy: 0.001043\n",
            "Epoch 20, Average loss: 0.151318, Train accuracy: 0.001068\n"
          ],
          "name": "stdout"
        }
      ]
    },
    {
      "cell_type": "markdown",
      "metadata": {
        "colab_type": "text",
        "id": "d93g_swyJA_V"
      },
      "source": [
        "Пример размеченного предложения:"
      ]
    },
    {
      "cell_type": "code",
      "metadata": {
        "colab_type": "code",
        "id": "QstS4NO0L97c",
        "outputId": "21d3725c-9225-4718-a781-02bb2c570377",
        "colab": {
          "base_uri": "https://localhost:8080/",
          "height": 467
        }
      },
      "source": [
        "for word, tag in data[0]:\n",
        "    print('{:15}\\t{}'.format(word, tag))"
      ],
      "execution_count": 14,
      "outputs": [
        {
          "output_type": "stream",
          "text": [
            "The            \tDET\n",
            "Fulton         \tNOUN\n",
            "County         \tNOUN\n",
            "Grand          \tADJ\n",
            "Jury           \tNOUN\n",
            "said           \tVERB\n",
            "Friday         \tNOUN\n",
            "an             \tDET\n",
            "investigation  \tNOUN\n",
            "of             \tADP\n",
            "Atlanta's      \tNOUN\n",
            "recent         \tADJ\n",
            "primary        \tNOUN\n",
            "election       \tNOUN\n",
            "produced       \tVERB\n",
            "``             \t.\n",
            "no             \tDET\n",
            "evidence       \tNOUN\n",
            "''             \t.\n",
            "that           \tADP\n",
            "any            \tDET\n",
            "irregularities \tNOUN\n",
            "took           \tVERB\n",
            "place          \tNOUN\n",
            ".              \t.\n"
          ],
          "name": "stdout"
        }
      ]
    },
    {
      "cell_type": "markdown",
      "metadata": {
        "colab_type": "text",
        "id": "epdW8u_YXcAv"
      },
      "source": [
        "Построим разбиение на train/val/test - наконец-то, всё как у нормальных людей.\n",
        "\n",
        "На train будем учиться, по val - подбирать параметры и делать всякие early stopping, а на test - принимать модель по ее финальному качеству."
      ]
    },
    {
      "cell_type": "code",
      "metadata": {
        "colab_type": "code",
        "id": "xTai8Ta0lgwL",
        "outputId": "ef8d3763-5a36-460f-ea0a-930ebcce9f04",
        "colab": {
          "base_uri": "https://localhost:8080/",
          "height": 71
        }
      },
      "source": [
        "train_data, test_data = train_test_split(data, test_size=0.25, random_state=42)\n",
        "train_data, val_data = train_test_split(train_data, test_size=0.15, random_state=42)\n",
        "\n",
        "print('Words count in train set:', sum(len(sent) for sent in train_data))\n",
        "print('Words count in val set:', sum(len(sent) for sent in val_data))\n",
        "print('Words count in test set:', sum(len(sent) for sent in test_data))"
      ],
      "execution_count": 15,
      "outputs": [
        {
          "output_type": "stream",
          "text": [
            "Words count in train set: 739769\n",
            "Words count in val set: 130954\n",
            "Words count in test set: 290469\n"
          ],
          "name": "stdout"
        }
      ]
    },
    {
      "cell_type": "markdown",
      "metadata": {
        "colab_type": "text",
        "id": "eChdLNGtXyP0"
      },
      "source": [
        "Построим маппинги из слов в индекс и из тега в индекс:\n"
      ]
    },
    {
      "cell_type": "code",
      "metadata": {
        "colab_type": "code",
        "id": "pCjwwDs6Zq9x",
        "outputId": "2de5c2d9-0dee-4eec-8c04-d51d4deb9cbd",
        "colab": {
          "base_uri": "https://localhost:8080/",
          "height": 55
        }
      },
      "source": [
        "words = {word for sample in train_data for word, tag in sample}\n",
        "word2ind = {word: ind + 1 for ind, word in enumerate(words)}\n",
        "word2ind['<pad>'] = 0\n",
        "\n",
        "tags = {tag for sample in train_data for word, tag in sample}\n",
        "tag2ind = {tag: ind + 1 for ind, tag in enumerate(tags)}\n",
        "tag2ind['<pad>'] = 0\n",
        "\n",
        "print('Unique words in train = {}. Tags = {}'.format(len(word2ind), tags))"
      ],
      "execution_count": 16,
      "outputs": [
        {
          "output_type": "stream",
          "text": [
            "Unique words in train = 45441. Tags = {'CONJ', 'ADV', 'PRT', 'ADJ', '.', 'DET', 'NUM', 'PRON', 'ADP', 'VERB', 'NOUN', 'X'}\n"
          ],
          "name": "stdout"
        }
      ]
    },
    {
      "cell_type": "code",
      "metadata": {
        "id": "l_WXaqFmaA4I",
        "colab_type": "code",
        "colab": {}
      },
      "source": [
        "trained_input_vectors, trained_output_vectors = extract_word_vectors(nn_model)\n",
        "trained_vectors = torch.cat((trained_input_vectors, trained_output_vectors), 0)\n",
        "embeddings = np.zeros((len(word2ind), trained_vectors.shape[1]))\n",
        "for word, ind in word2ind.items():\n",
        "    if word != '<pad>':\n",
        "        word = word.lower()\n",
        "        embeddings[ind] = trained_vectors[StandfordData.index_by_token[word]+1].cpu()"
      ],
      "execution_count": 0,
      "outputs": []
    },
    {
      "cell_type": "code",
      "metadata": {
        "id": "2XotbQzhZQpF",
        "colab_type": "code",
        "colab": {
          "base_uri": "https://localhost:8080/",
          "height": 479
        },
        "outputId": "75e827de-442e-47bf-e228-fd8687b3fd29"
      },
      "source": [
        "from sklearn.decomposition import PCA \n",
        "import matplotlib.pyplot as plt\n",
        "def visualize_vectors(input_vectors, output_vectors, title=''):\n",
        "    full_vectors = torch.cat((input_vectors, output_vectors), 0)\n",
        "    wordvec_embedding = PCA(n_components=2).fit_transform(full_vectors.detach().cpu())\n",
        "\n",
        "    # Helpful words form CS244D example\n",
        "    # http://cs224d.stanford.edu/assignment1/index.html\n",
        "    visualize_words = {'green': [\"the\", \"a\", \"an\"], \n",
        "                      'blue': [\",\", \".\", \"?\", \"!\", \"``\", \"''\", \"--\"], \n",
        "                      'brown': [\"good\", \"great\", \"cool\", \"brilliant\", \"wonderful\", \n",
        "                              \"well\", \"amazing\", \"worth\", \"sweet\", \"enjoyable\"],\n",
        "                      'orange': [\"boring\", \"bad\", \"waste\", \"dumb\", \"annoying\", \"stupid\"],\n",
        "                      'red': ['tell', 'told', 'said', 'say', 'says', 'tells', 'goes', 'go', 'went']\n",
        "                     }\n",
        "\n",
        "    plt.figure(figsize=(7,7))\n",
        "    plt.suptitle(title)\n",
        "    for color, words in visualize_words.items():\n",
        "        points = np.array([wordvec_embedding[StandfordData.index_by_token[w]] for w in words])\n",
        "        for i, word in enumerate(words):\n",
        "            plt.text(points[i, 0], points[i, 1], word, color=color,horizontalalignment='center')\n",
        "        plt.scatter(points[:, 0], points[:, 1], c=color, alpha=0.3, s=0.5)\n",
        "\n",
        "visualize_vectors(trained_input_vectors, trained_output_vectors, \"Trained word vectors\")"
      ],
      "execution_count": 18,
      "outputs": [
        {
          "output_type": "display_data",
          "data": {
            "image/png": "[encoded data removed]",
            "text/plain": [
              "<Figure size 504x504 with 1 Axes>"
            ]
          },
          "metadata": {
            "tags": []
          }
        }
      ]
    },
    {
      "cell_type": "code",
      "metadata": {
        "colab_type": "code",
        "id": "URC1B2nvPGFt",
        "outputId": "54c09afc-2537-41c5-9795-c710cd3f5f33",
        "colab": {
          "base_uri": "https://localhost:8080/",
          "height": 323
        }
      },
      "source": [
        "import matplotlib.pyplot as plt\n",
        "%matplotlib inline\n",
        "\n",
        "from collections import Counter\n",
        "\n",
        "tag_distribution = Counter(tag for sample in train_data for _, tag in sample)\n",
        "tag_distribution = [tag_distribution[tag] for tag in tags]\n",
        "\n",
        "plt.figure(figsize=(10, 5))\n",
        "\n",
        "bar_width = 0.35\n",
        "plt.bar(np.arange(len(tags)), tag_distribution, bar_width, align='center', alpha=0.5)\n",
        "plt.xticks(np.arange(len(tags)), tags)\n",
        "    \n",
        "plt.show()"
      ],
      "execution_count": 19,
      "outputs": [
        {
          "output_type": "display_data",
          "data": {
            "image/png": "[encoded data removed]",
            "text/plain": [
              "<Figure size 720x360 with 1 Axes>"
            ]
          },
          "metadata": {
            "tags": []
          }
        }
      ]
    },
    {
      "cell_type": "markdown",
      "metadata": {
        "colab_type": "text",
        "id": "gArQwbzWWkgi"
      },
      "source": [
        "## Бейзлайн\n",
        "\n",
        "Какой самый простой теггер можно придумать? Давайте просто запоминать, какие теги самые вероятные для слова (или для последовательности):\n",
        "\n",
        "![tag-context](https://www.nltk.org/images/tag-context.png)  \n",
        "*From [Categorizing and Tagging Words, nltk](https://www.nltk.org/book/ch05.html)*\n",
        "\n",
        "На картинке показано, что для предсказания $t_n$ используются два предыдущих предсказанных тега + текущее слово. По корпусу считаются вероятность для $P(t_n| w_n, t_{n-1}, t_{n-2})$, выбирается тег с максимальной вероятностью.\n",
        "\n",
        "Более аккуратно такая идея реализована в Hidden Markov Models: по тренировочному корпусу вычисляются вероятности $P(w_n| t_n), P(t_n|t_{n-1}, t_{n-2})$ и максимизируется их произведение.\n",
        "\n",
        "Простейший вариант - униграммная модель, учитывающая только слово:"
      ]
    },
    {
      "cell_type": "code",
      "metadata": {
        "colab_type": "code",
        "id": "5rWmSToIaeAo",
        "outputId": "6938ad1f-a0b3-41d2-bfcb-07a08f517120",
        "colab": {
          "base_uri": "https://localhost:8080/",
          "height": 35
        }
      },
      "source": [
        "import nltk\n",
        "\n",
        "default_tagger = nltk.DefaultTagger('NN')\n",
        "\n",
        "unigram_tagger = nltk.UnigramTagger(train_data, backoff=default_tagger)\n",
        "print('Accuracy of unigram tagger = {:.2%}'.format(unigram_tagger.evaluate(test_data)))"
      ],
      "execution_count": 0,
      "outputs": [
        {
          "output_type": "stream",
          "text": [
            "Accuracy of unigram tagger = 92.62%\n"
          ],
          "name": "stdout"
        }
      ]
    },
    {
      "cell_type": "markdown",
      "metadata": {
        "colab_type": "text",
        "id": "07Ymb_MkbWsF"
      },
      "source": [
        "Добавим вероятности переходов:"
      ]
    },
    {
      "cell_type": "code",
      "metadata": {
        "colab_type": "code",
        "id": "vjz_Rk0bbMyH",
        "outputId": "3d8964fe-271d-46b7-99fd-18558efd29ea",
        "colab": {
          "base_uri": "https://localhost:8080/",
          "height": 35
        }
      },
      "source": [
        "bigram_tagger = nltk.BigramTagger(train_data, backoff=unigram_tagger)\n",
        "print('Accuracy of bigram tagger = {:.2%}'.format(bigram_tagger.evaluate(test_data)))"
      ],
      "execution_count": 0,
      "outputs": [
        {
          "output_type": "stream",
          "text": [
            "Accuracy of bigram tagger = 93.42%\n"
          ],
          "name": "stdout"
        }
      ]
    },
    {
      "cell_type": "markdown",
      "metadata": {
        "colab_type": "text",
        "id": "uWMw6QHvbaDd"
      },
      "source": [
        "Обратите внимание, что `backoff` важен:"
      ]
    },
    {
      "cell_type": "code",
      "metadata": {
        "colab_type": "code",
        "id": "8XCuxEBVbOY_",
        "outputId": "ed5d80a8-5c3d-4bb0-a36c-9e051531a87d",
        "colab": {
          "base_uri": "https://localhost:8080/",
          "height": 35
        }
      },
      "source": [
        "trigram_tagger = nltk.TrigramTagger(train_data)\n",
        "print('Accuracy of trigram tagger = {:.2%}'.format(trigram_tagger.evaluate(test_data)))"
      ],
      "execution_count": 0,
      "outputs": [
        {
          "output_type": "stream",
          "text": [
            "Accuracy of trigram tagger = 23.33%\n"
          ],
          "name": "stdout"
        }
      ]
    },
    {
      "cell_type": "markdown",
      "metadata": {
        "colab_type": "text",
        "id": "4t3xyYd__8d-"
      },
      "source": [
        "## Увеличиваем контекст с рекуррентными сетями\n",
        "\n",
        "Униграмная модель работает на удивление хорошо, но мы же собрались учить сеточки.\n",
        "\n",
        "Омонимия - основная причина, почему униграмная модель плоха:  \n",
        "*“he cashed a check at the **bank**”*  \n",
        "vs  \n",
        "*“he sat on the **bank** of the river”*\n",
        "\n",
        "Поэтому нам очень полезно учитывать контекст при предсказании тега.\n",
        "\n",
        "Воспользуемся LSTM - он умеет работать с контекстом очень даже хорошо:\n",
        "\n",
        "![](https://image.ibb.co/kgmoff/Baseline-Tagger.png)\n",
        "\n",
        "Синим показано выделение фичей из слова, LSTM оранжевенький - он строит эмбеддинги слов с учетом контекста, а дальше зелененькая логистическая регрессия делает предсказания тегов."
      ]
    },
    {
      "cell_type": "code",
      "metadata": {
        "colab_type": "code",
        "id": "RtRbz1SwgEqc",
        "colab": {}
      },
      "source": [
        "def convert_data(data, word2ind, tag2ind):\n",
        "    X = [[word2ind.get(word, 0) for word, _ in sample] for sample in data]\n",
        "    y = [[tag2ind[tag] for _, tag in sample] for sample in data]\n",
        "    \n",
        "    return X, y\n",
        "\n",
        "X_train, y_train = convert_data(train_data, word2ind, tag2ind)\n",
        "X_val, y_val = convert_data(val_data, word2ind, tag2ind)\n",
        "X_test, y_test = convert_data(test_data, word2ind, tag2ind)"
      ],
      "execution_count": 0,
      "outputs": []
    },
    {
      "cell_type": "code",
      "metadata": {
        "colab_type": "code",
        "id": "DhsTKZalfih6",
        "colab": {}
      },
      "source": [
        "def iterate_batches(data, batch_size):\n",
        "    X, y = data\n",
        "    n_samples = len(X)\n",
        "\n",
        "    indices = np.arange(n_samples)\n",
        "    np.random.shuffle(indices)\n",
        "    \n",
        "    for start in range(0, n_samples, batch_size):\n",
        "        end = min(start + batch_size, n_samples)\n",
        "        \n",
        "        batch_indices = indices[start:end]\n",
        "        \n",
        "        max_sent_len = max(len(X[ind]) for ind in batch_indices)\n",
        "        X_batch = np.zeros((max_sent_len, len(batch_indices)))\n",
        "        y_batch = np.zeros((max_sent_len, len(batch_indices)))\n",
        "        \n",
        "        for batch_ind, sample_ind in enumerate(batch_indices):\n",
        "            X_batch[:len(X[sample_ind]), batch_ind] = X[sample_ind]\n",
        "            y_batch[:len(y[sample_ind]), batch_ind] = y[sample_ind]\n",
        "            \n",
        "        yield X_batch, y_batch"
      ],
      "execution_count": 0,
      "outputs": []
    },
    {
      "cell_type": "code",
      "metadata": {
        "colab_type": "code",
        "id": "l4XsRII5kW5x",
        "outputId": "4621ae5b-a937-4a15-ccff-8f059a6180e6",
        "colab": {
          "base_uri": "https://localhost:8080/",
          "height": 35
        }
      },
      "source": [
        "X_batch, y_batch = next(iterate_batches((X_train, y_train), 4))\n",
        "\n",
        "X_batch.shape, y_batch.shape"
      ],
      "execution_count": 22,
      "outputs": [
        {
          "output_type": "execute_result",
          "data": {
            "text/plain": [
              "((31, 4), (31, 4))"
            ]
          },
          "metadata": {
            "tags": []
          },
          "execution_count": 22
        }
      ]
    },
    {
      "cell_type": "markdown",
      "metadata": {
        "colab_type": "text",
        "id": "C5I9E9P6eFYv"
      },
      "source": [
        "**Задание** Реализуйте `LSTMTagger`:"
      ]
    },
    {
      "cell_type": "code",
      "metadata": {
        "colab_type": "code",
        "id": "WVEHju54d68T",
        "colab": {}
      },
      "source": [
        "class LSTMTagger(nn.Module):\n",
        "    def __init__(self, vocab_size, tagset_size, embeddings, word_emb_dim=100, lstm_hidden_dim=128, lstm_layers_count=1):\n",
        "        super(LSTMTagger, self).__init__()\n",
        "        self.tagset_size = tagset_size\n",
        "        self.word_embeddings = nn.Embedding(vocab_size, word_emb_dim).from_pretrained(embeddings)\n",
        "        self.lstm = nn.LSTM(word_emb_dim, lstm_hidden_dim, lstm_layers_count, bidirectional = True)\n",
        "        self.linear = nn.Linear(2*lstm_hidden_dim, tagset_size)\n",
        "    def forward(self, sentence):\n",
        "        embeds = self.word_embeddings(sentence)\n",
        "        lstm_out, _ = self.lstm(embeds)\n",
        "        tag_space = self.linear(lstm_out)\n",
        "        tag_scores = F.log_softmax(tag_space, dim=1)\n",
        "        return tag_scores"
      ],
      "execution_count": 0,
      "outputs": []
    },
    {
      "cell_type": "markdown",
      "metadata": {
        "colab_type": "text",
        "id": "q_HA8zyheYGH"
      },
      "source": [
        "**Задание** Научитесь считать accuracy и loss (а заодно проверьте, что модель работает)"
      ]
    },
    {
      "cell_type": "code",
      "metadata": {
        "colab_type": "code",
        "id": "jbrxsZ2mehWB",
        "outputId": "e2140887-4e32-471d-a30a-75770c61541a",
        "colab": {
          "base_uri": "https://localhost:8080/",
          "height": 629
        }
      },
      "source": [
        "model = LSTMTagger(\n",
        "    vocab_size=len(word2ind),\n",
        "    tagset_size=len(tag2ind),\n",
        "    embeddings = torch.tensor(embeddings).to(device).type(FloatTensor)\n",
        ").to(device)\n",
        "\n",
        "X_batch, y_batch = LongTensor(X_batch), LongTensor(y_batch)\n",
        "\n",
        "logits = model(X_batch)\n",
        "predictions = torch.argmax(logits, 2)\n",
        "all_words = int(torch.sum(y_batch != 0))\n",
        "print(all_words)\n",
        "accuracy = float(torch.sum((abs(predictions - y_batch) == 0) * (y_batch != 0)))/ all_words\n",
        "print(accuracy)\n",
        "print(logits.shape, y_batch.shape)\n",
        "print(y_batch)"
      ],
      "execution_count": 30,
      "outputs": [
        {
          "output_type": "stream",
          "text": [
            "71\n",
            "0.07042253521126761\n",
            "torch.Size([31, 4, 13]) torch.Size([31, 4])\n",
            "tensor([[ 6,  2, 11, 11],\n",
            "        [11,  5, 10, 11],\n",
            "        [ 9,  8,  6,  9],\n",
            "        [ 6, 10,  4,  6],\n",
            "        [11, 10, 11, 11],\n",
            "        [ 9,  2,  3,  5],\n",
            "        [ 6, 10, 10,  0],\n",
            "        [11,  9,  3,  0],\n",
            "        [ 9,  6,  5,  0],\n",
            "        [ 6, 10,  1,  0],\n",
            "        [11,  1,  8,  0],\n",
            "        [ 2, 10, 10,  0],\n",
            "        [10, 11,  2,  0],\n",
            "        [ 4,  9,  5,  0],\n",
            "        [11, 11,  0,  0],\n",
            "        [ 9, 10,  0,  0],\n",
            "        [11,  6,  0,  0],\n",
            "        [ 1,  4,  0,  0],\n",
            "        [11, 11,  0,  0],\n",
            "        [ 5, 11,  0,  0],\n",
            "        [ 0,  5,  0,  0],\n",
            "        [ 0,  9,  0,  0],\n",
            "        [ 0,  6,  0,  0],\n",
            "        [ 0, 10,  0,  0],\n",
            "        [ 0, 11,  0,  0],\n",
            "        [ 0, 10,  0,  0],\n",
            "        [ 0,  9,  0,  0],\n",
            "        [ 0,  6,  0,  0],\n",
            "        [ 0,  4,  0,  0],\n",
            "        [ 0, 11,  0,  0],\n",
            "        [ 0,  5,  0,  0]], device='cuda:0')\n"
          ],
          "name": "stdout"
        }
      ]
    },
    {
      "cell_type": "code",
      "metadata": {
        "colab_type": "code",
        "id": "GMUyUm1hgpe3",
        "outputId": "39c36544-6943-4b19-fa89-1d298047053b",
        "colab": {
          "base_uri": "https://localhost:8080/",
          "height": 35
        }
      },
      "source": [
        "criterion = nn.CrossEntropyLoss(ignore_index = 0).to(device)\n",
        "print(criterion(logits.view(-1, model.tagset_size), y_batch.flatten()))"
      ],
      "execution_count": 31,
      "outputs": [
        {
          "output_type": "stream",
          "text": [
            "tensor(2.5699, device='cuda:0', grad_fn=<NllLossBackward>)\n"
          ],
          "name": "stdout"
        }
      ]
    },
    {
      "cell_type": "markdown",
      "metadata": {
        "colab_type": "text",
        "id": "nSgV3NPUpcjH"
      },
      "source": [
        "**Задание** Вставьте эти вычисление в функцию:"
      ]
    },
    {
      "cell_type": "code",
      "metadata": {
        "colab_type": "code",
        "id": "FprPQ0gllo7b",
        "colab": {}
      },
      "source": [
        "import math\n",
        "from tqdm import tqdm\n",
        "\n",
        "\n",
        "def do_epoch(model, criterion, data, batch_size, optimizer=None, name=None):\n",
        "    epoch_loss = 0\n",
        "    correct_count = 0\n",
        "    sum_count = 0\n",
        "    \n",
        "    is_train = not optimizer is None\n",
        "    name = name or ''\n",
        "    model.train(is_train)\n",
        "    \n",
        "    batches_count = math.ceil(len(data[0]) / batch_size)\n",
        "    \n",
        "    with torch.autograd.set_grad_enabled(is_train):\n",
        "        with tqdm(total=batches_count) as progress_bar:\n",
        "            for i, (X_batch, y_batch) in enumerate(iterate_batches(data, batch_size)):\n",
        "                X_batch, y_batch = LongTensor(X_batch), LongTensor(y_batch)\n",
        "                logits = model(X_batch)\n",
        "                predictions = torch.argmax(logits, 2)\n",
        "\n",
        "                loss = criterion(logits.view(-1, model.tagset_size), y_batch.flatten())\n",
        "\n",
        "                epoch_loss += loss.item()\n",
        "\n",
        "                if optimizer:\n",
        "                    optimizer.zero_grad()\n",
        "                    loss.backward()\n",
        "                    optimizer.step()\n",
        "\n",
        "                cur_correct_count, cur_sum_count = float(torch.sum(\\\n",
        "                (predictions == y_batch) * (y_batch != 0))), int(torch.sum(y_batch != 0).item())\n",
        "\n",
        "                correct_count += cur_correct_count\n",
        "                sum_count += cur_sum_count\n",
        "\n",
        "                progress_bar.update()\n",
        "                progress_bar.set_description('{:>5s} Loss = {:.5f}, Accuracy = {:.2%}'.format(\n",
        "                    name, loss.item(), cur_correct_count / cur_sum_count)\n",
        "                )\n",
        "                \n",
        "            progress_bar.set_description('{:>5s} Loss = {:.5f}, Accuracy = {:.2%}'.format(\n",
        "                name, epoch_loss / batches_count, correct_count / sum_count)\n",
        "            )\n",
        "\n",
        "    return epoch_loss / batches_count, correct_count / sum_count\n",
        "\n",
        "\n",
        "def fit(model, criterion, optimizer, scheduler, train_data, epochs_count=1, batch_size=32,\n",
        "        val_data=None, val_batch_size=None):\n",
        "        \n",
        "    if not val_data is None and val_batch_size is None:\n",
        "        val_batch_size = batch_size\n",
        "        \n",
        "    for epoch in range(epochs_count):\n",
        "        name_prefix = '[{} / {}] '.format(epoch + 1, epochs_count)\n",
        "        train_loss, train_acc = do_epoch(model, criterion, train_data, batch_size, optimizer, name_prefix + 'Train:')\n",
        "        \n",
        "        if not val_data is None:\n",
        "            val_loss, val_acc = do_epoch(model, criterion, val_data, val_batch_size, None, name_prefix + '  Val:')\n",
        "        scheduler.step()"
      ],
      "execution_count": 0,
      "outputs": []
    },
    {
      "cell_type": "code",
      "metadata": {
        "colab_type": "code",
        "id": "Pqfbeh1ltEYa",
        "outputId": "230622aa-c789-41b4-d889-b3f20a5d0b86",
        "colab": {
          "base_uri": "https://localhost:8080/",
          "height": 1000
        }
      },
      "source": [
        "model = LSTMTagger(\n",
        "    vocab_size=len(word2ind),\n",
        "    tagset_size=len(tag2ind),\n",
        "    embeddings = torch.tensor(embeddings).to(device).type(FloatTensor)\n",
        ").to(device)\n",
        "\n",
        "criterion = nn.CrossEntropyLoss(ignore_index = 0).to(device)\n",
        "#optimizer = optim.SGD(model.parameters(), lr=2., weight_decay=0)\n",
        "optimizer = optim.Adam(model.parameters(), weight_decay=1e-4)\n",
        "scheduler = optim.lr_scheduler.StepLR(optimizer, step_size=10, gamma=1)\n",
        "\n",
        "fit(model, criterion, optimizer, scheduler, train_data=(X_train, y_train), epochs_count=50,\n",
        "    batch_size=64, val_data=(X_val, y_val), val_batch_size=512)"
      ],
      "execution_count": 35,
      "outputs": [
        {
          "output_type": "stream",
          "text": [
            "[1 / 50] Train: Loss = 0.83857, Accuracy = 74.16%: 100%|██████████| 572/572 [00:10<00:00, 55.46it/s]\n",
            "[1 / 50]   Val: Loss = 0.56974, Accuracy = 81.50%: 100%|██████████| 13/13 [00:00<00:00, 33.92it/s]\n",
            "[2 / 50] Train: Loss = 0.46642, Accuracy = 84.75%: 100%|██████████| 572/572 [00:10<00:00, 56.06it/s]\n",
            "[2 / 50]   Val: Loss = 0.43497, Accuracy = 85.62%: 100%|██████████| 13/13 [00:00<00:00, 32.41it/s]\n",
            "[3 / 50] Train: Loss = 0.37916, Accuracy = 87.60%: 100%|██████████| 572/572 [00:10<00:00, 56.09it/s]\n",
            "[3 / 50]   Val: Loss = 0.37773, Accuracy = 87.65%: 100%|██████████| 13/13 [00:00<00:00, 33.08it/s]\n",
            "[4 / 50] Train: Loss = 0.33222, Accuracy = 89.19%: 100%|██████████| 572/572 [00:10<00:00, 54.73it/s]\n",
            "[4 / 50]   Val: Loss = 0.33849, Accuracy = 88.84%: 100%|██████████| 13/13 [00:00<00:00, 33.68it/s]\n",
            "[5 / 50] Train: Loss = 0.30262, Accuracy = 90.19%: 100%|██████████| 572/572 [00:10<00:00, 56.16it/s]\n",
            "[5 / 50]   Val: Loss = 0.31346, Accuracy = 89.65%: 100%|██████████| 13/13 [00:00<00:00, 31.93it/s]\n",
            "[6 / 50] Train: Loss = 0.28052, Accuracy = 90.97%: 100%|██████████| 572/572 [00:10<00:00, 55.93it/s]\n",
            "[6 / 50]   Val: Loss = 0.30214, Accuracy = 90.14%: 100%|██████████| 13/13 [00:00<00:00, 33.70it/s]\n",
            "[7 / 50] Train: Loss = 0.26512, Accuracy = 91.51%: 100%|██████████| 572/572 [00:10<00:00, 56.60it/s]\n",
            "[7 / 50]   Val: Loss = 0.27851, Accuracy = 91.00%: 100%|██████████| 13/13 [00:00<00:00, 34.71it/s]\n",
            "[8 / 50] Train: Loss = 0.25174, Accuracy = 91.98%: 100%|██████████| 572/572 [00:10<00:00, 56.26it/s]\n",
            "[8 / 50]   Val: Loss = 0.27427, Accuracy = 91.10%: 100%|██████████| 13/13 [00:00<00:00, 33.87it/s]\n",
            "[9 / 50] Train: Loss = 0.24199, Accuracy = 92.30%: 100%|██████████| 572/572 [00:10<00:00, 56.04it/s]\n",
            "[9 / 50]   Val: Loss = 0.27176, Accuracy = 91.23%: 100%|██████████| 13/13 [00:00<00:00, 32.57it/s]\n",
            "[10 / 50] Train: Loss = 0.23233, Accuracy = 92.60%: 100%|██████████| 572/572 [00:10<00:00, 55.93it/s]\n",
            "[10 / 50]   Val: Loss = 0.26359, Accuracy = 91.31%: 100%|██████████| 13/13 [00:00<00:00, 34.77it/s]\n",
            "[11 / 50] Train: Loss = 0.22536, Accuracy = 92.85%: 100%|██████████| 572/572 [00:10<00:00, 56.26it/s]\n",
            "[11 / 50]   Val: Loss = 0.25318, Accuracy = 91.80%: 100%|██████████| 13/13 [00:00<00:00, 32.48it/s]\n",
            "[12 / 50] Train: Loss = 0.21844, Accuracy = 93.05%: 100%|██████████| 572/572 [00:10<00:00, 55.92it/s]\n",
            "[12 / 50]   Val: Loss = 0.24821, Accuracy = 91.97%: 100%|██████████| 13/13 [00:00<00:00, 34.01it/s]\n",
            "[13 / 50] Train: Loss = 0.21415, Accuracy = 93.21%: 100%|██████████| 572/572 [00:10<00:00, 59.94it/s]\n",
            "[13 / 50]   Val: Loss = 0.24612, Accuracy = 91.91%: 100%|██████████| 13/13 [00:00<00:00, 32.67it/s]\n",
            "[14 / 50] Train: Loss = 0.20820, Accuracy = 93.40%: 100%|██████████| 572/572 [00:10<00:00, 56.21it/s]\n",
            "[14 / 50]   Val: Loss = 0.24561, Accuracy = 91.92%: 100%|██████████| 13/13 [00:00<00:00, 33.93it/s]\n",
            "[15 / 50] Train: Loss = 0.20516, Accuracy = 93.50%: 100%|██████████| 572/572 [00:10<00:00, 56.25it/s]\n",
            "[15 / 50]   Val: Loss = 0.22882, Accuracy = 92.58%: 100%|██████████| 13/13 [00:00<00:00, 33.24it/s]\n",
            "[16 / 50] Train: Loss = 0.20086, Accuracy = 93.63%: 100%|██████████| 572/572 [00:10<00:00, 56.14it/s]\n",
            "[16 / 50]   Val: Loss = 0.23012, Accuracy = 92.53%: 100%|██████████| 13/13 [00:00<00:00, 32.89it/s]\n",
            "[17 / 50] Train: Loss = 0.19789, Accuracy = 93.72%: 100%|██████████| 572/572 [00:10<00:00, 55.96it/s]\n",
            "[17 / 50]   Val: Loss = 0.22180, Accuracy = 92.76%: 100%|██████████| 13/13 [00:00<00:00, 33.50it/s]\n",
            "[18 / 50] Train: Loss = 0.19518, Accuracy = 93.85%: 100%|██████████| 572/572 [00:10<00:00, 56.04it/s]\n",
            "[18 / 50]   Val: Loss = 0.23338, Accuracy = 92.37%: 100%|██████████| 13/13 [00:00<00:00, 34.09it/s]\n",
            "[19 / 50] Train: Loss = 0.19109, Accuracy = 93.98%: 100%|██████████| 572/572 [00:10<00:00, 55.84it/s]\n",
            "[19 / 50]   Val: Loss = 0.23615, Accuracy = 92.22%: 100%|██████████| 13/13 [00:00<00:00, 33.36it/s]\n",
            "[20 / 50] Train: Loss = 0.18974, Accuracy = 94.01%: 100%|██████████| 572/572 [00:10<00:00, 56.15it/s]\n",
            "[20 / 50]   Val: Loss = 0.21881, Accuracy = 92.90%: 100%|██████████| 13/13 [00:00<00:00, 32.46it/s]\n",
            "[21 / 50] Train: Loss = 0.18658, Accuracy = 94.13%: 100%|██████████| 572/572 [00:10<00:00, 56.15it/s]\n",
            "[21 / 50]   Val: Loss = 0.22617, Accuracy = 92.66%: 100%|██████████| 13/13 [00:00<00:00, 32.42it/s]\n",
            "[22 / 50] Train: Loss = 0.18502, Accuracy = 94.22%: 100%|██████████| 572/572 [00:10<00:00, 56.32it/s]\n",
            "[22 / 50]   Val: Loss = 0.21951, Accuracy = 92.94%: 100%|██████████| 13/13 [00:00<00:00, 33.24it/s]\n",
            "[23 / 50] Train: Loss = 0.18263, Accuracy = 94.25%: 100%|██████████| 572/572 [00:10<00:00, 56.56it/s]\n",
            "[23 / 50]   Val: Loss = 0.22810, Accuracy = 92.51%: 100%|██████████| 13/13 [00:00<00:00, 33.74it/s]\n",
            "[24 / 50] Train: Loss = 0.18081, Accuracy = 94.31%: 100%|██████████| 572/572 [00:10<00:00, 56.05it/s]\n",
            "[24 / 50]   Val: Loss = 0.22537, Accuracy = 92.57%: 100%|██████████| 13/13 [00:00<00:00, 32.92it/s]\n",
            "[25 / 50] Train: Loss = 0.17893, Accuracy = 94.39%: 100%|██████████| 572/572 [00:10<00:00, 56.37it/s]\n",
            "[25 / 50]   Val: Loss = 0.21510, Accuracy = 92.96%: 100%|██████████| 13/13 [00:00<00:00, 34.00it/s]\n",
            "[26 / 50] Train: Loss = 0.17818, Accuracy = 94.42%: 100%|██████████| 572/572 [00:10<00:00, 55.98it/s]\n",
            "[26 / 50]   Val: Loss = 0.20889, Accuracy = 93.19%: 100%|██████████| 13/13 [00:00<00:00, 34.08it/s]\n",
            "[27 / 50] Train: Loss = 0.17617, Accuracy = 94.45%: 100%|██████████| 572/572 [00:10<00:00, 56.73it/s]\n",
            "[27 / 50]   Val: Loss = 0.21589, Accuracy = 92.96%: 100%|██████████| 13/13 [00:00<00:00, 32.41it/s]\n",
            "[28 / 50] Train: Loss = 0.17590, Accuracy = 94.51%: 100%|██████████| 572/572 [00:10<00:00, 57.29it/s]\n",
            "[28 / 50]   Val: Loss = 0.20589, Accuracy = 93.33%: 100%|██████████| 13/13 [00:00<00:00, 32.46it/s]\n",
            "[29 / 50] Train: Loss = 0.17399, Accuracy = 94.57%: 100%|██████████| 572/572 [00:10<00:00, 56.65it/s]\n",
            "[29 / 50]   Val: Loss = 0.21444, Accuracy = 93.00%: 100%|██████████| 13/13 [00:00<00:00, 32.51it/s]\n",
            "[30 / 50] Train: Loss = 0.17227, Accuracy = 94.61%: 100%|██████████| 572/572 [00:10<00:00, 56.27it/s]\n",
            "[30 / 50]   Val: Loss = 0.20818, Accuracy = 93.30%: 100%|██████████| 13/13 [00:00<00:00, 33.95it/s]\n",
            "[31 / 50] Train: Loss = 0.17082, Accuracy = 94.66%: 100%|██████████| 572/572 [00:10<00:00, 56.05it/s]\n",
            "[31 / 50]   Val: Loss = 0.21215, Accuracy = 93.16%: 100%|██████████| 13/13 [00:00<00:00, 34.72it/s]\n",
            "[32 / 50] Train: Loss = 0.17003, Accuracy = 94.69%: 100%|██████████| 572/572 [00:10<00:00, 56.23it/s]\n",
            "[32 / 50]   Val: Loss = 0.21374, Accuracy = 93.07%: 100%|██████████| 13/13 [00:00<00:00, 33.45it/s]\n",
            "[33 / 50] Train: Loss = 0.16999, Accuracy = 94.71%: 100%|██████████| 572/572 [00:10<00:00, 56.31it/s]\n",
            "[33 / 50]   Val: Loss = 0.21195, Accuracy = 93.15%: 100%|██████████| 13/13 [00:00<00:00, 33.34it/s]\n",
            "[34 / 50] Train: Loss = 0.16837, Accuracy = 94.76%: 100%|██████████| 572/572 [00:10<00:00, 56.10it/s]\n",
            "[34 / 50]   Val: Loss = 0.21555, Accuracy = 92.95%: 100%|██████████| 13/13 [00:00<00:00, 31.71it/s]\n",
            "[35 / 50] Train: Loss = 0.16716, Accuracy = 94.79%: 100%|██████████| 572/572 [00:10<00:00, 56.00it/s]\n",
            "[35 / 50]   Val: Loss = 0.20841, Accuracy = 93.10%: 100%|██████████| 13/13 [00:00<00:00, 32.66it/s]\n",
            "[36 / 50] Train: Loss = 0.16509, Accuracy = 94.86%: 100%|██████████| 572/572 [00:10<00:00, 56.38it/s]\n",
            "[36 / 50]   Val: Loss = 0.20726, Accuracy = 93.30%: 100%|██████████| 13/13 [00:00<00:00, 32.27it/s]\n",
            "[37 / 50] Train: Loss = 0.16493, Accuracy = 94.86%: 100%|██████████| 572/572 [00:10<00:00, 56.36it/s]\n",
            "[37 / 50]   Val: Loss = 0.20788, Accuracy = 93.13%: 100%|██████████| 13/13 [00:00<00:00, 33.69it/s]\n",
            "[38 / 50] Train: Loss = 0.16467, Accuracy = 94.89%: 100%|██████████| 572/572 [00:10<00:00, 55.78it/s]\n",
            "[38 / 50]   Val: Loss = 0.21665, Accuracy = 92.81%: 100%|██████████| 13/13 [00:00<00:00, 33.99it/s]\n",
            "[39 / 50] Train: Loss = 0.16391, Accuracy = 94.91%: 100%|██████████| 572/572 [00:10<00:00, 56.32it/s]\n",
            "[39 / 50]   Val: Loss = 0.20126, Accuracy = 93.50%: 100%|██████████| 13/13 [00:00<00:00, 32.00it/s]\n",
            "[40 / 50] Train: Loss = 0.16331, Accuracy = 94.92%: 100%|██████████| 572/572 [00:10<00:00, 55.93it/s]\n",
            "[40 / 50]   Val: Loss = 0.20139, Accuracy = 93.47%: 100%|██████████| 13/13 [00:00<00:00, 32.91it/s]\n",
            "[41 / 50] Train: Loss = 0.16186, Accuracy = 94.97%: 100%|██████████| 572/572 [00:10<00:00, 56.36it/s]\n",
            "[41 / 50]   Val: Loss = 0.19950, Accuracy = 93.50%: 100%|██████████| 13/13 [00:00<00:00, 33.27it/s]\n",
            "[42 / 50] Train: Loss = 0.16088, Accuracy = 95.02%: 100%|██████████| 572/572 [00:10<00:00, 54.52it/s]\n",
            "[42 / 50]   Val: Loss = 0.20609, Accuracy = 93.35%: 100%|██████████| 13/13 [00:00<00:00, 33.88it/s]\n",
            "[43 / 50] Train: Loss = 0.16078, Accuracy = 95.02%: 100%|██████████| 572/572 [00:10<00:00, 55.98it/s]\n",
            "[43 / 50]   Val: Loss = 0.20812, Accuracy = 93.23%: 100%|██████████| 13/13 [00:00<00:00, 32.33it/s]\n",
            "[44 / 50] Train: Loss = 0.16066, Accuracy = 95.01%: 100%|██████████| 572/572 [00:10<00:00, 55.91it/s]\n",
            "[44 / 50]   Val: Loss = 0.20522, Accuracy = 93.32%: 100%|██████████| 13/13 [00:00<00:00, 33.50it/s]\n",
            "[45 / 50] Train: Loss = 0.16000, Accuracy = 95.03%: 100%|██████████| 572/572 [00:10<00:00, 56.31it/s]\n",
            "[45 / 50]   Val: Loss = 0.20559, Accuracy = 93.17%: 100%|██████████| 13/13 [00:00<00:00, 32.91it/s]\n",
            "[46 / 50] Train: Loss = 0.15937, Accuracy = 95.08%: 100%|██████████| 572/572 [00:10<00:00, 56.19it/s]\n",
            "[46 / 50]   Val: Loss = 0.20736, Accuracy = 93.14%: 100%|██████████| 13/13 [00:00<00:00, 33.29it/s]\n",
            "[47 / 50] Train: Loss = 0.15778, Accuracy = 95.14%: 100%|██████████| 572/572 [00:10<00:00, 56.16it/s]\n",
            "[47 / 50]   Val: Loss = 0.20143, Accuracy = 93.44%: 100%|██████████| 13/13 [00:00<00:00, 34.64it/s]\n",
            "[48 / 50] Train: Loss = 0.15798, Accuracy = 95.13%: 100%|██████████| 572/572 [00:10<00:00, 56.10it/s]\n",
            "[48 / 50]   Val: Loss = 0.20468, Accuracy = 93.34%: 100%|██████████| 13/13 [00:00<00:00, 32.66it/s]\n",
            "[49 / 50] Train: Loss = 0.15761, Accuracy = 95.13%: 100%|██████████| 572/572 [00:10<00:00, 56.29it/s]\n",
            "[49 / 50]   Val: Loss = 0.19695, Accuracy = 93.65%: 100%|██████████| 13/13 [00:00<00:00, 32.16it/s]\n",
            "[50 / 50] Train: Loss = 0.15757, Accuracy = 95.13%: 100%|██████████| 572/572 [00:10<00:00, 59.14it/s]\n",
            "[50 / 50]   Val: Loss = 0.20394, Accuracy = 93.41%: 100%|██████████| 13/13 [00:00<00:00, 32.61it/s]\n"
          ],
          "name": "stderr"
        }
      ]
    },
    {
      "cell_type": "code",
      "metadata": {
        "id": "Dn5-uOWpH7eS",
        "colab_type": "code",
        "colab": {
          "base_uri": "https://localhost:8080/",
          "height": 1000
        },
        "outputId": "0cc17bca-c5fe-4d26-b18c-3bb61fe69c9d"
      },
      "source": [
        "optimizer = optim.Adam(model.parameters(), lr = 0.0001, weight_decay=1e-4)\n",
        "fit(model, criterion, optimizer, scheduler, train_data=(X_train, y_train), epochs_count=50,\n",
        "    batch_size=64, val_data=(X_val, y_val), val_batch_size=512)"
      ],
      "execution_count": 39,
      "outputs": [
        {
          "output_type": "stream",
          "text": [
            "[1 / 50] Train: Loss = 0.12709, Accuracy = 96.35%: 100%|██████████| 572/572 [00:10<00:00, 55.55it/s]\n",
            "[1 / 50]   Val: Loss = 0.17997, Accuracy = 94.24%: 100%|██████████| 13/13 [00:00<00:00, 34.13it/s]\n",
            "[2 / 50] Train: Loss = 0.12460, Accuracy = 96.43%: 100%|██████████| 572/572 [00:10<00:00, 56.75it/s]\n",
            "[2 / 50]   Val: Loss = 0.18151, Accuracy = 94.18%: 100%|██████████| 13/13 [00:00<00:00, 33.07it/s]\n",
            "[3 / 50] Train: Loss = 0.12343, Accuracy = 96.45%: 100%|██████████| 572/572 [00:09<00:00, 57.20it/s]\n",
            "[3 / 50]   Val: Loss = 0.18108, Accuracy = 94.17%: 100%|██████████| 13/13 [00:00<00:00, 33.98it/s]\n",
            "[4 / 50] Train: Loss = 0.12417, Accuracy = 96.46%: 100%|██████████| 572/572 [00:10<00:00, 56.33it/s]\n",
            "[4 / 50]   Val: Loss = 0.18224, Accuracy = 94.09%: 100%|██████████| 13/13 [00:00<00:00, 33.32it/s]\n",
            "[5 / 50] Train: Loss = 0.12352, Accuracy = 96.46%: 100%|██████████| 572/572 [00:10<00:00, 56.97it/s]\n",
            "[5 / 50]   Val: Loss = 0.18294, Accuracy = 94.07%: 100%|██████████| 13/13 [00:00<00:00, 32.74it/s]\n",
            "[6 / 50] Train: Loss = 0.12419, Accuracy = 96.45%: 100%|██████████| 572/572 [00:10<00:00, 56.41it/s]\n",
            "[6 / 50]   Val: Loss = 0.18177, Accuracy = 94.18%: 100%|██████████| 13/13 [00:00<00:00, 33.79it/s]\n",
            "[7 / 50] Train: Loss = 0.12285, Accuracy = 96.49%: 100%|██████████| 572/572 [00:10<00:00, 57.14it/s]\n",
            "[7 / 50]   Val: Loss = 0.18211, Accuracy = 94.14%: 100%|██████████| 13/13 [00:00<00:00, 33.47it/s]\n",
            "[8 / 50] Train: Loss = 0.12373, Accuracy = 96.47%: 100%|██████████| 572/572 [00:09<00:00, 57.43it/s]\n",
            "[8 / 50]   Val: Loss = 0.18203, Accuracy = 94.16%: 100%|██████████| 13/13 [00:00<00:00, 32.71it/s]\n",
            "[9 / 50] Train: Loss = 0.12262, Accuracy = 96.52%: 100%|██████████| 572/572 [00:10<00:00, 57.02it/s]\n",
            "[9 / 50]   Val: Loss = 0.18305, Accuracy = 94.11%: 100%|██████████| 13/13 [00:00<00:00, 33.01it/s]\n",
            "[10 / 50] Train: Loss = 0.12208, Accuracy = 96.51%: 100%|██████████| 572/572 [00:10<00:00, 56.40it/s]\n",
            "[10 / 50]   Val: Loss = 0.18529, Accuracy = 94.04%: 100%|██████████| 13/13 [00:00<00:00, 33.93it/s]\n",
            "[11 / 50] Train: Loss = 0.12234, Accuracy = 96.52%: 100%|██████████| 572/572 [00:10<00:00, 56.61it/s]\n",
            "[11 / 50]   Val: Loss = 0.18173, Accuracy = 94.16%: 100%|██████████| 13/13 [00:00<00:00, 33.81it/s]\n",
            "[12 / 50] Train: Loss = 0.12219, Accuracy = 96.51%: 100%|██████████| 572/572 [00:10<00:00, 56.32it/s]\n",
            "[12 / 50]   Val: Loss = 0.18429, Accuracy = 94.05%: 100%|██████████| 13/13 [00:00<00:00, 35.47it/s]\n",
            "[13 / 50] Train: Loss = 0.12277, Accuracy = 96.52%: 100%|██████████| 572/572 [00:10<00:00, 56.03it/s]\n",
            "[13 / 50]   Val: Loss = 0.18357, Accuracy = 94.06%: 100%|██████████| 13/13 [00:00<00:00, 33.80it/s]\n",
            "[14 / 50] Train: Loss = 0.12292, Accuracy = 96.50%: 100%|██████████| 572/572 [00:10<00:00, 55.97it/s]\n",
            "[14 / 50]   Val: Loss = 0.18206, Accuracy = 94.19%: 100%|██████████| 13/13 [00:00<00:00, 33.49it/s]\n",
            "[15 / 50] Train: Loss = 0.12248, Accuracy = 96.51%: 100%|██████████| 572/572 [00:10<00:00, 56.49it/s]\n",
            "[15 / 50]   Val: Loss = 0.18212, Accuracy = 94.15%: 100%|██████████| 13/13 [00:00<00:00, 32.78it/s]\n",
            "[16 / 50] Train: Loss = 0.12291, Accuracy = 96.53%: 100%|██████████| 572/572 [00:10<00:00, 54.34it/s]\n",
            "[16 / 50]   Val: Loss = 0.18084, Accuracy = 94.22%: 100%|██████████| 13/13 [00:00<00:00, 33.79it/s]\n",
            "[17 / 50] Train: Loss = 0.12258, Accuracy = 96.50%: 100%|██████████| 572/572 [00:10<00:00, 56.03it/s]\n",
            "[17 / 50]   Val: Loss = 0.18412, Accuracy = 94.09%: 100%|██████████| 13/13 [00:00<00:00, 32.71it/s]\n",
            "[18 / 50] Train: Loss = 0.12202, Accuracy = 96.53%: 100%|██████████| 572/572 [00:10<00:00, 56.01it/s]\n",
            "[18 / 50]   Val: Loss = 0.18058, Accuracy = 94.19%: 100%|██████████| 13/13 [00:00<00:00, 33.70it/s]\n",
            "[19 / 50] Train: Loss = 0.12193, Accuracy = 96.54%: 100%|██████████| 572/572 [00:10<00:00, 56.57it/s]\n",
            "[19 / 50]   Val: Loss = 0.18371, Accuracy = 94.07%: 100%|██████████| 13/13 [00:00<00:00, 32.69it/s]\n",
            "[20 / 50] Train: Loss = 0.12240, Accuracy = 96.53%: 100%|██████████| 572/572 [00:10<00:00, 56.97it/s]\n",
            "[20 / 50]   Val: Loss = 0.18308, Accuracy = 94.09%: 100%|██████████| 13/13 [00:00<00:00, 33.57it/s]\n",
            "[21 / 50] Train: Loss = 0.12299, Accuracy = 96.53%: 100%|██████████| 572/572 [00:10<00:00, 55.88it/s]\n",
            "[21 / 50]   Val: Loss = 0.18456, Accuracy = 94.08%: 100%|██████████| 13/13 [00:00<00:00, 33.67it/s]\n",
            "[22 / 50] Train: Loss = 0.12155, Accuracy = 96.54%: 100%|██████████| 572/572 [00:10<00:00, 56.08it/s]\n",
            "[22 / 50]   Val: Loss = 0.18383, Accuracy = 94.14%: 100%|██████████| 13/13 [00:00<00:00, 34.94it/s]\n",
            "[23 / 50] Train: Loss = 0.12184, Accuracy = 96.53%: 100%|██████████| 572/572 [00:10<00:00, 56.33it/s]\n",
            "[23 / 50]   Val: Loss = 0.18243, Accuracy = 94.15%: 100%|██████████| 13/13 [00:00<00:00, 33.20it/s]\n",
            "[24 / 50] Train: Loss = 0.12169, Accuracy = 96.54%: 100%|██████████| 572/572 [00:10<00:00, 56.27it/s]\n",
            "[24 / 50]   Val: Loss = 0.18334, Accuracy = 94.08%: 100%|██████████| 13/13 [00:00<00:00, 33.14it/s]\n",
            "[25 / 50] Train: Loss = 0.12161, Accuracy = 96.54%: 100%|██████████| 572/572 [00:10<00:00, 56.35it/s]\n",
            "[25 / 50]   Val: Loss = 0.18337, Accuracy = 94.10%: 100%|██████████| 13/13 [00:00<00:00, 33.39it/s]\n",
            "[26 / 50] Train: Loss = 0.12191, Accuracy = 96.54%: 100%|██████████| 572/572 [00:10<00:00, 56.11it/s]\n",
            "[26 / 50]   Val: Loss = 0.18449, Accuracy = 94.06%: 100%|██████████| 13/13 [00:00<00:00, 32.80it/s]\n",
            "[27 / 50] Train: Loss = 0.12185, Accuracy = 96.55%: 100%|██████████| 572/572 [00:10<00:00, 56.26it/s]\n",
            "[27 / 50]   Val: Loss = 0.18483, Accuracy = 94.06%: 100%|██████████| 13/13 [00:00<00:00, 32.22it/s]\n",
            "[28 / 50] Train: Loss = 0.12100, Accuracy = 96.56%: 100%|██████████| 572/572 [00:10<00:00, 56.03it/s]\n",
            "[28 / 50]   Val: Loss = 0.18420, Accuracy = 94.06%: 100%|██████████| 13/13 [00:00<00:00, 33.85it/s]\n",
            "[29 / 50] Train: Loss = 0.12135, Accuracy = 96.55%: 100%|██████████| 572/572 [00:10<00:00, 57.22it/s]\n",
            "[29 / 50]   Val: Loss = 0.18533, Accuracy = 94.07%: 100%|██████████| 13/13 [00:00<00:00, 34.11it/s]\n",
            "[30 / 50] Train: Loss = 0.12203, Accuracy = 96.56%: 100%|██████████| 572/572 [00:10<00:00, 56.05it/s]\n",
            "[30 / 50]   Val: Loss = 0.18332, Accuracy = 94.09%: 100%|██████████| 13/13 [00:00<00:00, 32.78it/s]\n",
            "[31 / 50] Train: Loss = 0.12163, Accuracy = 96.54%: 100%|██████████| 572/572 [00:10<00:00, 56.35it/s]\n",
            "[31 / 50]   Val: Loss = 0.18274, Accuracy = 94.13%: 100%|██████████| 13/13 [00:00<00:00, 35.28it/s]\n",
            "[32 / 50] Train: Loss = 0.12170, Accuracy = 96.56%: 100%|██████████| 572/572 [00:10<00:00, 56.10it/s]\n",
            "[32 / 50]   Val: Loss = 0.18634, Accuracy = 94.00%: 100%|██████████| 13/13 [00:00<00:00, 32.16it/s]\n",
            "[33 / 50] Train: Loss = 0.12110, Accuracy = 96.55%: 100%|██████████| 572/572 [00:10<00:00, 55.85it/s]\n",
            "[33 / 50]   Val: Loss = 0.18566, Accuracy = 94.02%: 100%|██████████| 13/13 [00:00<00:00, 33.14it/s]\n",
            "[34 / 50] Train: Loss = 0.12112, Accuracy = 96.58%: 100%|██████████| 572/572 [00:10<00:00, 56.05it/s]\n",
            "[34 / 50]   Val: Loss = 0.17987, Accuracy = 94.19%: 100%|██████████| 13/13 [00:00<00:00, 33.22it/s]\n",
            "[35 / 50] Train: Loss = 0.12081, Accuracy = 96.58%: 100%|██████████| 572/572 [00:10<00:00, 56.02it/s]\n",
            "[35 / 50]   Val: Loss = 0.18459, Accuracy = 94.04%: 100%|██████████| 13/13 [00:00<00:00, 34.19it/s]\n",
            "[36 / 50] Train: Loss = 0.12121, Accuracy = 96.56%: 100%|██████████| 572/572 [00:10<00:00, 56.14it/s]\n",
            "[36 / 50]   Val: Loss = 0.18396, Accuracy = 94.06%: 100%|██████████| 13/13 [00:00<00:00, 33.04it/s]\n",
            "[37 / 50] Train: Loss = 0.12174, Accuracy = 96.56%: 100%|██████████| 572/572 [00:10<00:00, 56.01it/s]\n",
            "[37 / 50]   Val: Loss = 0.18843, Accuracy = 93.91%: 100%|██████████| 13/13 [00:00<00:00, 32.63it/s]\n",
            "[38 / 50] Train: Loss = 0.12111, Accuracy = 96.56%: 100%|██████████| 572/572 [00:10<00:00, 55.92it/s]\n",
            "[38 / 50]   Val: Loss = 0.18332, Accuracy = 94.09%: 100%|██████████| 13/13 [00:00<00:00, 33.03it/s]\n",
            "[39 / 50] Train: Loss = 0.12075, Accuracy = 96.60%: 100%|██████████| 572/572 [00:10<00:00, 56.19it/s]\n",
            "[39 / 50]   Val: Loss = 0.18463, Accuracy = 94.07%: 100%|██████████| 13/13 [00:00<00:00, 33.63it/s]\n",
            "[40 / 50] Train: Loss = 0.12093, Accuracy = 96.57%: 100%|██████████| 572/572 [00:10<00:00, 56.29it/s]\n",
            "[40 / 50]   Val: Loss = 0.18472, Accuracy = 94.06%: 100%|██████████| 13/13 [00:00<00:00, 32.87it/s]\n",
            "[41 / 50] Train: Loss = 0.12049, Accuracy = 96.58%: 100%|██████████| 572/572 [00:10<00:00, 56.19it/s]\n",
            "[41 / 50]   Val: Loss = 0.18394, Accuracy = 94.08%: 100%|██████████| 13/13 [00:00<00:00, 31.93it/s]\n",
            "[42 / 50] Train: Loss = 0.12086, Accuracy = 96.57%: 100%|██████████| 572/572 [00:10<00:00, 56.05it/s]\n",
            "[42 / 50]   Val: Loss = 0.18498, Accuracy = 94.00%: 100%|██████████| 13/13 [00:00<00:00, 35.24it/s]\n",
            "[43 / 50] Train: Loss = 0.12089, Accuracy = 96.57%: 100%|██████████| 572/572 [00:10<00:00, 56.64it/s]\n",
            "[43 / 50]   Val: Loss = 0.18461, Accuracy = 94.04%: 100%|██████████| 13/13 [00:00<00:00, 34.22it/s]\n",
            "[44 / 50] Train: Loss = 0.12037, Accuracy = 96.59%: 100%|██████████| 572/572 [00:10<00:00, 56.77it/s]\n",
            "[44 / 50]   Val: Loss = 0.18555, Accuracy = 94.04%: 100%|██████████| 13/13 [00:00<00:00, 32.02it/s]\n",
            "[45 / 50] Train: Loss = 0.12024, Accuracy = 96.59%: 100%|██████████| 572/572 [00:10<00:00, 56.84it/s]\n",
            "[45 / 50]   Val: Loss = 0.18387, Accuracy = 94.07%: 100%|██████████| 13/13 [00:00<00:00, 33.47it/s]\n",
            "[46 / 50] Train: Loss = 0.11999, Accuracy = 96.61%: 100%|██████████| 572/572 [00:10<00:00, 56.55it/s]\n",
            "[46 / 50]   Val: Loss = 0.18730, Accuracy = 93.95%: 100%|██████████| 13/13 [00:00<00:00, 33.00it/s]\n",
            "[47 / 50] Train: Loss = 0.12042, Accuracy = 96.60%: 100%|██████████| 572/572 [00:09<00:00, 57.29it/s]\n",
            "[47 / 50]   Val: Loss = 0.18455, Accuracy = 94.06%: 100%|██████████| 13/13 [00:00<00:00, 32.73it/s]\n",
            "[48 / 50] Train: Loss = 0.12082, Accuracy = 96.59%: 100%|██████████| 572/572 [00:09<00:00, 57.31it/s]\n",
            "[48 / 50]   Val: Loss = 0.18786, Accuracy = 93.93%: 100%|██████████| 13/13 [00:00<00:00, 35.12it/s]\n",
            "[49 / 50] Train: Loss = 0.11962, Accuracy = 96.62%: 100%|██████████| 572/572 [00:10<00:00, 58.04it/s]\n",
            "[49 / 50]   Val: Loss = 0.18585, Accuracy = 94.00%: 100%|██████████| 13/13 [00:00<00:00, 34.20it/s]\n",
            "[50 / 50] Train: Loss = 0.11939, Accuracy = 96.63%: 100%|██████████| 572/572 [00:10<00:00, 53.58it/s]\n",
            "[50 / 50]   Val: Loss = 0.18464, Accuracy = 94.08%: 100%|██████████| 13/13 [00:00<00:00, 33.26it/s]\n"
          ],
          "name": "stderr"
        }
      ]
    },
    {
      "cell_type": "markdown",
      "metadata": {
        "colab_type": "text",
        "id": "m0qGetIhfUE5"
      },
      "source": [
        "### Masking\n",
        "\n",
        "**Задание** Проверьте себя - не считаете ли вы потери и accuracy на паддингах - очень легко получить высокое качество за счет этого.\n",
        "\n",
        "У функции потерь есть параметр `ignore_index`, для таких целей. Для accuracy нужно использовать маскинг - умножение на маску из нулей и единиц, где нули на позициях паддингов (а потом усреднение по ненулевым позициям в маске)."
      ]
    },
    {
      "cell_type": "markdown",
      "metadata": {
        "colab_type": "text",
        "id": "nAfV2dEOfHo5"
      },
      "source": [
        "**Задание** Посчитайте качество модели на тесте. Ожидается результат лучше бейзлайна!"
      ]
    },
    {
      "cell_type": "code",
      "metadata": {
        "colab_type": "code",
        "id": "98wr38_rw55D",
        "outputId": "a05462ec-7084-42ef-b4bd-a9eaab3f4e53",
        "colab": {
          "base_uri": "https://localhost:8080/",
          "height": 35
        }
      },
      "source": [
        "test_loss, test_acc = do_epoch(model, criterion, data = (X_test, y_test), batch_size = 64)"
      ],
      "execution_count": 40,
      "outputs": [
        {
          "output_type": "stream",
          "text": [
            "      Loss = 0.19496, Accuracy = 93.84%: 100%|██████████| 224/224 [00:02<00:00, 98.12it/s]\n"
          ],
          "name": "stderr"
        }
      ]
    },
    {
      "cell_type": "code",
      "metadata": {
        "id": "LKNyLW030p6w",
        "colab_type": "code",
        "outputId": "89b7eeac-7975-42ec-af51-d77e174b8b3a",
        "colab": {
          "base_uri": "https://localhost:8080/",
          "height": 35
        }
      },
      "source": [
        "print(test_loss, test_acc)"
      ],
      "execution_count": 41,
      "outputs": [
        {
          "output_type": "stream",
          "text": [
            "0.1949646504861968 0.9383686383056368\n"
          ],
          "name": "stdout"
        }
      ]
    },
    {
      "cell_type": "markdown",
      "metadata": {
        "colab_type": "text",
        "id": "PXUTSFaEHbDG"
      },
      "source": [
        "### Bidirectional LSTM\n",
        "\n",
        "Благодаря BiLSTM можно использовать сразу оба контеста при предсказании тега слова. Т.е. для каждого токена $w_i$ forward LSTM будет выдавать представление $\\mathbf{f_i} \\sim (w_1, \\ldots, w_i)$ - построенное по всему левому контексту - и $\\mathbf{b_i} \\sim (w_n, \\ldots, w_i)$ - представление правого контекста. Их конкатенация автоматически захватит весь доступный контекст слова: $\\mathbf{h_i} = [\\mathbf{f_i}, \\mathbf{b_i}] \\sim (w_1, \\ldots, w_n)$.\n",
        "\n",
        "![BiLSTM](https://www.researchgate.net/profile/Wang_Ling/publication/280912217/figure/fig2/AS:391505383575555@1470353565299/Illustration-of-our-neural-network-for-POS-tagging.png)  \n",
        "*From [Finding Function in Form: Compositional Character Models for Open Vocabulary Word Representation](https://arxiv.org/abs/1508.02096)*\n",
        "\n",
        "**Задание** Добавьте Bidirectional LSTM."
      ]
    },
    {
      "cell_type": "code",
      "metadata": {
        "id": "ywRU6jLXe4jw",
        "colab_type": "code",
        "colab": {}
      },
      "source": [
        ""
      ],
      "execution_count": 0,
      "outputs": []
    },
    {
      "cell_type": "markdown",
      "metadata": {
        "colab_type": "text",
        "id": "ZTXmYGD_ANhm"
      },
      "source": [
        "### Предобученные эмбеддинги\n",
        "\n",
        "Мы знаем, какая клёвая вещь - предобученные эмбеддинги. При текущем размере обучающей выборки еще можно было учить их и с нуля - с меньшей было бы совсем плохо.\n",
        "\n",
        "Поэтому стандартный пайплайн - скачать эмбеддинги, засунуть их в сеточку. Запустим его:"
      ]
    },
    {
      "cell_type": "code",
      "metadata": {
        "colab_type": "code",
        "id": "uZpY_Q1xZ18h",
        "outputId": "bc2e7a1f-72d2-416d-e9b5-8f5d8e7210ec",
        "colab": {
          "base_uri": "https://localhost:8080/",
          "height": 91
        }
      },
      "source": [
        "import gensim.downloader as api\n",
        "\n",
        "w2v_model = api.load('glove-wiki-gigaword-100')"
      ],
      "execution_count": 42,
      "outputs": [
        {
          "output_type": "stream",
          "text": [
            "[==================================================] 100.0% 128.1/128.1MB downloaded\n"
          ],
          "name": "stdout"
        },
        {
          "output_type": "stream",
          "text": [
            "/usr/local/lib/python3.6/dist-packages/smart_open/smart_open_lib.py:398: UserWarning: This function is deprecated, use smart_open.open instead. See the migration notes for details: https://github.com/RaRe-Technologies/smart_open/blob/master/README.rst#migrating-to-the-new-open-function\n",
            "  'See the migration notes for details: %s' % _MIGRATION_NOTES_URL\n"
          ],
          "name": "stderr"
        }
      ]
    },
    {
      "cell_type": "code",
      "metadata": {
        "id": "v0zXVCrnuFJY",
        "colab_type": "code",
        "outputId": "6c8bc85a-a51e-41fb-e120-e0bab54190fe",
        "colab": {
          "base_uri": "https://localhost:8080/",
          "height": 253
        }
      },
      "source": [
        "w2v_model.most_similar(\"cat\")"
      ],
      "execution_count": 43,
      "outputs": [
        {
          "output_type": "stream",
          "text": [
            "/usr/local/lib/python3.6/dist-packages/gensim/matutils.py:737: FutureWarning: Conversion of the second argument of issubdtype from `int` to `np.signedinteger` is deprecated. In future, it will be treated as `np.int64 == np.dtype(int).type`.\n",
            "  if np.issubdtype(vec.dtype, np.int):\n"
          ],
          "name": "stderr"
        },
        {
          "output_type": "execute_result",
          "data": {
            "text/plain": [
              "[('dog', 0.8798074722290039),\n",
              " ('rabbit', 0.7424426674842834),\n",
              " ('cats', 0.7323004007339478),\n",
              " ('monkey', 0.7288709878921509),\n",
              " ('pet', 0.7190139889717102),\n",
              " ('dogs', 0.7163872718811035),\n",
              " ('mouse', 0.6915250420570374),\n",
              " ('puppy', 0.6800068020820618),\n",
              " ('rat', 0.6641027331352234),\n",
              " ('spider', 0.6501135230064392)]"
            ]
          },
          "metadata": {
            "tags": []
          },
          "execution_count": 43
        }
      ]
    },
    {
      "cell_type": "code",
      "metadata": {
        "id": "dfIwer2quW54",
        "colab_type": "code",
        "outputId": "f376f1b2-442c-41d9-c216-9830a2428ee8",
        "colab": {
          "base_uri": "https://localhost:8080/",
          "height": 35
        }
      },
      "source": [
        "w2v_model.vectors.shape"
      ],
      "execution_count": 44,
      "outputs": [
        {
          "output_type": "execute_result",
          "data": {
            "text/plain": [
              "(400000, 100)"
            ]
          },
          "metadata": {
            "tags": []
          },
          "execution_count": 44
        }
      ]
    },
    {
      "cell_type": "markdown",
      "metadata": {
        "colab_type": "text",
        "id": "KYogOoKlgtcf"
      },
      "source": [
        "Построим подматрицу для слов из нашей тренировочной выборки:"
      ]
    },
    {
      "cell_type": "code",
      "metadata": {
        "colab_type": "code",
        "id": "VsCstxiO03oT",
        "outputId": "37f85550-27a0-4ed7-d258-0e147a99e434",
        "colab": {
          "base_uri": "https://localhost:8080/",
          "height": 35
        }
      },
      "source": [
        "known_count = 0\n",
        "for word, ind in word2ind.items():\n",
        "    word = word.lower()\n",
        "    if word in w2v_model.vocab:\n",
        "        embeddings[ind] = w2v_model.get_vector(word)\n",
        "        known_count += 1\n",
        "        \n",
        "print('Know {} out of {} word embeddings'.format(known_count, len(word2ind)))"
      ],
      "execution_count": 45,
      "outputs": [
        {
          "output_type": "stream",
          "text": [
            "Know 38736 out of 45441 word embeddings\n"
          ],
          "name": "stdout"
        }
      ]
    },
    {
      "cell_type": "markdown",
      "metadata": {
        "colab_type": "text",
        "id": "HcG7i-R8hbY3"
      },
      "source": [
        "**Задание** Сделайте модель с предобученной матрицей. Используйте `nn.Embedding.from_pretrained`."
      ]
    },
    {
      "cell_type": "code",
      "metadata": {
        "colab_type": "code",
        "id": "EBtI6BDE-Fc7",
        "colab": {
          "base_uri": "https://localhost:8080/",
          "height": 1000
        },
        "outputId": "dfa4674d-5784-4874-abbc-0b0f0193c1d4"
      },
      "source": [
        "model = LSTMTagger(\n",
        "    vocab_size=len(word2ind),\n",
        "    tagset_size=len(tag2ind),\n",
        "    embeddings = torch.tensor(embeddings).to(device).type(FloatTensor)\n",
        ").to(device)\n",
        "\n",
        "criterion = nn.CrossEntropyLoss(ignore_index=0)\n",
        "optimizer = optim.Adam(model.parameters())\n",
        "scheduler = optim.lr_scheduler.StepLR(optimizer, step_size=10, gamma=1)\n",
        "\n",
        "fit(model, criterion, optimizer, scheduler, train_data=(X_train, y_train), epochs_count=50,\n",
        "    batch_size=64, val_data=(X_val, y_val), val_batch_size=512)"
      ],
      "execution_count": 47,
      "outputs": [
        {
          "output_type": "stream",
          "text": [
            "[1 / 50] Train: Loss = 0.49325, Accuracy = 86.60%: 100%|██████████| 572/572 [00:10<00:00, 55.89it/s]\n",
            "[1 / 50]   Val: Loss = 0.22910, Accuracy = 93.10%: 100%|██████████| 13/13 [00:00<00:00, 33.72it/s]\n",
            "[2 / 50] Train: Loss = 0.17906, Accuracy = 94.60%: 100%|██████████| 572/572 [00:10<00:00, 56.21it/s]\n",
            "[2 / 50]   Val: Loss = 0.16406, Accuracy = 95.06%: 100%|██████████| 13/13 [00:00<00:00, 32.75it/s]\n",
            "[3 / 50] Train: Loss = 0.12902, Accuracy = 96.07%: 100%|██████████| 572/572 [00:10<00:00, 56.11it/s]\n",
            "[3 / 50]   Val: Loss = 0.13553, Accuracy = 95.86%: 100%|██████████| 13/13 [00:00<00:00, 32.53it/s]\n",
            "[4 / 50] Train: Loss = 0.10522, Accuracy = 96.80%: 100%|██████████| 572/572 [00:10<00:00, 56.46it/s]\n",
            "[4 / 50]   Val: Loss = 0.12312, Accuracy = 96.18%: 100%|██████████| 13/13 [00:00<00:00, 34.29it/s]\n",
            "[5 / 50] Train: Loss = 0.09146, Accuracy = 97.18%: 100%|██████████| 572/572 [00:10<00:00, 56.26it/s]\n",
            "[5 / 50]   Val: Loss = 0.11586, Accuracy = 96.52%: 100%|██████████| 13/13 [00:00<00:00, 34.01it/s]\n",
            "[6 / 50] Train: Loss = 0.08048, Accuracy = 97.51%: 100%|██████████| 572/572 [00:10<00:00, 52.33it/s]\n",
            "[6 / 50]   Val: Loss = 0.10579, Accuracy = 96.80%: 100%|██████████| 13/13 [00:00<00:00, 33.63it/s]\n",
            "[7 / 50] Train: Loss = 0.07240, Accuracy = 97.75%: 100%|██████████| 572/572 [00:10<00:00, 56.42it/s]\n",
            "[7 / 50]   Val: Loss = 0.10451, Accuracy = 96.82%: 100%|██████████| 13/13 [00:00<00:00, 32.61it/s]\n",
            "[8 / 50] Train: Loss = 0.06623, Accuracy = 97.92%: 100%|██████████| 572/572 [00:10<00:00, 56.57it/s]\n",
            "[8 / 50]   Val: Loss = 0.10247, Accuracy = 96.90%: 100%|██████████| 13/13 [00:00<00:00, 32.18it/s]\n",
            "[9 / 50] Train: Loss = 0.06123, Accuracy = 98.09%: 100%|██████████| 572/572 [00:10<00:00, 56.57it/s]\n",
            "[9 / 50]   Val: Loss = 0.09803, Accuracy = 97.02%: 100%|██████████| 13/13 [00:00<00:00, 33.91it/s]\n",
            "[10 / 50] Train: Loss = 0.05613, Accuracy = 98.21%: 100%|██████████| 572/572 [00:10<00:00, 56.51it/s]\n",
            "[10 / 50]   Val: Loss = 0.10312, Accuracy = 96.97%: 100%|██████████| 13/13 [00:00<00:00, 33.30it/s]\n",
            "[11 / 50] Train: Loss = 0.05122, Accuracy = 98.38%: 100%|██████████| 572/572 [00:10<00:00, 56.83it/s]\n",
            "[11 / 50]   Val: Loss = 0.10177, Accuracy = 97.05%: 100%|██████████| 13/13 [00:00<00:00, 31.84it/s]\n",
            "[12 / 50] Train: Loss = 0.04769, Accuracy = 98.50%: 100%|██████████| 572/572 [00:10<00:00, 56.72it/s]\n",
            "[12 / 50]   Val: Loss = 0.10348, Accuracy = 97.06%: 100%|██████████| 13/13 [00:00<00:00, 34.70it/s]\n",
            "[13 / 50] Train: Loss = 0.04458, Accuracy = 98.61%: 100%|██████████| 572/572 [00:10<00:00, 56.45it/s]\n",
            "[13 / 50]   Val: Loss = 0.09865, Accuracy = 97.11%: 100%|██████████| 13/13 [00:00<00:00, 34.42it/s]\n",
            "[14 / 50] Train: Loss = 0.04068, Accuracy = 98.72%: 100%|██████████| 572/572 [00:10<00:00, 56.48it/s]\n",
            "[14 / 50]   Val: Loss = 0.11031, Accuracy = 96.98%: 100%|██████████| 13/13 [00:00<00:00, 32.47it/s]\n",
            "[15 / 50] Train: Loss = 0.03791, Accuracy = 98.81%: 100%|██████████| 572/572 [00:10<00:00, 56.01it/s]\n",
            "[15 / 50]   Val: Loss = 0.10402, Accuracy = 97.09%: 100%|██████████| 13/13 [00:00<00:00, 33.25it/s]\n",
            "[16 / 50] Train: Loss = 0.03459, Accuracy = 98.94%: 100%|██████████| 572/572 [00:10<00:00, 56.19it/s]\n",
            "[16 / 50]   Val: Loss = 0.11060, Accuracy = 97.01%: 100%|██████████| 13/13 [00:00<00:00, 32.57it/s]\n",
            "[17 / 50] Train: Loss = 0.03156, Accuracy = 99.02%: 100%|██████████| 572/572 [00:10<00:00, 56.28it/s]\n",
            "[17 / 50]   Val: Loss = 0.11127, Accuracy = 97.06%: 100%|██████████| 13/13 [00:00<00:00, 32.86it/s]\n",
            "[18 / 50] Train: Loss = 0.02864, Accuracy = 99.11%: 100%|██████████| 572/572 [00:10<00:00, 56.42it/s]\n",
            "[18 / 50]   Val: Loss = 0.11188, Accuracy = 97.00%: 100%|██████████| 13/13 [00:00<00:00, 32.78it/s]\n",
            "[19 / 50] Train: Loss = 0.02634, Accuracy = 99.19%: 100%|██████████| 572/572 [00:10<00:00, 56.21it/s]\n",
            "[19 / 50]   Val: Loss = 0.11409, Accuracy = 97.01%: 100%|██████████| 13/13 [00:00<00:00, 33.68it/s]\n",
            "[20 / 50] Train: Loss = 0.02467, Accuracy = 99.25%: 100%|██████████| 572/572 [00:10<00:00, 56.30it/s]\n",
            "[20 / 50]   Val: Loss = 0.11907, Accuracy = 97.02%: 100%|██████████| 13/13 [00:00<00:00, 32.64it/s]\n",
            "[21 / 50] Train: Loss = 0.02299, Accuracy = 99.32%: 100%|██████████| 572/572 [00:10<00:00, 56.33it/s]\n",
            "[21 / 50]   Val: Loss = 0.11796, Accuracy = 96.98%: 100%|██████████| 13/13 [00:00<00:00, 34.08it/s]\n",
            "[22 / 50] Train: Loss = 0.02120, Accuracy = 99.36%: 100%|██████████| 572/572 [00:10<00:00, 56.47it/s]\n",
            "[22 / 50]   Val: Loss = 0.12533, Accuracy = 96.94%: 100%|██████████| 13/13 [00:00<00:00, 33.49it/s]\n",
            "[23 / 50] Train: Loss = 0.01947, Accuracy = 99.44%: 100%|██████████| 572/572 [00:10<00:00, 56.53it/s]\n",
            "[23 / 50]   Val: Loss = 0.12653, Accuracy = 96.96%: 100%|██████████| 13/13 [00:00<00:00, 31.64it/s]\n",
            "[24 / 50] Train: Loss = 0.01963, Accuracy = 99.41%: 100%|██████████| 572/572 [00:10<00:00, 56.39it/s]\n",
            "[24 / 50]   Val: Loss = 0.13137, Accuracy = 96.94%: 100%|██████████| 13/13 [00:00<00:00, 32.73it/s]\n",
            "[25 / 50] Train: Loss = 0.01655, Accuracy = 99.52%: 100%|██████████| 572/572 [00:10<00:00, 56.46it/s]\n",
            "[25 / 50]   Val: Loss = 0.13864, Accuracy = 96.95%: 100%|██████████| 13/13 [00:00<00:00, 33.56it/s]\n",
            "[26 / 50] Train: Loss = 0.01534, Accuracy = 99.55%: 100%|██████████| 572/572 [00:10<00:00, 56.58it/s]\n",
            "[26 / 50]   Val: Loss = 0.14395, Accuracy = 96.87%: 100%|██████████| 13/13 [00:00<00:00, 34.41it/s]\n",
            "[27 / 50] Train: Loss = 0.01424, Accuracy = 99.59%: 100%|██████████| 572/572 [00:10<00:00, 56.07it/s]\n",
            "[27 / 50]   Val: Loss = 0.13605, Accuracy = 96.93%: 100%|██████████| 13/13 [00:00<00:00, 31.59it/s]\n",
            "[28 / 50] Train: Loss = 0.01426, Accuracy = 99.58%: 100%|██████████| 572/572 [00:10<00:00, 55.97it/s]\n",
            "[28 / 50]   Val: Loss = 0.14849, Accuracy = 96.93%: 100%|██████████| 13/13 [00:00<00:00, 31.90it/s]\n",
            "[29 / 50] Train: Loss = 0.01366, Accuracy = 99.61%: 100%|██████████| 572/572 [00:10<00:00, 56.45it/s]\n",
            "[29 / 50]   Val: Loss = 0.15121, Accuracy = 96.94%: 100%|██████████| 13/13 [00:00<00:00, 32.47it/s]\n",
            "[30 / 50] Train: Loss = 0.01290, Accuracy = 99.60%: 100%|██████████| 572/572 [00:10<00:00, 56.31it/s]\n",
            "[30 / 50]   Val: Loss = 0.15003, Accuracy = 96.92%: 100%|██████████| 13/13 [00:00<00:00, 33.30it/s]\n",
            "[31 / 50] Train: Loss = 0.01146, Accuracy = 99.66%: 100%|██████████| 572/572 [00:10<00:00, 56.26it/s]\n",
            "[31 / 50]   Val: Loss = 0.15677, Accuracy = 96.95%: 100%|██████████| 13/13 [00:00<00:00, 33.26it/s]\n",
            "[32 / 50] Train: Loss = 0.01131, Accuracy = 99.66%: 100%|██████████| 572/572 [00:10<00:00, 56.42it/s]\n",
            "[32 / 50]   Val: Loss = 0.15864, Accuracy = 96.91%: 100%|██████████| 13/13 [00:00<00:00, 32.35it/s]\n",
            "[33 / 50] Train: Loss = 0.01125, Accuracy = 99.65%: 100%|██████████| 572/572 [00:10<00:00, 56.37it/s]\n",
            "[33 / 50]   Val: Loss = 0.15760, Accuracy = 96.92%: 100%|██████████| 13/13 [00:00<00:00, 33.40it/s]\n",
            "[34 / 50] Train: Loss = 0.01048, Accuracy = 99.69%: 100%|██████████| 572/572 [00:10<00:00, 56.50it/s]\n",
            "[34 / 50]   Val: Loss = 0.16170, Accuracy = 96.88%: 100%|██████████| 13/13 [00:00<00:00, 33.13it/s]\n",
            "[35 / 50] Train: Loss = 0.01119, Accuracy = 99.65%: 100%|██████████| 572/572 [00:10<00:00, 56.43it/s]\n",
            "[35 / 50]   Val: Loss = 0.16599, Accuracy = 96.92%: 100%|██████████| 13/13 [00:00<00:00, 34.87it/s]\n",
            "[36 / 50] Train: Loss = 0.01018, Accuracy = 99.68%: 100%|██████████| 572/572 [00:10<00:00, 56.47it/s]\n",
            "[36 / 50]   Val: Loss = 0.16103, Accuracy = 96.88%: 100%|██████████| 13/13 [00:00<00:00, 32.33it/s]\n",
            "[37 / 50] Train: Loss = 0.00867, Accuracy = 99.72%: 100%|██████████| 572/572 [00:10<00:00, 56.38it/s]\n",
            "[37 / 50]   Val: Loss = 0.16838, Accuracy = 96.90%: 100%|██████████| 13/13 [00:00<00:00, 33.40it/s]\n",
            "[38 / 50] Train: Loss = 0.00851, Accuracy = 99.73%: 100%|██████████| 572/572 [00:10<00:00, 56.30it/s]\n",
            "[38 / 50]   Val: Loss = 0.17016, Accuracy = 96.96%: 100%|██████████| 13/13 [00:00<00:00, 34.83it/s]\n",
            "[39 / 50] Train: Loss = 0.00964, Accuracy = 99.69%: 100%|██████████| 572/572 [00:10<00:00, 56.54it/s]\n",
            "[39 / 50]   Val: Loss = 0.17053, Accuracy = 96.93%: 100%|██████████| 13/13 [00:00<00:00, 32.65it/s]\n",
            "[40 / 50] Train: Loss = 0.00923, Accuracy = 99.70%: 100%|██████████| 572/572 [00:10<00:00, 56.34it/s]\n",
            "[40 / 50]   Val: Loss = 0.17542, Accuracy = 96.89%: 100%|██████████| 13/13 [00:00<00:00, 32.62it/s]\n",
            "[41 / 50] Train: Loss = 0.00892, Accuracy = 99.71%: 100%|██████████| 572/572 [00:10<00:00, 56.51it/s]\n",
            "[41 / 50]   Val: Loss = 0.18185, Accuracy = 96.89%: 100%|██████████| 13/13 [00:00<00:00, 33.59it/s]\n",
            "[42 / 50] Train: Loss = 0.00901, Accuracy = 99.71%: 100%|██████████| 572/572 [00:10<00:00, 56.88it/s]\n",
            "[42 / 50]   Val: Loss = 0.18964, Accuracy = 96.80%: 100%|██████████| 13/13 [00:00<00:00, 33.10it/s]\n",
            "[43 / 50] Train: Loss = 0.00914, Accuracy = 99.69%: 100%|██████████| 572/572 [00:10<00:00, 56.19it/s]\n",
            "[43 / 50]   Val: Loss = 0.18456, Accuracy = 96.90%: 100%|██████████| 13/13 [00:00<00:00, 34.19it/s]\n",
            "[44 / 50] Train: Loss = 0.00712, Accuracy = 99.76%: 100%|██████████| 572/572 [00:10<00:00, 56.46it/s]\n",
            "[44 / 50]   Val: Loss = 0.18161, Accuracy = 96.91%: 100%|██████████| 13/13 [00:00<00:00, 33.75it/s]\n",
            "[45 / 50] Train: Loss = 0.00792, Accuracy = 99.74%: 100%|██████████| 572/572 [00:10<00:00, 56.39it/s]\n",
            "[45 / 50]   Val: Loss = 0.18878, Accuracy = 96.90%: 100%|██████████| 13/13 [00:00<00:00, 34.45it/s]\n",
            "[46 / 50] Train: Loss = 0.00859, Accuracy = 99.71%: 100%|██████████| 572/572 [00:10<00:00, 56.74it/s]\n",
            "[46 / 50]   Val: Loss = 0.18923, Accuracy = 96.90%: 100%|██████████| 13/13 [00:00<00:00, 33.33it/s]\n",
            "[47 / 50] Train: Loss = 0.00808, Accuracy = 99.74%: 100%|██████████| 572/572 [00:10<00:00, 56.59it/s]\n",
            "[47 / 50]   Val: Loss = 0.18689, Accuracy = 96.88%: 100%|██████████| 13/13 [00:00<00:00, 32.09it/s]\n",
            "[48 / 50] Train: Loss = 0.00971, Accuracy = 99.68%: 100%|██████████| 572/572 [00:10<00:00, 55.39it/s]\n",
            "[48 / 50]   Val: Loss = 0.19487, Accuracy = 96.86%: 100%|██████████| 13/13 [00:00<00:00, 35.29it/s]\n",
            "[49 / 50] Train: Loss = 0.00847, Accuracy = 99.71%: 100%|██████████| 572/572 [00:10<00:00, 56.59it/s]\n",
            "[49 / 50]   Val: Loss = 0.19052, Accuracy = 96.92%: 100%|██████████| 13/13 [00:00<00:00, 33.00it/s]\n",
            "[50 / 50] Train: Loss = 0.00779, Accuracy = 99.74%: 100%|██████████| 572/572 [00:10<00:00, 56.21it/s]\n",
            "[50 / 50]   Val: Loss = 0.19466, Accuracy = 96.85%: 100%|██████████| 13/13 [00:00<00:00, 33.67it/s]\n"
          ],
          "name": "stderr"
        }
      ]
    },
    {
      "cell_type": "markdown",
      "metadata": {
        "colab_type": "text",
        "id": "2Ne_8f24h8kg"
      },
      "source": [
        "**Задание** Оцените качество модели на тестовой выборке. Обратите внимание, вовсе не обязательно ограничиваться векторами из урезанной матрицы - вполне могут найтись слова в тесте, которых не было в трейне и для которых есть эмбеддинги.\n",
        "\n",
        "Добейтесь качества лучше прошлых моделей."
      ]
    },
    {
      "cell_type": "code",
      "metadata": {
        "colab_type": "code",
        "id": "HPUuAPGhEGVR",
        "colab": {
          "base_uri": "https://localhost:8080/",
          "height": 35
        },
        "outputId": "4d789774-1854-41a9-8845-63cad0935fb1"
      },
      "source": [
        "test_loss, test_acc = do_epoch(model, criterion, data = (X_test, y_test), batch_size = 64)"
      ],
      "execution_count": 48,
      "outputs": [
        {
          "output_type": "stream",
          "text": [
            "      Loss = 0.20280, Accuracy = 96.63%: 100%|██████████| 224/224 [00:02<00:00, 97.81it/s]\n"
          ],
          "name": "stderr"
        }
      ]
    }
  ]
}
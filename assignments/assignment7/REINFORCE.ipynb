{
 "cells": [
  {
   "cell_type": "markdown",
   "metadata": {
    "colab_type": "text",
    "id": "AbwmoJusmueU"
   },
   "source": [
    "# Reinforcement Learning"
   ]
  },
  {
   "cell_type": "markdown",
   "metadata": {
    "colab_type": "text",
    "id": "7xcuGNp-mueX"
   },
   "source": [
    "В этом задании постараемся разобраться в проблеме обучения с подкреплением, реализуем алгоритм REINFORCE и научим агента с помощью этого алгоритма играть в игру Cartpole."
   ]
  },
  {
   "cell_type": "markdown",
   "metadata": {
    "colab_type": "text",
    "id": "4HoHMD_GmueZ"
   },
   "source": [
    "Установим и импортируем необходимые библиотеки, а также вспомогательные функции для визуализации игры агента."
   ]
  },
  {
   "cell_type": "code",
   "execution_count": 6,
   "metadata": {
    "colab": {},
    "colab_type": "code",
    "id": "kHKfskxa7kaI"
   },
   "outputs": [],
   "source": [
    "!pip install --user gym pandas torch matplotlib pyvirtualdisplay > /dev/null 2>&1\n",
    "!apt-get install --user -y xvfb python-opengl ffmpeg x11-utils > /dev/null 2>&1"
   ]
  },
  {
   "cell_type": "code",
   "execution_count": 10,
   "metadata": {},
   "outputs": [
    {
     "name": "stdout",
     "output_type": "stream",
     "text": [
      "Collecting xvfbwrapper\n",
      "  Downloading https://files.pythonhosted.org/packages/57/b6/4920eabda9b49630dea58745e79f9919aba6408d460afe758bf6e9b21a04/xvfbwrapper-0.2.9.tar.gz\n",
      "Building wheels for collected packages: xvfbwrapper\n",
      "  Building wheel for xvfbwrapper (setup.py) ... \u001b[?25ldone\n",
      "\u001b[?25h  Stored in directory: /home/igor/.cache/pip/wheels/10/f2/61/cacfaf84b352c223761ea8d19616e3b5ac5c27364da72863f0\n",
      "Successfully built xvfbwrapper\n",
      "Installing collected packages: xvfbwrapper\n",
      "Successfully installed xvfbwrapper-0.2.9\n"
     ]
    }
   ],
   "source": [
    "!pip install --user xvfbwrapper"
   ]
  },
  {
   "cell_type": "code",
   "execution_count": 1,
   "metadata": {
    "colab": {},
    "colab_type": "code",
    "id": "WiX0JVM3z0Ru"
   },
   "outputs": [],
   "source": [
    "from IPython.display import clear_output, HTML\n",
    "from IPython import display as ipythondisplay\n",
    "import matplotlib.pyplot as plt\n",
    "%matplotlib inline"
   ]
  },
  {
   "cell_type": "code",
   "execution_count": 2,
   "metadata": {
    "colab": {},
    "colab_type": "code",
    "id": "IsjSHknYl1rj"
   },
   "outputs": [],
   "source": [
    "import numpy as np\n",
    "import glob\n",
    "import time\n",
    "import io\n",
    "import base64\n",
    "import gym\n",
    "from gym.wrappers import Monitor\n",
    "import torch\n",
    "import collections\n",
    "import pandas as pd\n",
    "from torch import nn\n",
    "from torch.optim import Adam\n",
    "from torch.distributions import Categorical"
   ]
  },
  {
   "cell_type": "code",
   "execution_count": 3,
   "metadata": {
    "colab": {},
    "colab_type": "code",
    "id": "b5KfVGq1n_8s"
   },
   "outputs": [
    {
     "data": {
      "text/plain": [
       "<Display cmd_param=['Xvfb', '-br', '-nolisten', 'tcp', '-screen', '0', '1400x900x24', ':1005'] cmd=['Xvfb', '-br', '-nolisten', 'tcp', '-screen', '0', '1400x900x24', ':1005'] oserror=None return_code=None stdout=\"None\" stderr=\"None\" timeout_happened=False>"
      ]
     },
     "execution_count": 3,
     "metadata": {},
     "output_type": "execute_result"
    }
   ],
   "source": [
    "from pyvirtualdisplay import Display\n",
    "display = Display(visible=0, size=(1400, 900))\n",
    "display.start()"
   ]
  },
  {
   "cell_type": "code",
   "execution_count": 4,
   "metadata": {
    "colab": {},
    "colab_type": "code",
    "id": "4xGh4QxDnlFw"
   },
   "outputs": [],
   "source": [
    "\"\"\"\n",
    "Utility functions to enable video recording of gym environment and displaying it\n",
    "To enable video, just do \"env = wrap_env(env)\"\"\n",
    "\"\"\"\n",
    "\n",
    "def show_video():\n",
    "    mp4list = glob.glob('video/*.mp4')\n",
    "    if len(mp4list) > 0:\n",
    "        mp4 = mp4list[0]\n",
    "        video = io.open(mp4, 'r+b').read()\n",
    "        encoded = base64.b64encode(video)\n",
    "        ipythondisplay.display(HTML(data='''<video alt=\"test\" autoplay \n",
    "                loop controls style=\"height: 400px;\">\n",
    "                <source src=\"data:video/mp4;base64,{0}\" type=\"video/mp4\" />\n",
    "             </video>'''.format(encoded.decode('ascii'))))\n",
    "    else: \n",
    "        print(\"Could not find video\")\n",
    "    \n",
    "\n",
    "def wrap_env(env):\n",
    "    env = Monitor(env, './video', force=True)\n",
    "    return env"
   ]
  },
  {
   "cell_type": "code",
   "execution_count": 5,
   "metadata": {
    "colab": {},
    "colab_type": "code",
    "id": "Dfi89tXjmuet"
   },
   "outputs": [],
   "source": [
    "device = torch.device('cuda:0' if torch.cuda.is_available() else 'cpu') #позволяет перенести тензор на GPU, если он доступен в системе"
   ]
  },
  {
   "cell_type": "markdown",
   "metadata": {
    "colab_type": "text",
    "id": "AhDVTPxymuez"
   },
   "source": [
    "## OpenAI Gym"
   ]
  },
  {
   "cell_type": "markdown",
   "metadata": {
    "colab_type": "text",
    "id": "VZb-IIq4muez"
   },
   "source": [
    "[OpenAI Gym](https://gym.openai.com) это набор сред для разработки и сравнения алгоритмов обучения с подкреплением."
   ]
  },
  {
   "cell_type": "markdown",
   "metadata": {
    "colab_type": "text",
    "id": "fFkuRjxNmue2"
   },
   "source": [
    "OpenAI Gym предоставляет простой и универсальный API ко многим средам с разными свойствами, как простым так и сложным:\n",
    "* Классические задачи управления и игрушечные примеры, которые можно найти в учебниках и на которых демонстрируется работа алгоритмов обучения с подкреплением (одна из этих сред используется в этом задании)\n",
    "* Игры Atari (оказали огромное влияние на достижения в обучении с подкреплением в последние годы)\n",
    "* 2D и 3D среды для контроля роботов в симуляции (используют проприетарный движок [Mojuco](http://www.mujoco.org))"
   ]
  },
  {
   "cell_type": "markdown",
   "metadata": {
    "colab_type": "text",
    "id": "NIu0Uhj7mue5"
   },
   "source": [
    "Рассмотрим, как устроена среда [CartPole-v0](https://gym.openai.com/envs/CartPole-v0), с которой мы будем работать."
   ]
  },
  {
   "cell_type": "markdown",
   "metadata": {
    "colab_type": "text",
    "id": "KYHUeiMXmue6"
   },
   "source": [
    "Для этого создадим среду и выведем ее описание."
   ]
  },
  {
   "cell_type": "code",
   "execution_count": 6,
   "metadata": {
    "colab": {},
    "colab_type": "code",
    "id": "b9BRqxoDmue7"
   },
   "outputs": [
    {
     "name": "stdout",
     "output_type": "stream",
     "text": [
      "\n",
      "    Description:\n",
      "        A pole is attached by an un-actuated joint to a cart, which moves along a frictionless track. The pendulum starts upright, and the goal is to prevent it from falling over by increasing and reducing the cart's velocity.\n",
      "\n",
      "    Source:\n",
      "        This environment corresponds to the version of the cart-pole problem described by Barto, Sutton, and Anderson\n",
      "\n",
      "    Observation: \n",
      "        Type: Box(4)\n",
      "        Num\tObservation                 Min         Max\n",
      "        0\tCart Position             -4.8            4.8\n",
      "        1\tCart Velocity             -Inf            Inf\n",
      "        2\tPole Angle                 -24 deg        24 deg\n",
      "        3\tPole Velocity At Tip      -Inf            Inf\n",
      "        \n",
      "    Actions:\n",
      "        Type: Discrete(2)\n",
      "        Num\tAction\n",
      "        0\tPush cart to the left\n",
      "        1\tPush cart to the right\n",
      "        \n",
      "        Note: The amount the velocity that is reduced or increased is not fixed; it depends on the angle the pole is pointing. This is because the center of gravity of the pole increases the amount of energy needed to move the cart underneath it\n",
      "\n",
      "    Reward:\n",
      "        Reward is 1 for every step taken, including the termination step\n",
      "\n",
      "    Starting State:\n",
      "        All observations are assigned a uniform random value in [-0.05..0.05]\n",
      "\n",
      "    Episode Termination:\n",
      "        Pole Angle is more than 12 degrees\n",
      "        Cart Position is more than 2.4 (center of the cart reaches the edge of the display)\n",
      "        Episode length is greater than 200\n",
      "        Solved Requirements\n",
      "        Considered solved when the average reward is greater than or equal to 195.0 over 100 consecutive trials.\n",
      "    \n"
     ]
    }
   ],
   "source": [
    "env = gym.make(\"CartPole-v0\")\n",
    "print(env.env.__doc__)"
   ]
  },
  {
   "cell_type": "markdown",
   "metadata": {
    "colab_type": "text",
    "id": "tovAoT5dmufD"
   },
   "source": [
    "Из этого описания мы можем узнать, как устроены пространства состояний и действий в этой среды, какие награды получаются на каждом шаге, а также, что нам необходимо сделать, чтобы научиться \"решать\" эту среду, а именно достич средней награды больше 195.0 или больше за 100 последовательных запусков агента в этой среде. Именно такого агента мы и попробуем создать и обучить."
   ]
  },
  {
   "cell_type": "markdown",
   "metadata": {
    "colab_type": "text",
    "id": "hZ98fYaxmufF"
   },
   "source": [
    "Но для начала напишем вспомогательную функцию, которая будет принимать на вход среду, агента и число эпизодов, и возвращать среднюю награду за 100 эпизодов. С помощью этой функции мы сможем протестировать, насколько хорошо обучился наш агент, а также визуализировать его поведение в среде."
   ]
  },
  {
   "cell_type": "code",
   "execution_count": 7,
   "metadata": {
    "colab": {},
    "colab_type": "code",
    "id": "0jXEOwd7njUm"
   },
   "outputs": [],
   "source": [
    "def test_agent(env, agent=None, n_episodes=100):\n",
    "    \"\"\"Runs agent for n_episodes in environment and calclates mean reward.\n",
    "    \n",
    "    Args:\n",
    "        env: The environment for agent to play in\n",
    "        agent: The agent to play with. Defaults to None - \n",
    "            in this case random agent is used.\n",
    "        n_episodes: Number of episodes to play. Defaults to 100.\n",
    "\n",
    "    Returns:\n",
    "        Mean reward for 100 episodes.\n",
    "    \"\"\"\n",
    "    total_reward = []\n",
    "    for episode in range(n_episodes):\n",
    "        episode_reward = 0\n",
    "        observation = env.reset()\n",
    "        t = 0\n",
    "        while True:\n",
    "            if agent:\n",
    "                with torch.no_grad():\n",
    "                    probs = agent(torch.FloatTensor(observation).to(device))\n",
    "                    dist = Categorical(probs)\n",
    "                    action = dist.sample().item()\n",
    "            else:\n",
    "                action = env.action_space.sample()\n",
    "            observation, reward, done, info = env.step(action)\n",
    "            episode_reward += reward\n",
    "            t += 1\n",
    "            if done:\n",
    "                print(\"Episode {} finished after {} timesteps\".format(episode+1, t+1))\n",
    "                break\n",
    "        total_reward.append(episode_reward)\n",
    "        env.close()\n",
    "                   \n",
    "    return np.mean(total_reward)"
   ]
  },
  {
   "cell_type": "markdown",
   "metadata": {
    "colab_type": "text",
    "id": "TqnYqFVSmufL"
   },
   "source": [
    "Протестируем и визуализируем случайного агента (параметр ```agent=False```)."
   ]
  },
  {
   "cell_type": "code",
   "execution_count": 8,
   "metadata": {
    "colab": {},
    "colab_type": "code",
    "id": "yqVokBDFmufM",
    "scrolled": true
   },
   "outputs": [
    {
     "name": "stdout",
     "output_type": "stream",
     "text": [
      "Episode 1 finished after 12 timesteps\n",
      "Episode 2 finished after 40 timesteps\n",
      "Episode 3 finished after 15 timesteps\n",
      "Episode 4 finished after 19 timesteps\n",
      "Episode 5 finished after 25 timesteps\n",
      "Episode 6 finished after 18 timesteps\n",
      "Episode 7 finished after 17 timesteps\n",
      "Episode 8 finished after 11 timesteps\n",
      "Episode 9 finished after 37 timesteps\n",
      "Episode 10 finished after 22 timesteps\n",
      "Episode 11 finished after 13 timesteps\n",
      "Episode 12 finished after 31 timesteps\n",
      "Episode 13 finished after 20 timesteps\n",
      "Episode 14 finished after 21 timesteps\n",
      "Episode 15 finished after 73 timesteps\n",
      "Episode 16 finished after 25 timesteps\n",
      "Episode 17 finished after 112 timesteps\n",
      "Episode 18 finished after 22 timesteps\n",
      "Episode 19 finished after 22 timesteps\n",
      "Episode 20 finished after 22 timesteps\n",
      "Episode 21 finished after 24 timesteps\n",
      "Episode 22 finished after 17 timesteps\n",
      "Episode 23 finished after 27 timesteps\n",
      "Episode 24 finished after 18 timesteps\n",
      "Episode 25 finished after 26 timesteps\n",
      "Episode 26 finished after 21 timesteps\n",
      "Episode 27 finished after 30 timesteps\n",
      "Episode 28 finished after 26 timesteps\n",
      "Episode 29 finished after 40 timesteps\n",
      "Episode 30 finished after 23 timesteps\n",
      "Episode 31 finished after 30 timesteps\n",
      "Episode 32 finished after 20 timesteps\n",
      "Episode 33 finished after 27 timesteps\n",
      "Episode 34 finished after 34 timesteps\n",
      "Episode 35 finished after 16 timesteps\n",
      "Episode 36 finished after 31 timesteps\n",
      "Episode 37 finished after 14 timesteps\n",
      "Episode 38 finished after 25 timesteps\n",
      "Episode 39 finished after 25 timesteps\n",
      "Episode 40 finished after 13 timesteps\n",
      "Episode 41 finished after 42 timesteps\n",
      "Episode 42 finished after 39 timesteps\n",
      "Episode 43 finished after 18 timesteps\n",
      "Episode 44 finished after 14 timesteps\n",
      "Episode 45 finished after 15 timesteps\n",
      "Episode 46 finished after 24 timesteps\n",
      "Episode 47 finished after 42 timesteps\n",
      "Episode 48 finished after 61 timesteps\n",
      "Episode 49 finished after 18 timesteps\n",
      "Episode 50 finished after 35 timesteps\n",
      "Episode 51 finished after 14 timesteps\n",
      "Episode 52 finished after 19 timesteps\n",
      "Episode 53 finished after 19 timesteps\n",
      "Episode 54 finished after 17 timesteps\n",
      "Episode 55 finished after 72 timesteps\n",
      "Episode 56 finished after 21 timesteps\n",
      "Episode 57 finished after 51 timesteps\n",
      "Episode 58 finished after 42 timesteps\n",
      "Episode 59 finished after 16 timesteps\n",
      "Episode 60 finished after 30 timesteps\n",
      "Episode 61 finished after 17 timesteps\n",
      "Episode 62 finished after 11 timesteps\n",
      "Episode 63 finished after 28 timesteps\n",
      "Episode 64 finished after 21 timesteps\n",
      "Episode 65 finished after 25 timesteps\n",
      "Episode 66 finished after 17 timesteps\n",
      "Episode 67 finished after 23 timesteps\n",
      "Episode 68 finished after 17 timesteps\n",
      "Episode 69 finished after 19 timesteps\n",
      "Episode 70 finished after 24 timesteps\n",
      "Episode 71 finished after 20 timesteps\n",
      "Episode 72 finished after 30 timesteps\n",
      "Episode 73 finished after 11 timesteps\n",
      "Episode 74 finished after 16 timesteps\n",
      "Episode 75 finished after 17 timesteps\n",
      "Episode 76 finished after 14 timesteps\n",
      "Episode 77 finished after 15 timesteps\n",
      "Episode 78 finished after 14 timesteps\n",
      "Episode 79 finished after 16 timesteps\n",
      "Episode 80 finished after 37 timesteps\n",
      "Episode 81 finished after 30 timesteps\n",
      "Episode 82 finished after 18 timesteps\n",
      "Episode 83 finished after 12 timesteps\n",
      "Episode 84 finished after 16 timesteps\n",
      "Episode 85 finished after 22 timesteps\n",
      "Episode 86 finished after 13 timesteps\n",
      "Episode 87 finished after 15 timesteps\n",
      "Episode 88 finished after 49 timesteps\n",
      "Episode 89 finished after 26 timesteps\n",
      "Episode 90 finished after 22 timesteps\n",
      "Episode 91 finished after 31 timesteps\n",
      "Episode 92 finished after 31 timesteps\n",
      "Episode 93 finished after 31 timesteps\n",
      "Episode 94 finished after 18 timesteps\n",
      "Episode 95 finished after 12 timesteps\n",
      "Episode 96 finished after 16 timesteps\n",
      "Episode 97 finished after 30 timesteps\n",
      "Episode 98 finished after 27 timesteps\n",
      "Episode 99 finished after 23 timesteps\n",
      "Episode 100 finished after 18 timesteps\n"
     ]
    },
    {
     "data": {
      "text/plain": [
       "24.25"
      ]
     },
     "execution_count": 8,
     "metadata": {},
     "output_type": "execute_result"
    }
   ],
   "source": [
    "test_agent(env, agent=False, n_episodes=100)"
   ]
  },
  {
   "cell_type": "markdown",
   "metadata": {
    "colab_type": "text",
    "id": "8bzNtyllmufS"
   },
   "source": [
    "Как видно, наш случайный агент выступает не очень хорошо и в среднем может удержать шест всего около 20 шагов."
   ]
  },
  {
   "cell_type": "markdown",
   "metadata": {
    "colab_type": "text",
    "id": "BNcZLQpzmufU"
   },
   "source": [
    "Напишем функцию для визуализации агента и посмотрим на случайного агента."
   ]
  },
  {
   "cell_type": "code",
   "execution_count": 9,
   "metadata": {
    "colab": {},
    "colab_type": "code",
    "id": "GgThoRPgoMcs"
   },
   "outputs": [],
   "source": [
    "def agent_viz(env=\"CartPole-v0\", agent=None):\n",
    "    \"\"\"Visualizes agent play in the given environment.\n",
    "    \n",
    "    Args:\n",
    "        env: The environment for agent to play in. Defaults to CartPole-v0.\n",
    "        agent: The agent to play with. Defaults to None - \n",
    "            in this case random agent is used.\n",
    "\n",
    "    Returns:\n",
    "        Nothing is returned. Visualization is created and can be showed\n",
    "            with show_video() function.\n",
    "    \"\"\"\n",
    "    env = wrap_env(gym.make(env))\n",
    "    observation = env.reset()\n",
    "    while True:\n",
    "        env.render() \n",
    "        if agent:\n",
    "            with torch.no_grad():\n",
    "                probs = agent(torch.FloatTensor(observation).to(device))\n",
    "                dist = Categorical(probs)\n",
    "                action = dist.sample().item()\n",
    "        else:\n",
    "            action = env.action_space.sample()\n",
    "        observation, reward, done, info = env.step(action)\n",
    "        if done:\n",
    "            break\n",
    "            \n",
    "    env.close()"
   ]
  },
  {
   "cell_type": "code",
   "execution_count": 10,
   "metadata": {
    "colab": {},
    "colab_type": "code",
    "id": "b5FLllE_pHSf"
   },
   "outputs": [
    {
     "data": {
      "text/html": [
       "<video alt=\"test\" autoplay \n",
       "                loop controls style=\"height: 400px;\">\n",
       "                <source src=\"data:video/mp4;base64,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\" type=\"video/mp4\" />\n",
       "             </video>"
      ],
      "text/plain": [
       "<IPython.core.display.HTML object>"
      ]
     },
     "metadata": {},
     "output_type": "display_data"
    }
   ],
   "source": [
    "agent_viz()\n",
    "show_video()"
   ]
  },
  {
   "cell_type": "markdown",
   "metadata": {
    "colab_type": "text",
    "id": "hpQF0xgJmufW"
   },
   "source": [
    "Попробуем применить обучение с подкреплением и алгоритм REINFORCE для того, чтобы в среднем за 100 эпиздов мы держали шест не менее 195 шагов."
   ]
  },
  {
   "cell_type": "markdown",
   "metadata": {
    "colab_type": "text",
    "id": "M2SkO__WmufX"
   },
   "source": [
    "## REINFORCE"
   ]
  },
  {
   "cell_type": "markdown",
   "metadata": {
    "colab_type": "text",
    "id": "QW95huRpmufY"
   },
   "source": [
    "Вспомним, что из себя представляет алгоритм REINFORCE (Sutton & Barto) <img src=\"//i.imgur.com/bnASTrY.png\" width=\"700\">"
   ]
  },
  {
   "cell_type": "markdown",
   "metadata": {
    "colab_type": "text",
    "id": "CFD7oH9mmufZ"
   },
   "source": [
    "1. Инициализуем политику (в качестве политики мы будем использовать глубокую нейронную сеть).\n",
    "2. \"Играем\" в среде эпизод, используя нашу политику, или несколько (мы будем использовать последний вариант) и собираем данные о состояниях, действиях и полученных наградах. \n",
    "3. Для каждого состояния в собранных эпизодах вычисляем сумму дисконтированных наград, полученных из этого состояния, а также логорифм правдоподобия предпринятого действия в этом состоянии для нашей политики.\n",
    "4. Обновляем параметры нашей политики по формуле на схеме."
   ]
  },
  {
   "cell_type": "markdown",
   "metadata": {
    "colab_type": "text",
    "id": "Zjhox1Rdmufa"
   },
   "source": [
    "### Политика"
   ]
  },
  {
   "cell_type": "markdown",
   "metadata": {
    "colab_type": "text",
    "id": "v5KOdiJrmufb"
   },
   "source": [
    "Наша политика должна принимать на вход состояние среды, а на выходе выдавать распределение по действиям, которые мы можем осуществлять в среде.\n",
    "\n",
    "**Задание:** Создать класс нейронной сети со следующей архитектурой ```Linear -> ReLU -> Linear -> Softmax```. Параметрами инициализации должны служить размерности пространства состояний, пространства действий и размер скрытого слоя."
   ]
  },
  {
   "cell_type": "code",
   "execution_count": 11,
   "metadata": {
    "colab": {},
    "colab_type": "code",
    "id": "BSbzinGQidFm"
   },
   "outputs": [],
   "source": [
    "class Policy(nn.Module):\n",
    "    \"\"\"Policy to be used by agent.\n",
    "\n",
    "    Attributes:\n",
    "        state_size: Dimention of the state space of the environment.\n",
    "        act_size: Dimention of the action space of the environment.\n",
    "        hidden_size: Dimention of the hidden state of the agent's policy.\n",
    "    \"\"\"\n",
    "    \n",
    "    # TO DO\n",
    "    def __init__(self, state_size, act_size, hidden_size):\n",
    "        super(Policy, self).__init__()\n",
    "        self.state_space = state_size\n",
    "        self.action_space = act_size\n",
    "        #self.hidden = 200\n",
    "        \n",
    "        self.linear1 = nn.Linear(self.state_space, hidden_size)\n",
    "        self.linear2 = nn.Linear(hidden_size, self.action_space)\n",
    "        \n",
    "        self.relu = nn.ReLU()\n",
    "        self.softmax = nn.Softmax(dim = -1)\n",
    "        \n",
    "    def forward(self, x):    \n",
    "        model = torch.nn.Sequential(\n",
    "            self.linear1,\n",
    "            self.relu,\n",
    "            self.linear2,\n",
    "            self.softmax\n",
    "        )\n",
    "        return model(x)"
   ]
  },
  {
   "cell_type": "markdown",
   "metadata": {
    "colab_type": "text",
    "id": "E0bYNhJ_mufh"
   },
   "source": [
    "### Оценка правдоподобия и расчет суммы дисконтированных наград"
   ]
  },
  {
   "cell_type": "markdown",
   "metadata": {
    "colab_type": "text",
    "id": "QMZIoW8pmufi"
   },
   "source": [
    "**Задание:** Напишем вспомогательная функцию, которая принимает на вход политику, батч траекторий и фактор дисконтирования, и должна вернуть следующие величины: \n",
    "* правдоподобие действия на каждом шаге на траектории посчитанные для всего батча;\n",
    "* дисконтированные суммы наград (reward-to-go) из каждого состояния среды на траектории посчитанные для всего батча;"
   ]
  },
  {
   "cell_type": "markdown",
   "metadata": {
    "colab_type": "text",
    "id": "rcs_Xi-jmufl"
   },
   "source": [
    "**Hint**: Представим батч траекторий как ```list```, в котром также хранится ```list``` для каждой траектории, в котором каждый шаг хранится, как ```namedtuple```:\n",
    "```transition = collections.namedtuple(\"transition\", [\"state\", \"action\", \"reward\"])```"
   ]
  },
  {
   "cell_type": "code",
   "execution_count": 53,
   "metadata": {},
   "outputs": [],
   "source": [
    "def process_traj_batch(model, batch, discount):\n",
    "    \"\"\"Computes log probabilities for each action \n",
    "        and rewards-to-go for each state in the batch of trajectories.\n",
    "    \n",
    "    Args:\n",
    "        policy: Policy of the agent.\n",
    "        batch (list of list of collections.namedtuple): Batch of trajectories.\n",
    "        discount (float): Discount factor for rewards-to-go calculation.\n",
    "\n",
    "    Returns:\n",
    "        log_probs (list of torch.FloatTensor): List of log probabilities for\n",
    "            each action in the batch of trajectories.\n",
    "        returns (list of rewards-to-go): List of rewards-to-go for \n",
    "            each state in the batch of trajectories.\n",
    "    \"\"\"\n",
    "    \n",
    "    # TO DO\n",
    "    #print(batch)\n",
    "    num_episodes = len(batch)\n",
    "    #loss = torch.nn.NLLLoss()\n",
    "    transition = collections.namedtuple(\"transition\", [\"state\", \"action\", \"reward\"])\n",
    "    \n",
    "    transition_tuple_to_tensor = lambda x: transition(torch.stack(x.state, dim = 0).to(device), \\\n",
    "                                                            torch.stack(x.action, dim = 0).view(-1, 1).to(device), \\\n",
    "                                                            list(x.reward))\n",
    "    batch = [transition_tuple_to_tensor(transition(*zip(*x))) for x in batch]\n",
    "    log_probs = []\n",
    "    returns = []\n",
    "    for x in batch:\n",
    "        #print(x.state)\n",
    "        #print(torch.log(policy(x.state)))\n",
    "        #print(\"action: \", x.action)\n",
    "        #print(x.reward)\n",
    "        #print(torch.log(policy(x.state)).gather(1, x.action))\n",
    "        #discount_tensor = torch.tensor([[discount**i] for i in range(len(x.reward))]).to(device)\n",
    "        #print(torch.log(policy(x.state)).gather(1, x.action)*discount_tensor)\n",
    "        probs = model(x.state)\n",
    "        #print(torch.FloatTensor([Categorical(probs[i]).log_prob(x.action[i]) for i in range(len(probs))]))\n",
    "        #log_probs.append(dist.log_prob(x.action))\n",
    "        log_probs.append(torch.log(probs).gather(1, x.action))\n",
    "        #print(probs, log_probs[-1])\n",
    "        returns.append(x.reward.copy())\n",
    "        for i in range(1, len(x.reward)):\n",
    "            returns[-1][0] += x.reward[i]*(discount**(i)) \n",
    "        for i in range(1, len(x.reward)):\n",
    "            returns[-1][i] = (returns[-1][i-1] - x.reward[i-1])/discount\n",
    "    #print(log_probs, returns)\n",
    "    returns = [y for x in returns for y in x]\n",
    "    log_probs = torch.cat([x.flatten() for x in log_probs]) \n",
    "    #print((log_probs*torch.FloatTensor(returns).to(device)).sum())\n",
    "    #print(log_probs.requires_grad, batch[0].action.requires_grad, batch[0].state.requires_grad)\n",
    "    #print(sum(log_probs), sum(returns))\n",
    "    return log_probs, returns"
   ]
  },
  {
   "cell_type": "code",
   "execution_count": 54,
   "metadata": {},
   "outputs": [
    {
     "data": {
      "text/plain": [
       "tensor([1, 4])"
      ]
     },
     "execution_count": 54,
     "metadata": {},
     "output_type": "execute_result"
    }
   ],
   "source": [
    "tensor = torch.tensor([[1, 2], [3, 4]])\n",
    "indices = torch.tensor([[0], [1]])\n",
    "torch.gather(tensor, 1, indices).view(2)"
   ]
  },
  {
   "cell_type": "markdown",
   "metadata": {
    "colab_type": "text",
    "id": "mp6xKRWXmufp"
   },
   "source": [
    "Ваша реализация функции должна проходить следующий тест."
   ]
  },
  {
   "cell_type": "code",
   "execution_count": 55,
   "metadata": {
    "colab": {},
    "colab_type": "code",
    "id": "qVJnolh-mufq"
   },
   "outputs": [],
   "source": [
    "def test_process_traj_batch(process_traj_batch):\n",
    "    \n",
    "    transition = collections.namedtuple(\"transition\", [\"state\", \"action\", \"reward\"])\n",
    "    \n",
    "    class HelperPolicy(nn.Module):\n",
    "        def __init__(self):\n",
    "            super(HelperPolicy, self).__init__()\n",
    "        \n",
    "            self.act = nn.Sequential(\n",
    "                nn.Linear(4, 2),\n",
    "                nn.Softmax(dim=-1),\n",
    "            )\n",
    "        \n",
    "        def forward(self, x):\n",
    "            return self.act(x)\n",
    "        \n",
    "    policy = HelperPolicy()\n",
    "    \n",
    "    for name, param in policy.named_parameters():\n",
    "        if name == \"act.0.weight\":\n",
    "            param.data = torch.tensor([[1.7492, -0.2471, 0.3310, 1.1494],\n",
    "                                       [0.6171, -0.6026, 0.5025, -0.3196]])\n",
    "        else:\n",
    "            param.data = torch.tensor([0.0262, 0.1882])\n",
    "            \n",
    "    batch = [\n",
    "        [\n",
    "            transition(state=torch.tensor([ 0.0462, -0.0018,  0.0372,  0.0063]), action=torch.tensor(0), reward=1.0), \n",
    "            transition(state=torch.tensor([ 0.0462, -0.1975,  0.0373,  0.3105]), action=torch.tensor(1), reward=1.0), \n",
    "            transition(state=torch.tensor([ 0.0422, -0.0029,  0.0435,  0.0298]), action=torch.tensor(0), reward=1.0), \n",
    "            transition(state=torch.tensor([ 0.0422, -0.1986,  0.0441,  0.3359]), action=torch.tensor(0), reward=1.0), \n",
    "        ],\n",
    "        [\n",
    "            transition(state=torch.tensor([ 0.0382, -0.3943,  0.0508,  0.6421]), action=torch.tensor(1), reward=1.0), \n",
    "            transition(state=torch.tensor([ 0.0303, -0.2000,  0.0637,  0.3659]), action=torch.tensor(1), reward=1.0), \n",
    "            transition(state=torch.tensor([ 0.0263, -0.0058,  0.0710,  0.0939]), action=torch.tensor(1), reward=1.0), \n",
    "            transition(state=torch.tensor([ 0.0262,  0.1882,  0.0729, -0.1755]), action=torch.tensor(0), reward=1.0)\n",
    "        ]\n",
    "    ]\n",
    "    \n",
    "    log_probs, returns = process_traj_batch(policy, batch, 0.9)\n",
    "    assert sum(log_probs).item() == -6.3940582275390625, \"Log probabilities calculation is incorrect!!!\"\n",
    "    assert sum(returns) == 18.098, \"Log probabilities calculation is incorrect!!!\"\n",
    "    assert (log_probs*torch.FloatTensor(returns).to(device)).sum().item() == -15.070242881774902, \"Log probabilities calculation is incorrect!!!\"\n",
    "    print(\"Correct!\")"
   ]
  },
  {
   "cell_type": "code",
   "execution_count": 56,
   "metadata": {
    "colab": {},
    "colab_type": "code",
    "id": "_qKrJpyBmufu"
   },
   "outputs": [
    {
     "name": "stdout",
     "output_type": "stream",
     "text": [
      "Correct!\n"
     ]
    }
   ],
   "source": [
    "test_process_traj_batch(process_traj_batch)"
   ]
  },
  {
   "cell_type": "markdown",
   "metadata": {
    "colab_type": "text",
    "id": "7_y4MJPxmufz"
   },
   "source": [
    "### Вспомогательные функции и гиперпараметры"
   ]
  },
  {
   "cell_type": "markdown",
   "metadata": {
    "colab_type": "text",
    "id": "PKF5itlpmuf0"
   },
   "source": [
    "Функция для расчета скользящего среднего - ее мы будем использовать для визуализации наград по эпизодам."
   ]
  },
  {
   "cell_type": "code",
   "execution_count": 16,
   "metadata": {
    "colab": {},
    "colab_type": "code",
    "id": "tHgXs9aPmuf2"
   },
   "outputs": [],
   "source": [
    "moving_average = lambda x, **kw: pd.DataFrame({'x':np.asarray(x)}).x.ewm(**kw).mean().values"
   ]
  },
  {
   "cell_type": "markdown",
   "metadata": {
    "colab_type": "text",
    "id": "P3oqmQmxmuf6"
   },
   "source": [
    "Определим также гиперпараметры."
   ]
  },
  {
   "cell_type": "code",
   "execution_count": 17,
   "metadata": {
    "colab": {},
    "colab_type": "code",
    "id": "cFSLjGjOms0m"
   },
   "outputs": [],
   "source": [
    "STATE_SIZE  = env.observation_space.shape[0] # размерность пространства состояний среды\n",
    "ACT_SIZE = env.action_space.n # размерность пространства действий среды\n",
    "HIDDEN_SIZE = 128 # размер скрытого слоя для политики\n",
    "NUM_EPISODES = 1000 # количество эпиздов, которые будут сыграны для обучения\n",
    "DISCOUNT = 0.99 # фактор дисконтирования\n",
    "TRAIN_EVERY = 20"
   ]
  },
  {
   "cell_type": "markdown",
   "metadata": {
    "colab_type": "text",
    "id": "d1RZfo_1muf-"
   },
   "source": [
    "Инициализуем политику и алгоритм оптимизации - мы будем использовать Adam c праметрами по умолчанию."
   ]
  },
  {
   "cell_type": "code",
   "execution_count": 22,
   "metadata": {
    "colab": {},
    "colab_type": "code",
    "id": "zEKqg4Ykmuf_"
   },
   "outputs": [],
   "source": [
    "policy = Policy(STATE_SIZE, ACT_SIZE, HIDDEN_SIZE).to(device)\n",
    "optimizer = Adam(policy.parameters(), lr = 1e-3)"
   ]
  },
  {
   "cell_type": "code",
   "execution_count": 23,
   "metadata": {
    "colab": {},
    "colab_type": "code",
    "id": "EIbRMh3MmugC"
   },
   "outputs": [],
   "source": [
    "transition = collections.namedtuple(\"transition\", [\"state\", \"action\", \"reward\"])"
   ]
  },
  {
   "cell_type": "markdown",
   "metadata": {
    "colab_type": "text",
    "id": "jRRCJTnimugE"
   },
   "source": [
    "### Основной цикл обучения"
   ]
  },
  {
   "cell_type": "markdown",
   "metadata": {
    "colab_type": "text",
    "id": "FcQ4-JMymugE"
   },
   "source": [
    "Теперь, когда мы опредлели вспомогательные функции, то нам следует написать основной цикл обучения агент.\n",
    "В цикле должно происходить следующее:"
   ]
  },
  {
   "cell_type": "markdown",
   "metadata": {
    "colab_type": "text",
    "id": "1wih2vIYmugG"
   },
   "source": [
    "1. Играем количество эпизодов, определенное в гиперпараметре ```NUM_EPISODES```.\n",
    "2. В каждом эпизоде сохраняем информацию о шагах на траектории - состояние, действие и награду.\n",
    "3. В конце каждого эпизода сохраняем вышеуказанную информацию о траектории. \n",
    "4. Периодически обучаемся на собранных эпизодах каждые ```TRAIN_EVERY``` эпизодов:  \n",
    "    4.1. Считаем для собранного батча для каждого шага на трактории правдоподобие и сумму дисконтированных наград.  \n",
    "    4.2. Обновляем параметры политики агента по формуле, приведенной на схеме."
   ]
  },
  {
   "cell_type": "markdown",
   "metadata": {
    "colab_type": "text",
    "id": "gb1eIuJqmugI"
   },
   "source": [
    "**Задание:** Реализовать алгоритм обучения, описанный на схеме и в тексте выше. Шаблон кода алгоритма представлен ниже. При этом следует сохранять сумму ревордов для каждого эпизода в переменную ```returns_history```. Алгоритму потребуется около 1000 эпизодов игры, для того чтобы научиться играть в игру (если после 1000 эпизодов агент играет немного хуже, чем для победы в игре, попробуйте обучать его немного дольше или установите критерий останова - когда средняя награда за 100 последних эпизодов превышает значение в ```env.spec.reward_threshold``` )"
   ]
  },
  {
   "cell_type": "code",
   "execution_count": 24,
   "metadata": {
    "colab": {},
    "colab_type": "code",
    "id": "cvEwjezan5tl"
   },
   "outputs": [
    {
     "data": {
      "image/png": "[encoded data removed]",
      "text/plain": [
       "<Figure size 864x432 with 1 Axes>"
      ]
     },
     "metadata": {
      "needs_background": "light"
     },
     "output_type": "display_data"
    }
   ],
   "source": [
    "from itertools import count\n",
    "returns_history = []\n",
    "traj_batch = []\n",
    "\n",
    "for i in range(NUM_EPISODES):\n",
    "        \n",
    "    # TO DO\n",
    "    traj = []\n",
    "    rewards = 0\n",
    "    state = torch.FloatTensor(env.reset()).to(device)\n",
    "    for t in count():\n",
    "        dist = Categorical(policy(state))\n",
    "        action = dist.sample().detach()\n",
    "        next_state, reward, done, _ = env.step(action.numpy())\n",
    "        print(policy(state), action, state, reward)\n",
    "        traj.append(transition(state, action, reward))\n",
    "        rewards += reward\n",
    "        if not done:\n",
    "            state = torch.FloatTensor(next_state).to(device)\n",
    "        else:\n",
    "            break\n",
    "    returns_history.append(rewards)\n",
    "    traj_batch.append(traj)\n",
    "    \n",
    "    if i % TRAIN_EVERY:\n",
    "        log_probs, returns = process_traj_batch(policy, traj_batch, DISCOUNT)\n",
    "        loss = (torch.sum(torch.mul(log_probs, torch.FloatTensor(returns).to(device)).mul(-1), -1))\n",
    "        print(loss)\n",
    "        #loss = -(log_probs * torch.FloatTensor(returns).to(device)).sum()\n",
    "        optimizer.zero_grad()\n",
    "        loss.backward()\n",
    "        optimizer.step()\n",
    "        \n",
    "        traj_batch = []\n",
    "\n",
    "    if i % 10:\n",
    "        clear_output(True)\n",
    "        plt.figure(figsize=[12, 6])\n",
    "        plt.title('Returns'); plt.grid()\n",
    "        plt.scatter(np.arange(len(returns_history)), returns_history, alpha=0.1)\n",
    "        plt.plot(moving_average(returns_history, span=10, min_periods=10))\n",
    "        plt.show()"
   ]
  },
  {
   "cell_type": "markdown",
   "metadata": {
    "colab_type": "text",
    "id": "Be9Zh-MamugN"
   },
   "source": [
    "Протестируем обученного агента."
   ]
  },
  {
   "cell_type": "code",
   "execution_count": 25,
   "metadata": {
    "colab": {},
    "colab_type": "code",
    "id": "-ry9g_aBmugO"
   },
   "outputs": [
    {
     "name": "stdout",
     "output_type": "stream",
     "text": [
      "Episode 1 finished after 201 timesteps\n",
      "Episode 2 finished after 201 timesteps\n",
      "Episode 3 finished after 201 timesteps\n",
      "Episode 4 finished after 201 timesteps\n",
      "Episode 5 finished after 201 timesteps\n",
      "Episode 6 finished after 201 timesteps\n",
      "Episode 7 finished after 201 timesteps\n",
      "Episode 8 finished after 201 timesteps\n",
      "Episode 9 finished after 201 timesteps\n",
      "Episode 10 finished after 104 timesteps\n",
      "Episode 11 finished after 201 timesteps\n",
      "Episode 12 finished after 201 timesteps\n",
      "Episode 13 finished after 201 timesteps\n",
      "Episode 14 finished after 201 timesteps\n",
      "Episode 15 finished after 201 timesteps\n",
      "Episode 16 finished after 201 timesteps\n",
      "Episode 17 finished after 201 timesteps\n",
      "Episode 18 finished after 201 timesteps\n",
      "Episode 19 finished after 201 timesteps\n",
      "Episode 20 finished after 201 timesteps\n",
      "Episode 21 finished after 201 timesteps\n",
      "Episode 22 finished after 201 timesteps\n",
      "Episode 23 finished after 201 timesteps\n",
      "Episode 24 finished after 201 timesteps\n",
      "Episode 25 finished after 201 timesteps\n",
      "Episode 26 finished after 201 timesteps\n",
      "Episode 27 finished after 201 timesteps\n",
      "Episode 28 finished after 201 timesteps\n",
      "Episode 29 finished after 201 timesteps\n",
      "Episode 30 finished after 201 timesteps\n",
      "Episode 31 finished after 201 timesteps\n",
      "Episode 32 finished after 201 timesteps\n",
      "Episode 33 finished after 201 timesteps\n",
      "Episode 34 finished after 201 timesteps\n",
      "Episode 35 finished after 201 timesteps\n",
      "Episode 36 finished after 201 timesteps\n",
      "Episode 37 finished after 201 timesteps\n",
      "Episode 38 finished after 201 timesteps\n",
      "Episode 39 finished after 103 timesteps\n",
      "Episode 40 finished after 201 timesteps\n",
      "Episode 41 finished after 201 timesteps\n",
      "Episode 42 finished after 201 timesteps\n",
      "Episode 43 finished after 201 timesteps\n",
      "Episode 44 finished after 201 timesteps\n",
      "Episode 45 finished after 201 timesteps\n",
      "Episode 46 finished after 201 timesteps\n",
      "Episode 47 finished after 201 timesteps\n",
      "Episode 48 finished after 201 timesteps\n",
      "Episode 49 finished after 201 timesteps\n",
      "Episode 50 finished after 201 timesteps\n",
      "Episode 51 finished after 201 timesteps\n",
      "Episode 52 finished after 201 timesteps\n",
      "Episode 53 finished after 201 timesteps\n",
      "Episode 54 finished after 201 timesteps\n",
      "Episode 55 finished after 201 timesteps\n",
      "Episode 56 finished after 201 timesteps\n",
      "Episode 57 finished after 201 timesteps\n",
      "Episode 58 finished after 201 timesteps\n",
      "Episode 59 finished after 201 timesteps\n",
      "Episode 60 finished after 201 timesteps\n",
      "Episode 61 finished after 201 timesteps\n",
      "Episode 62 finished after 201 timesteps\n",
      "Episode 63 finished after 201 timesteps\n",
      "Episode 64 finished after 201 timesteps\n",
      "Episode 65 finished after 201 timesteps\n",
      "Episode 66 finished after 201 timesteps\n",
      "Episode 67 finished after 201 timesteps\n",
      "Episode 68 finished after 201 timesteps\n",
      "Episode 69 finished after 201 timesteps\n",
      "Episode 70 finished after 199 timesteps\n",
      "Episode 71 finished after 201 timesteps\n",
      "Episode 72 finished after 201 timesteps\n",
      "Episode 73 finished after 201 timesteps\n",
      "Episode 74 finished after 201 timesteps\n",
      "Episode 75 finished after 201 timesteps\n",
      "Episode 76 finished after 201 timesteps\n",
      "Episode 77 finished after 201 timesteps\n",
      "Episode 78 finished after 201 timesteps\n",
      "Episode 79 finished after 181 timesteps\n",
      "Episode 80 finished after 201 timesteps\n",
      "Episode 81 finished after 201 timesteps\n",
      "Episode 82 finished after 201 timesteps\n",
      "Episode 83 finished after 201 timesteps\n",
      "Episode 84 finished after 201 timesteps\n",
      "Episode 85 finished after 201 timesteps\n",
      "Episode 86 finished after 201 timesteps\n",
      "Episode 87 finished after 176 timesteps\n",
      "Episode 88 finished after 201 timesteps\n",
      "Episode 89 finished after 201 timesteps\n",
      "Episode 90 finished after 201 timesteps\n",
      "Episode 91 finished after 201 timesteps\n",
      "Episode 92 finished after 201 timesteps\n",
      "Episode 93 finished after 201 timesteps\n",
      "Episode 94 finished after 201 timesteps\n",
      "Episode 95 finished after 201 timesteps\n",
      "Episode 96 finished after 201 timesteps\n",
      "Episode 97 finished after 54 timesteps\n",
      "Episode 98 finished after 201 timesteps\n",
      "Episode 99 finished after 87 timesteps\n",
      "Episode 100 finished after 201 timesteps\n"
     ]
    },
    {
     "data": {
      "text/plain": [
       "194.97"
      ]
     },
     "execution_count": 25,
     "metadata": {},
     "output_type": "execute_result"
    }
   ],
   "source": [
    "test_agent(env, agent=policy, n_episodes=100)"
   ]
  },
  {
   "cell_type": "markdown",
   "metadata": {
    "colab_type": "text",
    "id": "rf18pOwCmugS"
   },
   "source": [
    "Обученный агент должен приближаться к искомому значению средней награды за 100 эпизодов 195."
   ]
  },
  {
   "cell_type": "markdown",
   "metadata": {
    "colab_type": "text",
    "id": "Gk3bQdF_mugT"
   },
   "source": [
    "Визуализируем обученного агента."
   ]
  },
  {
   "cell_type": "code",
   "execution_count": 26,
   "metadata": {
    "colab": {},
    "colab_type": "code",
    "id": "c6QvXvwUsct6"
   },
   "outputs": [
    {
     "data": {
      "text/html": [
       "<video alt=\"test\" autoplay \n",
       "                loop controls style=\"height: 400px;\">\n",
       "                <source src=\"data:video/mp4;base64,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\" type=\"video/mp4\" />\n",
       "             </video>"
      ],
      "text/plain": [
       "<IPython.core.display.HTML object>"
      ]
     },
     "metadata": {},
     "output_type": "display_data"
    }
   ],
   "source": [
    "agent_viz(agent=policy)\n",
    "show_video()"
   ]
  },
  {
   "cell_type": "markdown",
   "metadata": {
    "colab_type": "text",
    "id": "YKkrymnnmugU"
   },
   "source": [
    "Как видно, агент выучил довольно хорошую стратегию для игры и способен долго удерживать шест."
   ]
  },
  {
   "cell_type": "markdown",
   "metadata": {
    "colab_type": "text",
    "id": "NHxdzJsQmugV"
   },
   "source": [
    "### REINFORCE with baselines (Опционально)"
   ]
  },
  {
   "cell_type": "markdown",
   "metadata": {
    "colab_type": "text",
    "id": "QM0DmpwlmugX"
   },
   "source": [
    "В лекциях вы слышали, что при расчете градиентов для обновления параметров политики агента мы можем вычесть из суммы дисконтированных наград ```baseline``` для уменьшения дисперсии градиентов и ускорения сходимости обучения - такой алгоритм называется REINFORCE with baselines. В качестве ```baseline``` мы можем использовать другую нейронную сеть, которая будет оценивать сумму дисконтированных наград из данного состояния *V(s)*. "
   ]
  },
  {
   "cell_type": "markdown",
   "metadata": {
    "colab_type": "text",
    "id": "jImFlpefmugX"
   },
   "source": [
    "Схема алгоритма REINFORCE with baselines (Sutton & Barto) <img src=\"//i.imgur.com/j3BcbHP.png\" width=\"700\">"
   ]
  },
  {
   "cell_type": "markdown",
   "metadata": {
    "colab_type": "text",
    "id": "ofDdKiKJmugY"
   },
   "source": [
    "**Задание**: Включите в уже разработанный алгоритм вторую нейронную сеть для оценки суммы дисконтированных наград *V(s)*. Используйте разницу между фактической суммой дисконтированных наград и оценкой в формуле функции потерь политики. В качестве функции потерь для *V(s)* используйте ```MSELoss```. Оцените скорость сходимости нового алгоритма."
   ]
  },
  {
   "cell_type": "code",
   "execution_count": 57,
   "metadata": {},
   "outputs": [],
   "source": [
    "class Critic(nn.Module):\n",
    "    \"\"\"\n",
    "    Attributes:\n",
    "        state_size: Dimention of the state space of the environment.\n",
    "        act_size: Dimention of the action space of the environment.\n",
    "        hidden_size: Dimention of the hidden state of the agent's policy.\n",
    "    \"\"\"\n",
    "    \n",
    "    # TO DO\n",
    "    def __init__(self, state_size, act_size, hidden_size):\n",
    "        super(Critic, self).__init__()\n",
    "        self.state_space = state_size\n",
    "        self.action_space = act_size\n",
    "        #self.hidden = 200\n",
    "        \n",
    "        self.linear1 = nn.Linear(self.state_space, hidden_size)\n",
    "        self.linear2 = nn.Linear(hidden_size, 1)\n",
    "        \n",
    "        self.relu = nn.ReLU()\n",
    "        \n",
    "    def forward(self, x):    \n",
    "        model = torch.nn.Sequential(\n",
    "            self.linear1,\n",
    "            self.relu,\n",
    "            self.linear2\n",
    "        )\n",
    "        return model(x)"
   ]
  },
  {
   "cell_type": "code",
   "execution_count": 58,
   "metadata": {},
   "outputs": [],
   "source": [
    "def process_traj_batch(model, critic, batch, discount):\n",
    "    \"\"\"Computes log probabilities for each action \n",
    "        and rewards-to-go for each state in the batch of trajectories.\n",
    "    \n",
    "    Args:\n",
    "        policy: Policy of the agent.\n",
    "        batch (list of list of collections.namedtuple): Batch of trajectories.\n",
    "        discount (float): Discount factor for rewards-to-go calculation.\n",
    "\n",
    "    Returns:\n",
    "        log_probs (list of torch.FloatTensor): List of log probabilities for\n",
    "            each action in the batch of trajectories.\n",
    "        returns (list of rewards-to-go): List of rewards-to-go for \n",
    "            each state in the batch of trajectories.\n",
    "    \"\"\"\n",
    "    \n",
    "    # TO DO\n",
    "    #print(batch)\n",
    "    num_episodes = len(batch)\n",
    "    #loss = torch.nn.NLLLoss()\n",
    "    transition = collections.namedtuple(\"transition\", [\"state\", \"action\", \"reward\"])\n",
    "    \n",
    "    transition_tuple_to_tensor = lambda x: transition(torch.stack(x.state, dim = 0).to(device), \\\n",
    "                                                            torch.stack(x.action, dim = 0).view(-1, 1).to(device), \\\n",
    "                                                            list(x.reward))\n",
    "    batch = [transition_tuple_to_tensor(transition(*zip(*x))) for x in batch]\n",
    "    log_probs = []\n",
    "    returns = []\n",
    "    rewards_predict = []\n",
    "    for x in batch:\n",
    "        #print(x.state)\n",
    "        #print(torch.log(policy(x.state)))\n",
    "        #print(\"action: \", x.action)\n",
    "        #print(x.reward)\n",
    "        #print(torch.log(policy(x.state)).gather(1, x.action))\n",
    "        #discount_tensor = torch.tensor([[discount**i] for i in range(len(x.reward))]).to(device)\n",
    "        #print(torch.log(policy(x.state)).gather(1, x.action)*discount_tensor)\n",
    "        probs = model(x.state)\n",
    "        rewards_predict.append(critic(x.state))\n",
    "        #print(torch.FloatTensor([Categorical(probs[i]).log_prob(x.action[i]) for i in range(len(probs))]))\n",
    "        #log_probs.append(dist.log_prob(x.action))\n",
    "        log_probs.append(torch.log(probs).gather(1, x.action))\n",
    "        #print(probs, log_probs[-1])\n",
    "        returns.append(x.reward.copy())\n",
    "        for i in range(1, len(x.reward)):\n",
    "            returns[-1][0] += x.reward[i]*(discount**(i)) \n",
    "        for i in range(1, len(x.reward)):\n",
    "            returns[-1][i] = (returns[-1][i-1] - x.reward[i-1])/discount\n",
    "    #print(log_probs, returns)\n",
    "    returns = [y for x in returns for y in x]\n",
    "    log_probs = torch.cat([x.flatten() for x in log_probs])\n",
    "    rewards_predict = torch.cat([x.flatten() for x in rewards_predict])\n",
    "    #print((log_probs*torch.FloatTensor(returns).to(device)).sum())\n",
    "    #print(log_probs.requires_grad, batch[0].action.requires_grad, batch[0].state.requires_grad)\n",
    "    #print(sum(log_probs), sum(returns))\n",
    "    return log_probs, returns, rewards_predict"
   ]
  },
  {
   "cell_type": "code",
   "execution_count": 104,
   "metadata": {},
   "outputs": [],
   "source": [
    "policy = Policy(STATE_SIZE, ACT_SIZE, HIDDEN_SIZE).to(device)\n",
    "v = Critic(STATE_SIZE, ACT_SIZE, HIDDEN_SIZE).to(device)\n",
    "optimizer = Adam(policy.parameters(), lr = 1e-3)\n",
    "optimizer_v = Adam(v.parameters(), lr = 1e-1)"
   ]
  },
  {
   "cell_type": "code",
   "execution_count": 105,
   "metadata": {},
   "outputs": [
    {
     "data": {
      "image/png": "[encoded data removed]",
      "text/plain": [
       "<Figure size 864x432 with 3 Axes>"
      ]
     },
     "metadata": {
      "needs_background": "light"
     },
     "output_type": "display_data"
    }
   ],
   "source": [
    "from itertools import count\n",
    "rewards_history = []\n",
    "returns_history = []\n",
    "traj_batch = []\n",
    "critic_history = []\n",
    "losses = []\n",
    "losses_v = []\n",
    "for i in range(NUM_EPISODES):\n",
    "        \n",
    "    # TO DO\n",
    "    traj = []\n",
    "    rewards = 0\n",
    "    state = torch.FloatTensor(env.reset()).to(device)\n",
    "    for t in count():\n",
    "        dist = Categorical(policy(state))\n",
    "        action = dist.sample().detach()\n",
    "        next_state, reward, done, _ = env.step(action.numpy())\n",
    "        #print(policy(state), action, state, reward)\n",
    "        traj.append(transition(state, action, reward))\n",
    "        rewards += reward\n",
    "        if not done:\n",
    "            state = torch.FloatTensor(next_state).to(device)\n",
    "        else:\n",
    "            break\n",
    "    rewards_history.append(rewards)\n",
    "    traj_batch.append(traj)\n",
    "    \n",
    "    if i % TRAIN_EVERY:\n",
    "        log_probs, returns, rewards_predict = process_traj_batch(policy, v, traj_batch, DISCOUNT)\n",
    "        returns = torch.FloatTensor(returns).to(device)\n",
    "        returns_history.append(returns.sum().item())\n",
    "        #print(returns.shape, rewards_predict.shape)\n",
    "        loss_v = nn.MSELoss()(returns, rewards_predict)\n",
    "        \n",
    "        optimizer_v.zero_grad()\n",
    "        loss_v.backward()\n",
    "        optimizer_v.step()\n",
    "        losses_v.append(loss_v.item())\n",
    "        \n",
    "        returns = returns - rewards_predict.detach()\n",
    "        loss = (torch.sum(torch.mul(log_probs, returns).mul(-1), -1))\n",
    "        #print(loss)\n",
    "        #loss = -(log_probs * torch.FloatTensor(returns).to(device)).sum()\n",
    "        \n",
    "        optimizer.zero_grad()\n",
    "        loss.backward()\n",
    "        optimizer.step()\n",
    "        losses.append(loss.item())\n",
    "        \n",
    "        critic_history.append(rewards_predict.sum().item()/len(traj_batch))\n",
    "        \n",
    "        traj_batch = []\n",
    "\n",
    "    if i % 10:\n",
    "        clear_output(True)\n",
    "        fig = plt.figure(figsize=[12, 6])\n",
    "        ax1 = fig.add_subplot(2, 1, 2)\n",
    "        ax2 = fig.add_subplot(2, 2, 2)\n",
    "        ax3 = fig.add_subplot(2, 2, 1)\n",
    "        ax1.set(title = 'Rewards'); ax1.grid()\n",
    "        ax1.scatter(np.arange(len(rewards_history)), rewards_history, alpha=0.1)\n",
    "        ax1.plot(moving_average(rewards_history, span=10, min_periods=10))\n",
    "        ax2.set(title = 'Loss'); ax2.grid()\n",
    "        ax2.plot(moving_average(losses, span=10, min_periods=10))\n",
    "        ax2.plot(moving_average(losses_v, span=10, min_periods=10), color = 'r')\n",
    "        ax3.set(title = 'Returns'); ax3.grid()\n",
    "        ax3.plot(moving_average(returns_history, span=10, min_periods=10))\n",
    "        ax3.plot(moving_average(critic_history, span=10, min_periods=10), color = 'r')\n",
    "        plt.show()"
   ]
  },
  {
   "cell_type": "code",
   "execution_count": 106,
   "metadata": {},
   "outputs": [
    {
     "name": "stdout",
     "output_type": "stream",
     "text": [
      "Episode 1 finished after 201 timesteps\n",
      "Episode 2 finished after 201 timesteps\n",
      "Episode 3 finished after 201 timesteps\n",
      "Episode 4 finished after 201 timesteps\n",
      "Episode 5 finished after 201 timesteps\n",
      "Episode 6 finished after 201 timesteps\n",
      "Episode 7 finished after 201 timesteps\n",
      "Episode 8 finished after 201 timesteps\n",
      "Episode 9 finished after 201 timesteps\n",
      "Episode 10 finished after 201 timesteps\n",
      "Episode 11 finished after 201 timesteps\n",
      "Episode 12 finished after 201 timesteps\n",
      "Episode 13 finished after 201 timesteps\n",
      "Episode 14 finished after 201 timesteps\n",
      "Episode 15 finished after 201 timesteps\n",
      "Episode 16 finished after 190 timesteps\n",
      "Episode 17 finished after 201 timesteps\n",
      "Episode 18 finished after 201 timesteps\n",
      "Episode 19 finished after 201 timesteps\n",
      "Episode 20 finished after 201 timesteps\n",
      "Episode 21 finished after 201 timesteps\n",
      "Episode 22 finished after 201 timesteps\n",
      "Episode 23 finished after 201 timesteps\n",
      "Episode 24 finished after 201 timesteps\n",
      "Episode 25 finished after 201 timesteps\n",
      "Episode 26 finished after 201 timesteps\n",
      "Episode 27 finished after 201 timesteps\n",
      "Episode 28 finished after 201 timesteps\n",
      "Episode 29 finished after 201 timesteps\n",
      "Episode 30 finished after 201 timesteps\n",
      "Episode 31 finished after 201 timesteps\n",
      "Episode 32 finished after 201 timesteps\n",
      "Episode 33 finished after 201 timesteps\n",
      "Episode 34 finished after 201 timesteps\n",
      "Episode 35 finished after 201 timesteps\n",
      "Episode 36 finished after 201 timesteps\n",
      "Episode 37 finished after 201 timesteps\n",
      "Episode 38 finished after 201 timesteps\n",
      "Episode 39 finished after 201 timesteps\n",
      "Episode 40 finished after 201 timesteps\n",
      "Episode 41 finished after 201 timesteps\n",
      "Episode 42 finished after 201 timesteps\n",
      "Episode 43 finished after 201 timesteps\n",
      "Episode 44 finished after 201 timesteps\n",
      "Episode 45 finished after 201 timesteps\n",
      "Episode 46 finished after 201 timesteps\n",
      "Episode 47 finished after 201 timesteps\n",
      "Episode 48 finished after 201 timesteps\n",
      "Episode 49 finished after 201 timesteps\n",
      "Episode 50 finished after 201 timesteps\n",
      "Episode 51 finished after 201 timesteps\n",
      "Episode 52 finished after 201 timesteps\n",
      "Episode 53 finished after 201 timesteps\n",
      "Episode 54 finished after 201 timesteps\n",
      "Episode 55 finished after 201 timesteps\n",
      "Episode 56 finished after 201 timesteps\n",
      "Episode 57 finished after 201 timesteps\n",
      "Episode 58 finished after 201 timesteps\n",
      "Episode 59 finished after 201 timesteps\n",
      "Episode 60 finished after 201 timesteps\n",
      "Episode 61 finished after 201 timesteps\n",
      "Episode 62 finished after 201 timesteps\n",
      "Episode 63 finished after 201 timesteps\n",
      "Episode 64 finished after 201 timesteps\n",
      "Episode 65 finished after 201 timesteps\n",
      "Episode 66 finished after 201 timesteps\n",
      "Episode 67 finished after 201 timesteps\n",
      "Episode 68 finished after 188 timesteps\n",
      "Episode 69 finished after 201 timesteps\n",
      "Episode 70 finished after 201 timesteps\n",
      "Episode 71 finished after 201 timesteps\n",
      "Episode 72 finished after 201 timesteps\n",
      "Episode 73 finished after 201 timesteps\n",
      "Episode 74 finished after 201 timesteps\n",
      "Episode 75 finished after 201 timesteps\n",
      "Episode 76 finished after 201 timesteps\n",
      "Episode 77 finished after 201 timesteps\n",
      "Episode 78 finished after 201 timesteps\n",
      "Episode 79 finished after 201 timesteps\n",
      "Episode 80 finished after 201 timesteps\n",
      "Episode 81 finished after 201 timesteps\n",
      "Episode 82 finished after 201 timesteps\n",
      "Episode 83 finished after 201 timesteps\n",
      "Episode 84 finished after 201 timesteps\n",
      "Episode 85 finished after 201 timesteps\n",
      "Episode 86 finished after 201 timesteps\n",
      "Episode 87 finished after 201 timesteps\n",
      "Episode 88 finished after 201 timesteps\n",
      "Episode 89 finished after 201 timesteps\n",
      "Episode 90 finished after 201 timesteps\n",
      "Episode 91 finished after 201 timesteps\n",
      "Episode 92 finished after 201 timesteps\n",
      "Episode 93 finished after 201 timesteps\n",
      "Episode 94 finished after 201 timesteps\n",
      "Episode 95 finished after 201 timesteps\n",
      "Episode 96 finished after 201 timesteps\n",
      "Episode 97 finished after 201 timesteps\n",
      "Episode 98 finished after 201 timesteps\n",
      "Episode 99 finished after 201 timesteps\n",
      "Episode 100 finished after 201 timesteps\n"
     ]
    },
    {
     "data": {
      "text/plain": [
       "199.76"
      ]
     },
     "execution_count": 106,
     "metadata": {},
     "output_type": "execute_result"
    }
   ],
   "source": [
    "test_agent(env, agent=policy, n_episodes=100)"
   ]
  },
  {
   "cell_type": "code",
   "execution_count": 108,
   "metadata": {},
   "outputs": [
    {
     "data": {
      "text/plain": [
       "(tensor(90.0840, grad_fn=<MeanBackward1>),\n",
       " tensor(-179.5154, grad_fn=<SumBackward2>))"
      ]
     },
     "execution_count": 108,
     "metadata": {},
     "output_type": "execute_result"
    }
   ],
   "source": [
    "loss_v, loss"
   ]
  },
  {
   "cell_type": "code",
   "execution_count": null,
   "metadata": {},
   "outputs": [],
   "source": []
  }
 ],
 "metadata": {
  "accelerator": "GPU",
  "colab": {
   "collapsed_sections": [],
   "name": "REINFORCE.ipynb",
   "private_outputs": true,
   "provenance": [],
   "version": "0.3.2"
  },
  "kernelspec": {
   "display_name": "Python 3",
   "language": "python",
   "name": "python3"
  },
  "language_info": {
   "codemirror_mode": {
    "name": "ipython",
    "version": 3
   },
   "file_extension": ".py",
   "mimetype": "text/x-python",
   "name": "python",
   "nbconvert_exporter": "python",
   "pygments_lexer": "ipython3",
   "version": "3.6.8"
  }
 },
 "nbformat": 4,
 "nbformat_minor": 4
}

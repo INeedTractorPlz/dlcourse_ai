{
 "cells": [
  {
   "cell_type": "markdown",
   "metadata": {},
   "source": [
    "# Задание 1.2 - Линейный классификатор (Linear classifier)\n",
    "\n",
    "В этом задании мы реализуем другую модель машинного обучения - линейный классификатор. Линейный классификатор подбирает для каждого класса веса, на которые нужно умножить значение каждого признака и потом сложить вместе.\n",
    "Тот класс, у которого эта сумма больше, и является предсказанием модели.\n",
    "\n",
    "В этом задании вы:\n",
    "- потренируетесь считать градиенты различных многомерных функций\n",
    "- реализуете подсчет градиентов через линейную модель и функцию потерь softmax\n",
    "- реализуете процесс тренировки линейного классификатора\n",
    "- подберете параметры тренировки на практике\n",
    "\n",
    "На всякий случай, еще раз ссылка на туториал по numpy:  \n",
    "http://cs231n.github.io/python-numpy-tutorial/"
   ]
  },
  {
   "cell_type": "code",
   "execution_count": 1,
   "metadata": {},
   "outputs": [],
   "source": [
    "import numpy as np\n",
    "import matplotlib.pyplot as plt\n",
    "\n",
    "%matplotlib inline\n",
    "\n",
    "%load_ext autoreload\n",
    "%autoreload 2"
   ]
  },
  {
   "cell_type": "code",
   "execution_count": 2,
   "metadata": {},
   "outputs": [],
   "source": [
    "from dataset import load_svhn, random_split_train_val\n",
    "from gradient_check import check_gradient\n",
    "from metrics import multiclass_accuracy \n",
    "import linear_classifer"
   ]
  },
  {
   "cell_type": "markdown",
   "metadata": {},
   "source": [
    "# Как всегда, первым делом загружаем данные\n",
    "\n",
    "Мы будем использовать все тот же SVHN."
   ]
  },
  {
   "cell_type": "code",
   "execution_count": 3,
   "metadata": {},
   "outputs": [],
   "source": [
    "def prepare_for_linear_classifier(train_X, test_X):\n",
    "    train_flat = train_X.reshape(train_X.shape[0], -1).astype(np.float) / 255.0\n",
    "    test_flat = test_X.reshape(test_X.shape[0], -1).astype(np.float) / 255.0\n",
    "    \n",
    "    # Subtract mean\n",
    "    mean_image = np.mean(train_flat, axis = 0)\n",
    "    train_flat -= mean_image\n",
    "    test_flat -= mean_image\n",
    "    \n",
    "    # Add another channel with ones as a bias term\n",
    "    train_flat_with_ones = np.hstack([train_flat, np.ones((train_X.shape[0], 1))])\n",
    "    test_flat_with_ones = np.hstack([test_flat, np.ones((test_X.shape[0], 1))])    \n",
    "    return train_flat_with_ones, test_flat_with_ones\n",
    "    \n",
    "train_X, train_y, test_X, test_y = load_svhn(\"data\", max_train=10000, max_test=1000)    \n",
    "train_X, test_X = prepare_for_linear_classifier(train_X, test_X)\n",
    "# Split train into train and val\n",
    "train_X, train_y, val_X, val_y = random_split_train_val(train_X, train_y, num_val = 1000)"
   ]
  },
  {
   "cell_type": "markdown",
   "metadata": {},
   "source": [
    "# Играемся с градиентами!\n",
    "\n",
    "В этом курсе мы будем писать много функций, которые вычисляют градиенты аналитическим методом.\n",
    "\n",
    "Необходимым инструментом во время реализации кода, вычисляющего градиенты, является функция его проверки. Эта функция вычисляет градиент численным методом и сверяет результат с градиентом, вычисленным аналитическим методом.\n",
    "\n",
    "Мы начнем с того, чтобы реализовать вычисление численного градиента (numeric gradient) в этой функции.\n",
    "Вычислите градиент с помощью численной производной для каждой координаты. Для вычисления производной используйте так называемую two-point formula (https://en.wikipedia.org/wiki/Numerical_differentiation):\n",
    "\n",
    "![image](https://wikimedia.org/api/rest_v1/media/math/render/svg/22fc2c0a66c63560a349604f8b6b39221566236d)\n"
   ]
  },
  {
   "cell_type": "code",
   "execution_count": 4,
   "metadata": {
    "scrolled": true
   },
   "outputs": [
    {
     "name": "stdout",
     "output_type": "stream",
     "text": [
      "Gradient check passed!\n",
      "Gradient check passed!\n",
      "Gradient check passed!\n"
     ]
    },
    {
     "data": {
      "text/plain": [
       "True"
      ]
     },
     "execution_count": 4,
     "metadata": {},
     "output_type": "execute_result"
    }
   ],
   "source": [
    "# TODO: Implement gradient check function\n",
    "def sqr(x):\n",
    "    return x*x, 2*x\n",
    "\n",
    "check_gradient(sqr, np.array([3.0]))\n",
    "\n",
    "def array_sum(x):\n",
    "    assert x.shape == (2,), x.shape\n",
    "    return np.sum(x), np.ones_like(x)\n",
    "\n",
    "check_gradient(array_sum, np.array([3.0, 2.0]))\n",
    "\n",
    "def array_2d_sum(x):\n",
    "    assert x.shape == (2,2)\n",
    "    return np.sum(x), np.ones_like(x)\n",
    "\n",
    "check_gradient(array_2d_sum, np.array([[3.0, 2.0], [1.0, 0.0]]))"
   ]
  },
  {
   "cell_type": "markdown",
   "metadata": {},
   "source": [
    "Теперь реализуем функцию softmax, которая получает на вход оценки для каждого класса и преобразует их в вероятности от 0 до 1:\n",
    "![image](https://wikimedia.org/api/rest_v1/media/math/render/svg/e348290cf48ddbb6e9a6ef4e39363568b67c09d3)\n",
    "\n",
    "**Важно:** Практический аспект вычисления этой функции заключается в том, что в ней учавствует вычисление экспоненты от потенциально очень больших чисел - это может привести к очень большим значениям в числителе и знаменателе за пределами диапазона float.\n",
    "\n",
    "К счастью, у этой проблемы есть простое решение -- перед вычислением softmax вычесть из всех оценок максимальное значение среди всех оценок:\n",
    "```\n",
    "predictions -= np.max(predictions)\n",
    "```\n",
    "(подробнее здесь - http://cs231n.github.io/linear-classify/#softmax, секция `Practical issues: Numeric stability`)"
   ]
  },
  {
   "cell_type": "code",
   "execution_count": 5,
   "metadata": {},
   "outputs": [],
   "source": [
    "# TODO Implement softmax and cross-entropy for single sample\n",
    "probs = linear_classifer.softmax(np.array([-10, 0, 10]))\n",
    "\n",
    "# Make sure it works for big numbers too!\n",
    "probs = linear_classifer.softmax(np.array([1000, 0, 0]))\n",
    "assert np.isclose(probs[0], 1.0)"
   ]
  },
  {
   "cell_type": "markdown",
   "metadata": {},
   "source": [
    "Кроме этого, мы реализуем cross-entropy loss, которую мы будем использовать как функцию ошибки (error function).\n",
    "В общем виде cross-entropy определена следующим образом:\n",
    "![image](https://wikimedia.org/api/rest_v1/media/math/render/svg/0cb6da032ab424eefdca0884cd4113fe578f4293)\n",
    "\n",
    "где x - все классы, p(x) - истинная вероятность принадлежности сэмпла классу x, а q(x) - вероятность принадлежности классу x, предсказанная моделью.  \n",
    "В нашем случае сэмпл принадлежит только одному классу, индекс которого передается функции. Для него p(x) равна 1, а для остальных классов - 0. \n",
    "\n",
    "Это позволяет реализовать функцию проще!"
   ]
  },
  {
   "cell_type": "code",
   "execution_count": 6,
   "metadata": {},
   "outputs": [
    {
     "data": {
      "text/plain": [
       "10.00676044354712"
      ]
     },
     "execution_count": 6,
     "metadata": {},
     "output_type": "execute_result"
    }
   ],
   "source": [
    "probs = linear_classifer.softmax(np.array([-5, 0, 5]))\n",
    "linear_classifer.cross_entropy_loss(probs, 1)"
   ]
  },
  {
   "cell_type": "markdown",
   "metadata": {},
   "source": [
    "После того как мы реализовали сами функции, мы можем реализовать градиент.\n",
    "\n",
    "Оказывается, что вычисление градиента становится гораздо проще, если объединить эти функции в одну, которая сначала вычисляет вероятности через softmax, а потом использует их для вычисления функции ошибки через cross-entropy loss.\n",
    "\n",
    "Эта функция `softmax_with_cross_entropy` будет возвращает и значение ошибки, и градиент по входным параметрам. Мы проверим корректность реализации с помощью `check_gradient`."
   ]
  },
  {
   "cell_type": "code",
   "execution_count": 7,
   "metadata": {},
   "outputs": [
    {
     "name": "stdout",
     "output_type": "stream",
     "text": [
      "Gradient check passed!\n"
     ]
    },
    {
     "data": {
      "text/plain": [
       "True"
      ]
     },
     "execution_count": 7,
     "metadata": {},
     "output_type": "execute_result"
    }
   ],
   "source": [
    "# TODO Implement combined function or softmax and cross entropy and produces gradient\n",
    "loss, grad = linear_classifer.softmax_with_cross_entropy(np.array([1, 0, 0]), 1)\n",
    "check_gradient(lambda x: linear_classifer.softmax_with_cross_entropy(x, 1), np.array([1, 0, 0], np.float))"
   ]
  },
  {
   "cell_type": "markdown",
   "metadata": {},
   "source": [
    "В качестве метода тренировки мы будем использовать стохастический градиентный спуск (stochastic gradient descent или SGD), который работает с батчами сэмплов. \n",
    "\n",
    "Поэтому все наши фукнции будут получать не один пример, а батч, то есть входом будет не вектор из `num_classes` оценок, а матрица размерности `batch_size, num_classes`. Индекс примера в батче всегда будет первым измерением.\n",
    "\n",
    "Следующий шаг - переписать наши функции так, чтобы они поддерживали батчи.\n",
    "\n",
    "Финальное значение функции ошибки должно остаться числом, и оно равно среднему значению ошибки среди всех примеров в батче."
   ]
  },
  {
   "cell_type": "code",
   "execution_count": 8,
   "metadata": {
    "scrolled": true
   },
   "outputs": [
    {
     "name": "stdout",
     "output_type": "stream",
     "text": [
      "Gradient check passed!\n",
      "Gradient check passed!\n"
     ]
    },
    {
     "data": {
      "text/plain": [
       "True"
      ]
     },
     "execution_count": 8,
     "metadata": {},
     "output_type": "execute_result"
    }
   ],
   "source": [
    "# TODO Extend combined function so it can receive a 2d array with batch of samples\n",
    "\n",
    "# Test batch_size = 1\n",
    "batch_size = 1\n",
    "predictions = np.zeros((batch_size, 3))\n",
    "target_index = np.ones(batch_size, np.int)\n",
    "check_gradient(lambda x: linear_classifer.softmax_with_cross_entropy(x, target_index), predictions)\n",
    "\n",
    "# Test batch_size = 3\n",
    "batch_size = 3\n",
    "predictions = np.zeros((batch_size, 3))\n",
    "target_index = np.ones(batch_size, np.int)\n",
    "check_gradient(lambda x: linear_classifer.softmax_with_cross_entropy(x, target_index), predictions)"
   ]
  },
  {
   "cell_type": "markdown",
   "metadata": {},
   "source": [
    "### Наконец, реализуем сам линейный классификатор!\n",
    "\n",
    "softmax и cross-entropy получают на вход оценки, которые выдает линейный классификатор.\n",
    "\n",
    "Он делает это очень просто: для каждого класса есть набор весов, на которые надо умножить пиксели картинки и сложить. Получившееся число и является оценкой класса, идущей на вход softmax.\n",
    "\n",
    "Таким образом, линейный классификатор можно представить как умножение вектора с пикселями на матрицу W размера `num_features, num_classes`. Такой подход легко расширяется на случай батча векторов с пикселями X размера `batch_size, num_features`:\n",
    "\n",
    "`predictions = X * W`, где `*` - матричное умножение.\n",
    "\n",
    "Реализуйте функцию подсчета линейного классификатора и градиентов по весам `linear_softmax` в файле `linear_classifer.py`"
   ]
  },
  {
   "cell_type": "code",
   "execution_count": 9,
   "metadata": {},
   "outputs": [
    {
     "name": "stdout",
     "output_type": "stream",
     "text": [
      "Gradient check passed!\n"
     ]
    },
    {
     "data": {
      "text/plain": [
       "True"
      ]
     },
     "execution_count": 9,
     "metadata": {},
     "output_type": "execute_result"
    }
   ],
   "source": [
    "# TODO Implement linear_softmax function that uses softmax with cross-entropy for linear classifier\n",
    "batch_size = 2\n",
    "num_classes = 2\n",
    "num_features = 3\n",
    "np.random.seed(42)\n",
    "W = np.random.randint(-1, 3, size=(num_features, num_classes)).astype(np.float)\n",
    "X = np.random.randint(-1, 3, size=(batch_size, num_features)).astype(np.float)\n",
    "target_index = np.ones(batch_size, dtype=np.int)\n",
    "\n",
    "loss, dW = linear_classifer.linear_softmax(X, W, target_index)\n",
    "check_gradient(lambda w: linear_classifer.linear_softmax(X, w, target_index), W)"
   ]
  },
  {
   "cell_type": "markdown",
   "metadata": {},
   "source": [
    "### И теперь регуляризация\n",
    "\n",
    "Мы будем использовать L2 regularization для весов как часть общей функции ошибки.\n",
    "\n",
    "Напомним, L2 regularization определяется как\n",
    "\n",
    "l2_reg_loss = regularization_strength * sum<sub>ij</sub> W[i, j]<sup>2</sup>\n",
    "\n",
    "Реализуйте функцию для его вычисления и вычисления соотвествующих градиентов."
   ]
  },
  {
   "cell_type": "code",
   "execution_count": 10,
   "metadata": {},
   "outputs": [
    {
     "name": "stdout",
     "output_type": "stream",
     "text": [
      "Gradient check passed!\n"
     ]
    },
    {
     "data": {
      "text/plain": [
       "True"
      ]
     },
     "execution_count": 10,
     "metadata": {},
     "output_type": "execute_result"
    }
   ],
   "source": [
    "# TODO Implement l2_regularization function that implements loss for L2 regularization\n",
    "linear_classifer.l2_regularization(W, 0.01)\n",
    "check_gradient(lambda w: linear_classifer.l2_regularization(w, 0.01), W)"
   ]
  },
  {
   "cell_type": "markdown",
   "metadata": {},
   "source": [
    "# Тренировка!"
   ]
  },
  {
   "cell_type": "markdown",
   "metadata": {},
   "source": [
    "Градиенты в порядке, реализуем процесс тренировки!"
   ]
  },
  {
   "cell_type": "code",
   "execution_count": 37,
   "metadata": {
    "scrolled": false
   },
   "outputs": [
    {
     "name": "stdout",
     "output_type": "stream",
     "text": [
      "End epohs, loss_last: 2.302595\n"
     ]
    }
   ],
   "source": [
    "# TODO: Implement LinearSoftmaxClassifier.fit function\n",
    "classifier = linear_classifer.LinearSoftmaxClassifier()\n",
    "loss_history = classifier.fit(train_X, train_y, epochs=10, learning_rate=1e-3, batch_size=300, reg=1e1)"
   ]
  },
  {
   "cell_type": "code",
   "execution_count": 38,
   "metadata": {},
   "outputs": [
    {
     "data": {
      "text/plain": [
       "[<matplotlib.lines.Line2D at 0x7efca8d682e8>]"
      ]
     },
     "execution_count": 38,
     "metadata": {},
     "output_type": "execute_result"
    },
    {
     "data": {
      "image/png": "[encoded data removed]",
      "text/plain": [
       "<Figure size 432x288 with 1 Axes>"
      ]
     },
     "metadata": {
      "needs_background": "light"
     },
     "output_type": "display_data"
    }
   ],
   "source": [
    "# let's look at the loss history!\n",
    "plt.plot(loss_history)"
   ]
  },
  {
   "cell_type": "code",
   "execution_count": 45,
   "metadata": {},
   "outputs": [
    {
     "name": "stdout",
     "output_type": "stream",
     "text": [
      "Accuracy:  0.119\n",
      "End epohs, loss_last: 2.301592\n",
      "Accuracy after training for 100 epochs:  0.145\n"
     ]
    }
   ],
   "source": [
    "# Let's check how it performs on validation set\n",
    "pred = classifier.predict(val_X)\n",
    "accuracy = multiclass_accuracy(pred, val_y)\n",
    "print(\"Accuracy: \", accuracy)\n",
    "\n",
    "# Now, let's train more and see if it performs better\n",
    "classifier.fit(train_X, train_y, epochs=100, learning_rate=1e-3, batch_size=300, reg=1e1)\n",
    "pred = classifier.predict(val_X)\n",
    "accuracy = multiclass_accuracy(pred, val_y)\n",
    "print(\"Accuracy after training for 100 epochs: \", accuracy)"
   ]
  },
  {
   "cell_type": "code",
   "execution_count": 40,
   "metadata": {},
   "outputs": [
    {
     "name": "stdout",
     "output_type": "stream",
     "text": [
      "[9 8 7 8 5 4 9 8 9 7 7 0 8 7 7 0 9 9 7 7 7 5 8 0 8 7 8 7 1 7 5 7 8 8 8 8 8\n",
      " 5 7 7 7 8 6 8 8 6 8 5 7 6 7 7 7 1 7 8 1 6 8 7 8 8 9 5 7 8 7 7 7 8 9 8 4 7\n",
      " 8 7 7 0 8 9 8 7 8 8 8 8 7 9 8 7 7 7 8 1 0 2 9 8 7 8 8 5 0 8 6 8 0 6 4 7 7\n",
      " 8 6 8 8 7 7 5 4 7 7 8 5 7 7 9 7 8 8 8 7 8 4 8 6 8 7 7 5 1 7 7 5 6 8 6 0 8\n",
      " 5 6 8 6 4 7 9 8 1 7 7 5 8 0 8 7 7 8 8 7 7 9 9 8 5 8 8 7 8 8 8 5 7 8 7 7 8\n",
      " 5 0 9 8 2 8 7 9 8 8 8 8 4 9 9 9 0 4 8 1 9 7 8 0 0 8 8 1 8 1 0 8 8 0 8 7 8\n",
      " 7 6 0 7 0 1 7 1 7 6 9 5 8 5 5 7 1 0 7 7 8 7 7 5 7 7 7 6 7 9 1 0 8 5 7 4 7\n",
      " 7 7 5 5 7 1 9 7 8 7 7 8 7 7 8 8 9 7 8 8 8 0 7 7 8 7 8 4 7 7 1 6 8 9 7 8 7\n",
      " 9 9 8 8 7 9 1 7 7 8 8 8 8 8 5 8 9 9 6 8 8 7 7 1 7 7 7 7 7 7 8 5 8 6 8 7 8\n",
      " 7 7 7 9 7 7 7 1 1 8 7 7 8 8 7 7 7 5 6 8 4 7 4 8 7 4 7 8 9 7 7 7 6 9 7 8 7\n",
      " 7 5 4 7 8 8 7 8 8 7 1 8 8 7 8 8 7 7 8 8 6 7 8 8 7 7 7 8 8 7 7 7 8 7 0 6 7\n",
      " 9 8 8 0 7 7 0 8 6 8 5 8 7 6 8 1 7 8 8 1 8 6 4 8 7 8 8 9 6 7 7 0 8 7 8 8 7\n",
      " 7 7 5 7 8 4 8 7 9 7 5 7 8 8 7 7 8 7 4 8 8 8 1 8 8 7 7 8 7 7 9 8 5 9 7 7 5\n",
      " 8 7 7 8 8 7 6 7 8 7 6 9 7 8 5 7 8 8 8 9 7 5 8 8 7 8 1 8 7 7 8 5 9 7 7 9 7\n",
      " 5 8 8 1 7 5 7 0 7 7 8 0 5 0 5 8 8 8 7 8 1 8 8 7 9 7 8 6 9 7 7 8 7 7 7 7 8\n",
      " 7 5 8 7 8 8 8 8 0 7 8 8 7 7 8 8 0 8 8 8 8 7 9 8 0 1 8 7 8 8 7 8 4 8 5 8 9\n",
      " 7 7 8 7 7 7 7 7 7 5 8 8 8 9 9 9 7 7 9 7 8 7 7 9 9 8 8 8 5 9 0 0 8 7 7 7 1\n",
      " 8 8 7 9 1 0 8 4 7 8 7 7 8 8 7 0 0 8 1 8 1 9 7 5 7 0 7 8 5 8 7 8 5 7 8 8 7\n",
      " 8 6 7 7 4 7 7 8 7 7 7 7 8 8 7 7 8 8 7 8 0 7 8 6 9 8 7 8 7 6 5 8 7 8 7 5 0\n",
      " 9 7 7 9 7 7 7 9 8 7 8 0 4 8 8 6 9 8 0 8 0 7 7 7 8 8 5 6 7 7 7 1 8 7 7 7 8\n",
      " 1 7 6 7 9 5 7 5 8 8 8 8 8 8 1 8 4 8 1 7 0 8 7 6 9 8 7 8 7 7 8 1 7 3 8 8 8\n",
      " 7 0 7 8 0 8 5 6 8 7 2 8 8 8 7 8 7 7 7 7 8 8 8 6 7 7 7 4 5 7 7 0 8 6 7 8 8\n",
      " 4 8 1 6 7 1 7 7 9 1 8 9 7 9 7 7 8 8 8 8 1 7 5 2 7 8 7 7 0 8 7 1 7 7 7 8 9\n",
      " 9 7 8 0 9 8 8 8 5 7 8 8 8 8 8 7 2 7 8 7 4 8 9 7 8 8 8 5 9 0 7 7 9 8 7 1 8\n",
      " 9 7 6 8 9 8 4 1 7 7 5 8 4 7 4 8 8 6 8 8 6 0 7 8 8 4 7 7 8 7 7 8 8 0 8 8 8\n",
      " 8 7 7 8 7 8 8 8 0 7 8 8 1 8 8 7 8 7 5 7 8 4 7 8 7 7 7 8 7 5 7 9 8 8 4 9 8\n",
      " 7 7 8 7 7 8 8 1 1 7 8 5 0 8 8 8 7 8 9 1 7 8 7 7 7 8 7 7 0 8 4 8 7 8 7 8 7\n",
      " 7] \n",
      " [2 4 7 3 5 8 6 1 2 1 6 4 3 1 8 1 3 6 2 6 7 8 2 9 1 2 5 0 4 8 7 6 1 6 9 6 3\n",
      " 1 1 1 3 3 4 8 1 3 6 4 8 0 2 1 7 1 4 7 9 3 3 3 7 2 6 9 3 1 1 4 1 1 4 1 4 1\n",
      " 3 2 2 7 1 3 1 6 9 3 4 9 5 1 7 2 6 4 0 7 2 1 3 3 7 4 8 6 5 4 1 2 2 7 9 1 2\n",
      " 2 3 8 6 7 1 1 2 7 3 5 0 1 5 8 1 8 0 1 2 0 1 9 6 1 7 2 6 2 4 5 3 5 7 0 1 3\n",
      " 7 9 1 9 8 3 1 5 8 2 8 1 4 4 1 4 3 2 2 3 2 5 2 1 1 2 4 6 1 6 1 8 5 2 3 0 1\n",
      " 5 7 9 1 9 5 3 4 3 5 6 2 6 2 0 0 3 3 6 0 9 0 4 2 3 1 0 7 5 8 7 1 4 6 5 0 5\n",
      " 6 4 7 6 8 3 2 7 4 3 1 2 5 5 1 3 4 6 4 6 7 3 4 8 4 2 4 1 1 4 2 7 1 2 7 2 2\n",
      " 4 6 2 3 5 3 8 5 2 1 2 3 8 9 9 8 2 9 0 4 6 1 5 9 5 4 7 6 6 5 1 1 3 1 4 7 2\n",
      " 6 5 8 1 5 8 6 3 4 2 7 1 2 6 9 4 0 4 3 7 2 0 3 4 4 7 9 1 7 2 3 1 1 4 3 2 5\n",
      " 4 5 5 5 6 5 7 4 4 7 1 2 4 8 2 9 4 5 1 7 2 4 4 8 3 1 2 2 9 7 2 2 1 3 0 8 2\n",
      " 1 8 3 4 1 1 1 8 0 9 5 3 8 1 1 0 4 2 0 1 2 2 4 5 0 5 5 7 3 4 1 6 0 3 8 0 1\n",
      " 3 4 7 1 9 8 2 6 3 3 0 3 4 4 7 6 4 3 5 4 2 2 4 3 3 2 9 3 4 5 4 8 1 2 7 9 3\n",
      " 8 3 9 1 6 0 1 2 0 7 3 5 3 0 1 7 9 4 1 2 5 1 3 1 0 4 4 7 3 1 6 1 2 1 6 8 6\n",
      " 1 1 0 7 8 2 2 5 5 2 7 4 6 3 2 8 7 2 2 3 2 4 9 4 7 8 2 2 3 8 5 4 6 8 5 6 2\n",
      " 6 3 1 7 5 8 5 1 3 7 2 5 7 4 2 3 3 7 7 1 0 5 1 5 1 3 0 1 5 4 8 1 7 3 3 7 6\n",
      " 3 0 5 9 2 3 9 0 2 8 2 9 5 9 5 1 1 2 8 2 4 5 0 8 9 1 3 1 3 6 7 9 1 4 9 4 4\n",
      " 7 5 1 2 3 6 3 0 2 0 3 1 2 4 3 4 6 2 2 3 1 5 7 6 4 6 6 3 2 1 5 0 5 1 3 7 4\n",
      " 0 3 0 4 5 6 2 2 9 6 4 4 3 2 8 1 3 5 1 1 9 8 2 4 1 0 1 1 8 7 1 4 5 5 5 7 5\n",
      " 1 8 9 2 4 4 9 1 9 1 1 2 0 6 1 6 8 5 3 3 5 7 0 5 0 4 6 5 2 9 5 3 8 2 4 2 5\n",
      " 1 5 2 7 5 1 5 8 3 2 9 4 4 0 2 5 3 1 4 0 6 4 2 1 2 3 4 4 6 2 2 2 5 3 2 0 1\n",
      " 2 4 5 2 5 4 2 4 7 0 2 1 3 2 1 9 4 2 2 6 2 8 5 7 6 1 2 3 7 3 7 2 2 5 1 3 5\n",
      " 1 6 4 5 4 2 3 3 1 1 7 1 2 1 8 2 6 7 8 9 9 1 6 5 5 3 3 1 5 1 4 3 1 2 1 5 1\n",
      " 3 5 3 4 9 2 0 5 7 5 9 5 6 8 4 2 6 4 0 1 8 5 2 7 4 1 7 9 9 1 6 8 1 2 4 1 2\n",
      " 3 3 8 6 2 7 5 1 4 3 1 0 1 1 1 0 6 1 3 7 5 1 8 2 6 5 1 3 9 8 8 2 6 4 1 1 3\n",
      " 9 8 6 0 1 4 8 4 1 4 0 2 5 5 6 8 1 5 7 2 1 3 2 2 0 3 6 8 8 1 3 9 1 6 3 7 1\n",
      " 2 2 3 2 6 3 1 2 2 5 1 6 1 1 7 5 2 1 0 6 2 4 6 0 4 0 4 4 4 4 1 9 3 4 8 9 6\n",
      " 2 7 4 1 1 8 1 2 3 5 1 4 1 4 5 6 1 3 0 4 9 3 3 9 0 1 2 3 1 8 4 1 7 6 0 7 2\n",
      " 4]\n"
     ]
    }
   ],
   "source": [
    "print(pred, '\\n', val_y)"
   ]
  },
  {
   "cell_type": "markdown",
   "metadata": {},
   "source": [
    "### Как и раньше, используем кросс-валидацию для подбора гиперпараметтов.\n",
    "\n",
    "В этот раз, чтобы тренировка занимала разумное время, мы будем использовать только одно разделение на тренировочные (training) и проверочные (validation) данные.\n",
    "\n",
    "Теперь нам нужно подобрать не один, а два гиперпараметра! Не ограничивайте себя изначальными значениями в коде.  \n",
    "Добейтесь точности более чем **20%** на проверочных данных (validation data)."
   ]
  },
  {
   "cell_type": "code",
   "execution_count": 15,
   "metadata": {},
   "outputs": [
    {
     "name": "stdout",
     "output_type": "stream",
     "text": [
      "[[ 0.02099569 -0.10307294 -0.10334431 ... -0.0850549  -0.04187725\n",
      "   1.        ]\n",
      " [-0.11233765 -0.11091608  0.02214588 ...  0.13455294  0.20126\n",
      "   1.        ]\n",
      " [ 0.0445251   0.03026039  0.00253804 ... -0.12034902 -0.11246549\n",
      "   1.        ]\n",
      " ...\n",
      " [ 0.11119176  0.17928     0.1946949  ...  0.07572941  0.04439725\n",
      "   1.        ]\n",
      " [ 0.47981922  0.49692706  0.48881255 ... -0.20270196 -0.21442627\n",
      "   1.        ]\n",
      " [ 0.41707412  0.43418196  0.42606745 ...  0.42474902  0.40518157\n",
      "   1.        ]]\n",
      "[1 4 2 ... 2 3 2]\n"
     ]
    }
   ],
   "source": [
    "train_folds_X = np.array(np.array_split(train_X, 2));\n",
    "train_folds_y = np.array(np.array_split(train_y, 2));\n",
    "validation_y = train_folds_y[1];\n",
    "print(np.concatenate((train_folds_X[:1], train_folds_X[2:]), axis=None)\\\n",
    "     .reshape((-1, train_X.shape[1])));\n",
    "print(np.concatenate((train_folds_y[:1], train_folds_y[2:]),\\\n",
    "        axis=None).reshape((train_y.shape[0] - validation_y.shape[0])));"
   ]
  },
  {
   "cell_type": "code",
   "execution_count": 50,
   "metadata": {},
   "outputs": [
    {
     "name": "stdout",
     "output_type": "stream",
     "text": [
      "parameters:  [(0.001, 10.0), (0.001, 1.0), (0.001, 0.1), (0.0001, 10.0), (0.0001, 1.0), (0.0001, 0.1), (1e-05, 10.0), (1e-05, 1.0), (1e-05, 0.1)]\n",
      "k = (0.0010000000, 10.0000000000), j = 0\n",
      "number_fold =  0\n",
      "Interrupt cycle of epochs(on epoch 38) for reason small difference losses between fit batches: 2.302004\n",
      "number_fold =  1\n",
      "Interrupt cycle of epochs(on epoch 35) for reason small difference losses between fit batches: 2.302025\n",
      "k = (0.0010000000, 1.0000000000), j = 1\n",
      "number_fold =  0\n",
      "End epohs, loss_last: 2.294584\n",
      "number_fold =  1\n",
      "Interrupt cycle of epochs(on epoch 166) for reason small difference losses between fit batches: 2.291086\n",
      "k = (0.0010000000, 0.1000000000), j = 2\n",
      "number_fold =  0\n",
      "End epohs, loss_last: 2.280109\n",
      "number_fold =  1\n",
      "End epohs, loss_last: 2.255402\n",
      "k = (0.0001000000, 10.0000000000), j = 3\n",
      "number_fold =  0\n",
      "Interrupt cycle of epochs(on epoch 127) for reason small difference losses between fit batches: 2.301236\n",
      "number_fold =  1\n",
      "End epohs, loss_last: 2.301697\n",
      "k = (0.0001000000, 1.0000000000), j = 4\n",
      "number_fold =  0\n",
      "Interrupt cycle of epochs(on epoch 135) for reason small difference losses between fit batches: 2.310164\n",
      "number_fold =  1\n",
      "Interrupt cycle of epochs(on epoch 85) for reason small difference losses between fit batches: 2.315089\n",
      "k = (0.0001000000, 0.1000000000), j = 5\n",
      "number_fold =  0\n",
      "Interrupt cycle of epochs(on epoch 192) for reason small difference losses between fit batches: 2.297340\n",
      "number_fold =  1\n",
      "End epohs, loss_last: 2.293267\n",
      "k = (0.0000100000, 10.0000000000), j = 6\n",
      "number_fold =  0\n",
      "Interrupt cycle of epochs(on epoch 94) for reason small difference losses between fit batches: 2.474515\n",
      "number_fold =  1\n",
      "Interrupt cycle of epochs(on epoch 109) for reason small difference losses between fit batches: 2.461508\n",
      "k = (0.0000100000, 1.0000000000), j = 7\n",
      "number_fold =  0\n",
      "Interrupt cycle of epochs(on epoch 120) for reason small difference losses between fit batches: 2.330681\n",
      "number_fold =  1\n",
      "Interrupt cycle of epochs(on epoch 187) for reason small difference losses between fit batches: 2.329374\n",
      "k = (0.0000100000, 0.1000000000), j = 8\n",
      "number_fold =  0\n",
      "Interrupt cycle of epochs(on epoch 11) for reason small difference losses between fit batches: 2.306699\n",
      "number_fold =  1\n",
      "Interrupt cycle of epochs(on epoch 10) for reason small difference losses between fit batches: 2.306572\n"
     ]
    }
   ],
   "source": [
    "import itertools\n",
    "num_epochs = 200;\n",
    "batch_size = 300;\n",
    "\n",
    "learning_rates = [1e-3, 1e-4, 1e-5];\n",
    "reg_strengths = [1e1, 1e-0, 1e-1];\n",
    "\n",
    "num_folds = 2;\n",
    "train_folds_X = np.array(np.array_split(train_X, num_folds));\n",
    "train_folds_y = np.array(np.array_split(train_y, num_folds));\n",
    "parameters = list(itertools.product(learning_rates, reg_strengths));\n",
    "print(\"parameters: \", parameters);\n",
    "\n",
    "k_to_accuracy = {};\n",
    "\n",
    "for j, k in enumerate(parameters):\n",
    "# TODO: perform cross-validation\n",
    "    print(\"k = (%.10f, %.10f), j = %i\" % (k[0], k[1], j));\n",
    "    accuracy_k = [];\n",
    "    for i in range(num_folds):\n",
    "        print(\"number_fold = \", i);\n",
    "        \n",
    "        validation_X = train_folds_X[i];\n",
    "        validation_y = train_folds_y[i];\n",
    "        \n",
    "        train_X_i = np.concatenate((train_folds_X[:1], train_folds_X[2:]), axis=None)\\\n",
    "     .reshape((-1, train_X.shape[1]));\n",
    "        \n",
    "        train_y_i =  np.concatenate((train_folds_y[:i], train_folds_y[i+1:]),\\\n",
    "        axis=None).reshape((train_y.shape[0] - validation_y.shape[0]));\n",
    "        \n",
    "        classifier = linear_classifer.LinearSoftmaxClassifier();\n",
    "        classifier.fit(train_X_i, train_y_i, epochs=num_epochs,\\\n",
    "                       learning_rate=k[0], batch_size=batch_size, reg=k[1]);\n",
    "        pred = classifier.predict(validation_X);\n",
    "        accuracy = multiclass_accuracy(pred, validation_y);\n",
    "        accuracy_k.append(accuracy);\n",
    "    k_to_accuracy[j] = sum(accuracy_k)/len(accuracy_k);\n",
    "    \n",
    "index_best = max(k_to_accuracy, key = k_to_accuracy.get);\n",
    "k = parameters[index_best];"
   ]
  },
  {
   "cell_type": "code",
   "execution_count": 51,
   "metadata": {},
   "outputs": [
    {
     "name": "stdout",
     "output_type": "stream",
     "text": [
      "End epohs, loss_last: 2.247191\n",
      "best validation accuracy achieved: 0.190778\n"
     ]
    }
   ],
   "source": [
    "best_classifier = linear_classifer.LinearSoftmaxClassifier();\n",
    "best_classifier.fit(train_X, train_y, epochs=num_epochs,\\\n",
    "                       learning_rate=k[0], batch_size=batch_size, reg=k[1]);\n",
    "best_val_accuracy = k_to_accuracy[index_best];\n",
    "\n",
    "# TODO use validation set to find the best hyperparameters\n",
    "# hint: for best results, you might need to try more values for learning rate and regularization strength \n",
    "# than provided initially\n",
    "\n",
    "print('best validation accuracy achieved: %f' % best_val_accuracy);"
   ]
  },
  {
   "cell_type": "code",
   "execution_count": 52,
   "metadata": {},
   "outputs": [
    {
     "name": "stdout",
     "output_type": "stream",
     "text": [
      "{0: 0.14622222222222223, 1: 0.1631111111111111, 2: 0.19077777777777777, 3: 0.1461111111111111, 4: 0.14822222222222223, 5: 0.15433333333333332, 6: 0.11822222222222223, 7: 0.12366666666666667, 8: 0.09622222222222222}\n",
      "(0.001, 0.1) 2\n"
     ]
    }
   ],
   "source": [
    "print(k_to_accuracy);\n",
    "print(k, index_best);"
   ]
  },
  {
   "cell_type": "markdown",
   "metadata": {},
   "source": [
    "# Какой же точности мы добились на тестовых данных?"
   ]
  },
  {
   "cell_type": "code",
   "execution_count": 53,
   "metadata": {},
   "outputs": [
    {
     "name": "stdout",
     "output_type": "stream",
     "text": [
      "Linear softmax classifier test set accuracy: 0.240000\n"
     ]
    }
   ],
   "source": [
    "test_pred = best_classifier.predict(test_X);\n",
    "test_accuracy = multiclass_accuracy(test_pred, test_y);\n",
    "print('Linear softmax classifier test set accuracy: %f' % (test_accuracy, ));"
   ]
  },
  {
   "cell_type": "code",
   "execution_count": null,
   "metadata": {},
   "outputs": [],
   "source": []
  }
 ],
 "metadata": {
  "kernelspec": {
   "display_name": "Python 3",
   "language": "python",
   "name": "python3"
  },
  "language_info": {
   "codemirror_mode": {
    "name": "ipython",
    "version": 3
   },
   "file_extension": ".py",
   "mimetype": "text/x-python",
   "name": "python",
   "nbconvert_exporter": "python",
   "pygments_lexer": "ipython3",
   "version": "3.7.1"
  }
 },
 "nbformat": 4,
 "nbformat_minor": 2
}
